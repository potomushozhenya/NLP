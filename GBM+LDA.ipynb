{
 "cells": [
  {
   "cell_type": "code",
   "execution_count": 11,
   "id": "e9dab756-2ebc-42c1-8f18-4ad19b29754d",
   "metadata": {},
   "outputs": [
    {
     "name": "stderr",
     "output_type": "stream",
     "text": [
      "[nltk_data] Downloading package stopwords to\n",
      "[nltk_data]     C:\\Users\\zhest\\AppData\\Roaming\\nltk_data...\n",
      "[nltk_data]   Package stopwords is already up-to-date!\n"
     ]
    },
    {
     "name": "stdout",
     "output_type": "stream",
     "text": [
      "(2950,)\n"
     ]
    }
   ],
   "source": [
    "import numpy as np\n",
    "import nltk\n",
    "from sklearn.datasets import fetch_20newsgroups\n",
    "from sklearn.model_selection import train_test_split\n",
    "from sklearn.feature_extraction.text import TfidfVectorizer\n",
    "from sklearn.ensemble import GradientBoostingClassifier\n",
    "from sklearn.metrics import f1_score\n",
    "from gensim.utils import simple_preprocess\n",
    "from gensim.models import TfidfModel, LdaModel\n",
    "from gensim import corpora\n",
    "nltk.download('stopwords')\n",
    "stop_words = nltk.corpus.stopwords.words('english')\n",
    "\n",
    "categories = ['rec.autos', 'comp.graphics', 'sci.space']\n",
    "newsgroup = fetch_20newsgroups(subset='all', categories=categories, shuffle=True, remove=('headers', 'footers', 'quotes'))\n",
    "print(newsgroup.filenames.shape)"
   ]
  },
  {
   "cell_type": "code",
   "execution_count": 12,
   "id": "2f11a159-f0a0-40d3-a3a8-19f2515f505d",
   "metadata": {},
   "outputs": [],
   "source": [
    "tokenized_documents = [simple_preprocess(text) for text in newsgroup.data]\n",
    "dictionary = corpora.Dictionary(tokenized_documents)\n",
    "bow_corpus = [dictionary.doc2bow(doc) for doc in tokenized_documents]\n",
    "modelTf = TfidfModel(bow_corpus)\n",
    "tf_corpus = [modelTf[corpus_item] for corpus_item in bow_corpus]"
   ]
  },
  {
   "cell_type": "code",
   "execution_count": 14,
   "id": "69487c68-5a3c-47ba-8eb7-659cd03d7f40",
   "metadata": {},
   "outputs": [],
   "source": [
    "def train(X_train, X_test, y_train, y_test, n):\n",
    "    clf = GradientBoostingClassifier(n_estimators=n)\n",
    "    clf.fit(X_train, y_train)\n",
    "    y_pred = clf.predict(X_test)\n",
    "    return f1_score(y_test, y_pred, average='weighted')"
   ]
  },
  {
   "cell_type": "code",
   "execution_count": 18,
   "id": "07ccbbac-1eb4-421c-b741-81a29f22c47b",
   "metadata": {},
   "outputs": [
    {
     "name": "stdout",
     "output_type": "stream",
     "text": [
      "N:10, M:400, result is 0.7971053604995423\n",
      "N:15, M:25, result is 0.7763358311039796\n",
      "N:20, M:125, result is 0.8175998535075294\n",
      "N:25, M:250, result is 0.8113590178569474\n",
      "N:30, M:400, result is 0.7956720566636029\n",
      "N:40, M:400, result is 0.8172476925762763\n",
      "N:50, M:400, result is 0.7936565003283914\n",
      "N:60, M:50, result is 0.7988522540100861\n",
      "N:70, M:50, result is 0.8080287814627121\n",
      "N:80, M:150, result is 0.8028025166197899\n",
      "N:90, M:350, result is 0.8005270573351136\n",
      "N:100, M:50, result is 0.7848939832170755\n",
      "N:120, M:125, result is 0.8269769513174035\n",
      "N:140, M:250, result is 0.8064579570000345\n",
      "N:160, M:175, result is 0.8141021464058015\n",
      "N:180, M:350, result is 0.7967452913832787\n",
      "N:200, M:350, result is 0.8149528886818705\n"
     ]
    }
   ],
   "source": [
    "for n in [10,15,20,25,30,40,50,60,70,80,90,100,120,140,160,180,200]:\n",
    "    currArr = []\n",
    "    mArr = [25,50,75,100,125,150,175,200,250,300,350,400]\n",
    "    for m in mArr:\n",
    "        lda = LdaModel(bow_corpus, num_topics=n, id2word=dictionary,passes=15, minimum_probability = 0)\n",
    "        vectorized_corpus = lda[bow_corpus]\n",
    "        vectorized_corpus_new = [0 for i in range(2950)]\n",
    "        for i in range(len(vectorized_corpus)):\n",
    "            curr = []\n",
    "            a = vectorized_corpus[i]\n",
    "            length = len(a)\n",
    "            curr = [a[j][1] for j in range(length)]\n",
    "            vectorized_corpus_new[i] = curr\n",
    "        X_train, X_test, y_train, y_test = train_test_split(vectorized_corpus_new, newsgroup.target, test_size=0.33)\n",
    "        currArr.append(train(X_train, X_test, y_train, y_test,m))\n",
    "    currMax = max(currArr)\n",
    "    print(f\"N:{n}, M:{mArr[currArr.index(currMax)]}, result is {currMax}\")    "
   ]
  },
  {
   "cell_type": "code",
   "execution_count": null,
   "id": "439fbf1e-e07f-4404-9be9-9ec0f76d5ad8",
   "metadata": {},
   "outputs": [],
   "source": []
  }
 ],
 "metadata": {
  "kernelspec": {
   "display_name": "Python 3 (ipykernel)",
   "language": "python",
   "name": "python3"
  },
  "language_info": {
   "codemirror_mode": {
    "name": "ipython",
    "version": 3
   },
   "file_extension": ".py",
   "mimetype": "text/x-python",
   "name": "python",
   "nbconvert_exporter": "python",
   "pygments_lexer": "ipython3",
   "version": "3.11.7"
  }
 },
 "nbformat": 4,
 "nbformat_minor": 5
}
