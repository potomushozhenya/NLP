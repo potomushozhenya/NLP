{
 "cells": [
  {
   "cell_type": "code",
   "execution_count": 1,
   "id": "da11ec82-741b-4d8e-8f86-ac3dc3abce53",
   "metadata": {},
   "outputs": [
    {
     "name": "stderr",
     "output_type": "stream",
     "text": [
      "[nltk_data] Downloading package stopwords to\n",
      "[nltk_data]     C:\\Users\\zhest\\AppData\\Roaming\\nltk_data...\n",
      "[nltk_data]   Package stopwords is already up-to-date!\n",
      "[nltk_data] Downloading package punkt to\n",
      "[nltk_data]     C:\\Users\\zhest\\AppData\\Roaming\\nltk_data...\n",
      "[nltk_data]   Package punkt is already up-to-date!\n",
      "[nltk_data] Downloading package wordnet to\n",
      "[nltk_data]     C:\\Users\\zhest\\AppData\\Roaming\\nltk_data...\n",
      "[nltk_data]   Package wordnet is already up-to-date!\n"
     ]
    }
   ],
   "source": [
    "import numpy as np\n",
    "from sklearn.datasets import fetch_20newsgroups\n",
    "from nltk.stem import WordNetLemmatizer, PorterStemmer\n",
    "from nltk.corpus import stopwords\n",
    "from nltk import word_tokenize\n",
    "import nltk\n",
    "from sklearn.feature_extraction.text import CountVectorizer, TfidfVectorizer\n",
    "from sklearn.model_selection import train_test_split\n",
    "from sklearn.neural_network import MLPClassifier\n",
    "from sklearn.metrics import f1_score\n",
    "from gensim.utils import simple_preprocess\n",
    "from gensim.models import LsiModel, LdaModel\n",
    "from gensim import corpora\n",
    "import spacy\n",
    "\n",
    "nltk.download('stopwords')\n",
    "nltk.download('punkt')\n",
    "nltk.download('wordnet')\n",
    "stop_words = stopwords.words('english')\n",
    "sp = spacy.load('en_core_web_lg')\n",
    "\n",
    "categories = ['rec.autos', 'comp.graphics', 'sci.space']\n",
    "newsgroup = fetch_20newsgroups(categories=categories, shuffle=True)\n",
    "data = newsgroup.data\n",
    "target = newsgroup.target"
   ]
  },
  {
   "cell_type": "code",
   "execution_count": 2,
   "id": "53a1d702-4890-4110-a541-fbfd19f4ee7c",
   "metadata": {},
   "outputs": [],
   "source": [
    "def lemmatizeNLTK(input):\n",
    "    lemmatizer = WordNetLemmatizer()\n",
    "    #Tokenizers divide strings into lists of substrings\n",
    "    wordList = word_tokenize(input)\n",
    "    output = ' '.join([lemmatizer.lemmatize(w) for w in wordList])\n",
    "    return output"
   ]
  },
  {
   "cell_type": "code",
   "execution_count": 3,
   "id": "a3736945-9041-468d-a0fb-1159c25db288",
   "metadata": {},
   "outputs": [],
   "source": [
    "def lemmatizeSpacy(input):\n",
    "    doc = sp(input)\n",
    "    #Tokenizers divide strings into lists of substrings\n",
    "    output = ' '.join([w.lemma_ for w in doc])\n",
    "    return output"
   ]
  },
  {
   "cell_type": "code",
   "execution_count": 4,
   "id": "4426225b-036c-45d8-850b-532d561aaf1f",
   "metadata": {},
   "outputs": [],
   "source": [
    "def NExt(input):\n",
    "    output=\"\"\n",
    "    doc = sp(input)\n",
    "    for w in doc:\n",
    "        if w.pos_==\"NOUN\":\n",
    "            output+=w.text+\" \"\n",
    "    output = output[:-1]\n",
    "    return output"
   ]
  },
  {
   "cell_type": "code",
   "execution_count": 5,
   "id": "d041e8f7-057d-49df-b593-6017718697fe",
   "metadata": {},
   "outputs": [],
   "source": [
    "def NAExt(input):\n",
    "    output=\"\"\n",
    "    doc = sp(input)\n",
    "    for w in doc:\n",
    "        if w.pos_ in [\"NOUN\",\"ADJ\"]:\n",
    "            output+=w.text+\" \"\n",
    "    output = output[:-1]\n",
    "    return output"
   ]
  },
  {
   "cell_type": "code",
   "execution_count": 6,
   "id": "2020f807-9fd3-4844-b4e3-d8f4b25d6880",
   "metadata": {},
   "outputs": [],
   "source": [
    "def NAVExt(input):\n",
    "    output=\"\"\n",
    "    doc = sp(input)\n",
    "    for w in doc:\n",
    "        if w.pos_ in [\"NOUN\",\"ADJ\",\"VERB\"]:\n",
    "            output+=w.text+\" \"\n",
    "    output = output[:-1]\n",
    "    return output"
   ]
  },
  {
   "cell_type": "code",
   "execution_count": 7,
   "id": "10de368c-e648-4324-997a-77aa4295b1e6",
   "metadata": {},
   "outputs": [],
   "source": [
    "def NVExt(input):\n",
    "    output=\"\"\n",
    "    doc = sp(input)\n",
    "    for w in doc:\n",
    "        if w.pos_ in [\"NOUN\",\"VERB\"]:\n",
    "            output+=w.text+\" \"\n",
    "    output = output[:-1]\n",
    "    return output"
   ]
  },
  {
   "cell_type": "code",
   "execution_count": 8,
   "id": "d393a7b0-eacc-4152-a6e6-6f69835d9e04",
   "metadata": {},
   "outputs": [],
   "source": [
    "def train(x_train, x_test, y_train, y_test, clf):\n",
    "    clf.fit(x_train, y_train)\n",
    "    y_pred = clf.predict(x_test)\n",
    "    return f1_score(y_test, y_pred, average='weighted')"
   ]
  },
  {
   "cell_type": "code",
   "execution_count": 9,
   "id": "8fc0e866-8a50-4cdf-81e2-6fcb7740244c",
   "metadata": {},
   "outputs": [],
   "source": [
    "def textProcessing(unprocessedTexts, function=None):\n",
    "    if function is None:\n",
    "        return unprocessedTexts\n",
    "    return [function(text) for text in unprocessedTexts]"
   ]
  },
  {
   "cell_type": "code",
   "execution_count": null,
   "id": "2db62233-a841-4925-850b-4492d9d4ca71",
   "metadata": {},
   "outputs": [
    {
     "name": "stdout",
     "output_type": "stream",
     "text": [
      "None None BoW 100 identity lbfgs 1: 0.9607670868596317\n",
      "None None BoW 100 identity lbfgs 10: 0.9641684552805725\n",
      "None None BoW 100 identity lbfgs 15: 0.9607714472002739\n",
      "None None BoW 100 identity lbfgs 25: 0.9660294151966398\n",
      "None None BoW 100 identity lbfgs 40: 0.9573924650847729\n"
     ]
    },
    {
     "name": "stderr",
     "output_type": "stream",
     "text": [
      "C:\\Users\\zhest\\PycharmProjects\\LSINewsGroup\\.venv\\Lib\\site-packages\\sklearn\\neural_network\\_multilayer_perceptron.py:691: ConvergenceWarning: Stochastic Optimizer: Maximum iterations (100) reached and the optimization hasn't converged yet.\n",
      "  warnings.warn(\n"
     ]
    },
    {
     "name": "stdout",
     "output_type": "stream",
     "text": [
      "None None BoW 100 identity sgd 1: 0.9506568192277054\n"
     ]
    },
    {
     "name": "stderr",
     "output_type": "stream",
     "text": [
      "C:\\Users\\zhest\\PycharmProjects\\LSINewsGroup\\.venv\\Lib\\site-packages\\sklearn\\neural_network\\_multilayer_perceptron.py:691: ConvergenceWarning: Stochastic Optimizer: Maximum iterations (100) reached and the optimization hasn't converged yet.\n",
      "  warnings.warn(\n"
     ]
    },
    {
     "name": "stdout",
     "output_type": "stream",
     "text": [
      "None None BoW 100 identity sgd 10: 0.9523125970546967\n"
     ]
    },
    {
     "name": "stderr",
     "output_type": "stream",
     "text": [
      "C:\\Users\\zhest\\PycharmProjects\\LSINewsGroup\\.venv\\Lib\\site-packages\\sklearn\\neural_network\\_multilayer_perceptron.py:691: ConvergenceWarning: Stochastic Optimizer: Maximum iterations (100) reached and the optimization hasn't converged yet.\n",
      "  warnings.warn(\n"
     ]
    },
    {
     "name": "stdout",
     "output_type": "stream",
     "text": [
      "None None BoW 100 identity sgd 15: 0.9489524109476976\n"
     ]
    },
    {
     "name": "stderr",
     "output_type": "stream",
     "text": [
      "C:\\Users\\zhest\\PycharmProjects\\LSINewsGroup\\.venv\\Lib\\site-packages\\sklearn\\neural_network\\_multilayer_perceptron.py:691: ConvergenceWarning: Stochastic Optimizer: Maximum iterations (100) reached and the optimization hasn't converged yet.\n",
      "  warnings.warn(\n"
     ]
    },
    {
     "name": "stdout",
     "output_type": "stream",
     "text": [
      "None None BoW 100 identity sgd 25: 0.9523435381326548\n"
     ]
    },
    {
     "name": "stderr",
     "output_type": "stream",
     "text": [
      "C:\\Users\\zhest\\PycharmProjects\\LSINewsGroup\\.venv\\Lib\\site-packages\\sklearn\\neural_network\\_multilayer_perceptron.py:691: ConvergenceWarning: Stochastic Optimizer: Maximum iterations (100) reached and the optimization hasn't converged yet.\n",
      "  warnings.warn(\n"
     ]
    },
    {
     "name": "stdout",
     "output_type": "stream",
     "text": [
      "None None BoW 100 identity sgd 40: 0.9523189625821245\n",
      "None None BoW 100 identity adam 1: 0.9728066362218275\n",
      "None None BoW 100 identity adam 10: 0.9743021597412799\n",
      "None None BoW 100 identity adam 15: 0.9711143989428662\n",
      "None None BoW 100 identity adam 25: 0.9761431192357437\n",
      "None None BoW 100 identity adam 40: 0.9744938288053469\n",
      "None None BoW 100 logistic lbfgs 1: 0.9573122879309076\n",
      "None None BoW 100 logistic lbfgs 10: 0.953793628752397\n",
      "None None BoW 100 logistic lbfgs 15: 0.9676024973819581\n",
      "None None BoW 100 logistic lbfgs 25: 0.9624887935442479\n",
      "None None BoW 100 logistic lbfgs 40: 0.9589475101217019\n"
     ]
    },
    {
     "name": "stderr",
     "output_type": "stream",
     "text": [
      "C:\\Users\\zhest\\PycharmProjects\\LSINewsGroup\\.venv\\Lib\\site-packages\\sklearn\\neural_network\\_multilayer_perceptron.py:691: ConvergenceWarning: Stochastic Optimizer: Maximum iterations (100) reached and the optimization hasn't converged yet.\n",
      "  warnings.warn(\n"
     ]
    },
    {
     "name": "stdout",
     "output_type": "stream",
     "text": [
      "None None BoW 100 logistic sgd 1: 0.8803232737275682\n"
     ]
    },
    {
     "name": "stderr",
     "output_type": "stream",
     "text": [
      "C:\\Users\\zhest\\PycharmProjects\\LSINewsGroup\\.venv\\Lib\\site-packages\\sklearn\\neural_network\\_multilayer_perceptron.py:691: ConvergenceWarning: Stochastic Optimizer: Maximum iterations (100) reached and the optimization hasn't converged yet.\n",
      "  warnings.warn(\n"
     ]
    },
    {
     "name": "stdout",
     "output_type": "stream",
     "text": [
      "None None BoW 100 logistic sgd 10: 0.8783364332350969\n"
     ]
    },
    {
     "name": "stderr",
     "output_type": "stream",
     "text": [
      "C:\\Users\\zhest\\PycharmProjects\\LSINewsGroup\\.venv\\Lib\\site-packages\\sklearn\\neural_network\\_multilayer_perceptron.py:691: ConvergenceWarning: Stochastic Optimizer: Maximum iterations (100) reached and the optimization hasn't converged yet.\n",
      "  warnings.warn(\n"
     ]
    },
    {
     "name": "stdout",
     "output_type": "stream",
     "text": [
      "None None BoW 100 logistic sgd 15: 0.8918341605267575\n"
     ]
    },
    {
     "name": "stderr",
     "output_type": "stream",
     "text": [
      "C:\\Users\\zhest\\PycharmProjects\\LSINewsGroup\\.venv\\Lib\\site-packages\\sklearn\\neural_network\\_multilayer_perceptron.py:691: ConvergenceWarning: Stochastic Optimizer: Maximum iterations (100) reached and the optimization hasn't converged yet.\n",
      "  warnings.warn(\n"
     ]
    },
    {
     "name": "stdout",
     "output_type": "stream",
     "text": [
      "None None BoW 100 logistic sgd 25: 0.8836300961593652\n"
     ]
    },
    {
     "name": "stderr",
     "output_type": "stream",
     "text": [
      "C:\\Users\\zhest\\PycharmProjects\\LSINewsGroup\\.venv\\Lib\\site-packages\\sklearn\\neural_network\\_multilayer_perceptron.py:691: ConvergenceWarning: Stochastic Optimizer: Maximum iterations (100) reached and the optimization hasn't converged yet.\n",
      "  warnings.warn(\n"
     ]
    },
    {
     "name": "stdout",
     "output_type": "stream",
     "text": [
      "None None BoW 100 logistic sgd 40: 0.8800947979895347\n",
      "None None BoW 100 logistic adam 1: 0.9795744906052499\n",
      "None None BoW 100 logistic adam 10: 0.9778453025868156\n",
      "None None BoW 100 logistic adam 15: 0.9761967619851786\n",
      "None None BoW 100 logistic adam 25: 0.9778624712468343\n",
      "None None BoW 100 logistic adam 40: 0.9778624712468343\n",
      "None None BoW 100 tanh lbfgs 1: 0.9589701060717888\n",
      "None None BoW 100 tanh lbfgs 10: 0.9642192438609669\n",
      "None None BoW 100 tanh lbfgs 15: 0.9590634353805709\n",
      "None None BoW 100 tanh lbfgs 25: 0.9675793662688886\n",
      "None None BoW 100 tanh lbfgs 40: 0.9658165799584525\n"
     ]
    },
    {
     "name": "stderr",
     "output_type": "stream",
     "text": [
      "C:\\Users\\zhest\\PycharmProjects\\LSINewsGroup\\.venv\\Lib\\site-packages\\sklearn\\neural_network\\_multilayer_perceptron.py:691: ConvergenceWarning: Stochastic Optimizer: Maximum iterations (100) reached and the optimization hasn't converged yet.\n",
      "  warnings.warn(\n"
     ]
    },
    {
     "name": "stdout",
     "output_type": "stream",
     "text": [
      "None None BoW 100 tanh sgd 1: 0.9506568192277054\n"
     ]
    },
    {
     "name": "stderr",
     "output_type": "stream",
     "text": [
      "C:\\Users\\zhest\\PycharmProjects\\LSINewsGroup\\.venv\\Lib\\site-packages\\sklearn\\neural_network\\_multilayer_perceptron.py:691: ConvergenceWarning: Stochastic Optimizer: Maximum iterations (100) reached and the optimization hasn't converged yet.\n",
      "  warnings.warn(\n"
     ]
    },
    {
     "name": "stdout",
     "output_type": "stream",
     "text": [
      "None None BoW 100 tanh sgd 10: 0.9523125970546967\n"
     ]
    },
    {
     "name": "stderr",
     "output_type": "stream",
     "text": [
      "C:\\Users\\zhest\\PycharmProjects\\LSINewsGroup\\.venv\\Lib\\site-packages\\sklearn\\neural_network\\_multilayer_perceptron.py:691: ConvergenceWarning: Stochastic Optimizer: Maximum iterations (100) reached and the optimization hasn't converged yet.\n",
      "  warnings.warn(\n"
     ]
    },
    {
     "name": "stdout",
     "output_type": "stream",
     "text": [
      "None None BoW 100 tanh sgd 15: 0.9489524109476976\n"
     ]
    },
    {
     "name": "stderr",
     "output_type": "stream",
     "text": [
      "C:\\Users\\zhest\\PycharmProjects\\LSINewsGroup\\.venv\\Lib\\site-packages\\sklearn\\neural_network\\_multilayer_perceptron.py:691: ConvergenceWarning: Stochastic Optimizer: Maximum iterations (100) reached and the optimization hasn't converged yet.\n",
      "  warnings.warn(\n"
     ]
    },
    {
     "name": "stdout",
     "output_type": "stream",
     "text": [
      "None None BoW 100 tanh sgd 25: 0.9523435381326548\n"
     ]
    },
    {
     "name": "stderr",
     "output_type": "stream",
     "text": [
      "C:\\Users\\zhest\\PycharmProjects\\LSINewsGroup\\.venv\\Lib\\site-packages\\sklearn\\neural_network\\_multilayer_perceptron.py:691: ConvergenceWarning: Stochastic Optimizer: Maximum iterations (100) reached and the optimization hasn't converged yet.\n",
      "  warnings.warn(\n"
     ]
    },
    {
     "name": "stdout",
     "output_type": "stream",
     "text": [
      "None None BoW 100 tanh sgd 40: 0.9523189625821245\n",
      "None None BoW 100 tanh adam 1: 0.9728066362218275\n",
      "None None BoW 100 tanh adam 10: 0.976044206552062\n",
      "None None BoW 100 tanh adam 15: 0.9727909245276168\n",
      "None None BoW 100 tanh adam 25: 0.979525125477272\n",
      "None None BoW 100 tanh adam 40: 0.976178273346463\n",
      "None None BoW 100 relu lbfgs 1: 0.9675479832727114\n",
      "None None BoW 100 relu lbfgs 10: 0.9641659423912082\n",
      "None None BoW 100 relu lbfgs 15: 0.9624807676115522\n",
      "None None BoW 100 relu lbfgs 25: 0.9607099342336163\n",
      "None None BoW 100 relu lbfgs 40: 0.9641685268281787\n"
     ]
    },
    {
     "name": "stderr",
     "output_type": "stream",
     "text": [
      "C:\\Users\\zhest\\PycharmProjects\\LSINewsGroup\\.venv\\Lib\\site-packages\\sklearn\\neural_network\\_multilayer_perceptron.py:691: ConvergenceWarning: Stochastic Optimizer: Maximum iterations (100) reached and the optimization hasn't converged yet.\n",
      "  warnings.warn(\n"
     ]
    },
    {
     "name": "stdout",
     "output_type": "stream",
     "text": [
      "None None BoW 100 relu sgd 1: 0.9506568192277054\n"
     ]
    },
    {
     "name": "stderr",
     "output_type": "stream",
     "text": [
      "C:\\Users\\zhest\\PycharmProjects\\LSINewsGroup\\.venv\\Lib\\site-packages\\sklearn\\neural_network\\_multilayer_perceptron.py:691: ConvergenceWarning: Stochastic Optimizer: Maximum iterations (100) reached and the optimization hasn't converged yet.\n",
      "  warnings.warn(\n"
     ]
    },
    {
     "name": "stdout",
     "output_type": "stream",
     "text": [
      "None None BoW 100 relu sgd 10: 0.9506304075948732\n"
     ]
    },
    {
     "name": "stderr",
     "output_type": "stream",
     "text": [
      "C:\\Users\\zhest\\PycharmProjects\\LSINewsGroup\\.venv\\Lib\\site-packages\\sklearn\\neural_network\\_multilayer_perceptron.py:691: ConvergenceWarning: Stochastic Optimizer: Maximum iterations (100) reached and the optimization hasn't converged yet.\n",
      "  warnings.warn(\n"
     ]
    },
    {
     "name": "stdout",
     "output_type": "stream",
     "text": [
      "None None BoW 100 relu sgd 15: 0.9472650833712664\n"
     ]
    },
    {
     "name": "stderr",
     "output_type": "stream",
     "text": [
      "C:\\Users\\zhest\\PycharmProjects\\LSINewsGroup\\.venv\\Lib\\site-packages\\sklearn\\neural_network\\_multilayer_perceptron.py:691: ConvergenceWarning: Stochastic Optimizer: Maximum iterations (100) reached and the optimization hasn't converged yet.\n",
      "  warnings.warn(\n"
     ]
    },
    {
     "name": "stdout",
     "output_type": "stream",
     "text": [
      "None None BoW 100 relu sgd 25: 0.954056988116394\n"
     ]
    },
    {
     "name": "stderr",
     "output_type": "stream",
     "text": [
      "C:\\Users\\zhest\\PycharmProjects\\LSINewsGroup\\.venv\\Lib\\site-packages\\sklearn\\neural_network\\_multilayer_perceptron.py:691: ConvergenceWarning: Stochastic Optimizer: Maximum iterations (100) reached and the optimization hasn't converged yet.\n",
      "  warnings.warn(\n"
     ]
    },
    {
     "name": "stdout",
     "output_type": "stream",
     "text": [
      "None None BoW 100 relu sgd 40: 0.9472395663239036\n",
      "None None BoW 100 relu adam 1: 0.9778453025868156\n",
      "None None BoW 100 relu adam 10: 0.9778189085388853\n",
      "None None BoW 100 relu adam 15: 0.9778453025868156\n",
      "None None BoW 100 relu adam 25: 0.9778770988375507\n",
      "None None BoW 100 relu adam 40: 0.9761338779505133\n",
      "None None BoW 125 identity lbfgs 1: 0.9607670868596317\n",
      "None None BoW 125 identity lbfgs 10: 0.9641684552805725\n",
      "None None BoW 125 identity lbfgs 15: 0.9607714472002739\n",
      "None None BoW 125 identity lbfgs 25: 0.9660294151966398\n",
      "None None BoW 125 identity lbfgs 40: 0.9573924650847729\n"
     ]
    },
    {
     "name": "stderr",
     "output_type": "stream",
     "text": [
      "C:\\Users\\zhest\\PycharmProjects\\LSINewsGroup\\.venv\\Lib\\site-packages\\sklearn\\neural_network\\_multilayer_perceptron.py:691: ConvergenceWarning: Stochastic Optimizer: Maximum iterations (125) reached and the optimization hasn't converged yet.\n",
      "  warnings.warn(\n"
     ]
    },
    {
     "name": "stdout",
     "output_type": "stream",
     "text": [
      "None None BoW 125 identity sgd 1: 0.9523415076740978\n"
     ]
    },
    {
     "name": "stderr",
     "output_type": "stream",
     "text": [
      "C:\\Users\\zhest\\PycharmProjects\\LSINewsGroup\\.venv\\Lib\\site-packages\\sklearn\\neural_network\\_multilayer_perceptron.py:691: ConvergenceWarning: Stochastic Optimizer: Maximum iterations (125) reached and the optimization hasn't converged yet.\n",
      "  warnings.warn(\n"
     ]
    },
    {
     "name": "stdout",
     "output_type": "stream",
     "text": [
      "None None BoW 125 identity sgd 10: 0.9573835436757708\n"
     ]
    },
    {
     "name": "stderr",
     "output_type": "stream",
     "text": [
      "C:\\Users\\zhest\\PycharmProjects\\LSINewsGroup\\.venv\\Lib\\site-packages\\sklearn\\neural_network\\_multilayer_perceptron.py:691: ConvergenceWarning: Stochastic Optimizer: Maximum iterations (125) reached and the optimization hasn't converged yet.\n",
      "  warnings.warn(\n"
     ]
    },
    {
     "name": "stdout",
     "output_type": "stream",
     "text": [
      "None None BoW 125 identity sgd 15: 0.9506720342363906\n"
     ]
    },
    {
     "name": "stderr",
     "output_type": "stream",
     "text": [
      "C:\\Users\\zhest\\PycharmProjects\\LSINewsGroup\\.venv\\Lib\\site-packages\\sklearn\\neural_network\\_multilayer_perceptron.py:691: ConvergenceWarning: Stochastic Optimizer: Maximum iterations (125) reached and the optimization hasn't converged yet.\n",
      "  warnings.warn(\n"
     ]
    },
    {
     "name": "stdout",
     "output_type": "stream",
     "text": [
      "None None BoW 125 identity sgd 25: 0.9557436038825615\n"
     ]
    },
    {
     "name": "stderr",
     "output_type": "stream",
     "text": [
      "C:\\Users\\zhest\\PycharmProjects\\LSINewsGroup\\.venv\\Lib\\site-packages\\sklearn\\neural_network\\_multilayer_perceptron.py:691: ConvergenceWarning: Stochastic Optimizer: Maximum iterations (125) reached and the optimization hasn't converged yet.\n",
      "  warnings.warn(\n"
     ]
    },
    {
     "name": "stdout",
     "output_type": "stream",
     "text": [
      "None None BoW 125 identity sgd 40: 0.9540257658676493\n",
      "None None BoW 125 identity adam 1: 0.9728066362218275\n",
      "None None BoW 125 identity adam 10: 0.9743021597412799\n",
      "None None BoW 125 identity adam 15: 0.9711143989428662\n",
      "None None BoW 125 identity adam 25: 0.9761431192357437\n",
      "None None BoW 125 identity adam 40: 0.9744938288053469\n",
      "None None BoW 125 logistic lbfgs 1: 0.9573122879309076\n",
      "None None BoW 125 logistic lbfgs 10: 0.953793628752397\n",
      "None None BoW 125 logistic lbfgs 15: 0.9676024973819581\n",
      "None None BoW 125 logistic lbfgs 25: 0.9624887935442479\n",
      "None None BoW 125 logistic lbfgs 40: 0.9589475101217019\n"
     ]
    },
    {
     "name": "stderr",
     "output_type": "stream",
     "text": [
      "C:\\Users\\zhest\\PycharmProjects\\LSINewsGroup\\.venv\\Lib\\site-packages\\sklearn\\neural_network\\_multilayer_perceptron.py:691: ConvergenceWarning: Stochastic Optimizer: Maximum iterations (125) reached and the optimization hasn't converged yet.\n",
      "  warnings.warn(\n"
     ]
    },
    {
     "name": "stdout",
     "output_type": "stream",
     "text": [
      "None None BoW 125 logistic sgd 1: 0.8852987753059435\n"
     ]
    },
    {
     "name": "stderr",
     "output_type": "stream",
     "text": [
      "C:\\Users\\zhest\\PycharmProjects\\LSINewsGroup\\.venv\\Lib\\site-packages\\sklearn\\neural_network\\_multilayer_perceptron.py:691: ConvergenceWarning: Stochastic Optimizer: Maximum iterations (125) reached and the optimization hasn't converged yet.\n",
      "  warnings.warn(\n"
     ]
    },
    {
     "name": "stdout",
     "output_type": "stream",
     "text": [
      "None None BoW 125 logistic sgd 10: 0.885104795818854\n"
     ]
    },
    {
     "name": "stderr",
     "output_type": "stream",
     "text": [
      "C:\\Users\\zhest\\PycharmProjects\\LSINewsGroup\\.venv\\Lib\\site-packages\\sklearn\\neural_network\\_multilayer_perceptron.py:691: ConvergenceWarning: Stochastic Optimizer: Maximum iterations (125) reached and the optimization hasn't converged yet.\n",
      "  warnings.warn(\n"
     ]
    },
    {
     "name": "stdout",
     "output_type": "stream",
     "text": [
      "None None BoW 125 logistic sgd 15: 0.8935072375932589\n"
     ]
    },
    {
     "name": "stderr",
     "output_type": "stream",
     "text": [
      "C:\\Users\\zhest\\PycharmProjects\\LSINewsGroup\\.venv\\Lib\\site-packages\\sklearn\\neural_network\\_multilayer_perceptron.py:691: ConvergenceWarning: Stochastic Optimizer: Maximum iterations (125) reached and the optimization hasn't converged yet.\n",
      "  warnings.warn(\n"
     ]
    },
    {
     "name": "stdout",
     "output_type": "stream",
     "text": [
      "None None BoW 125 logistic sgd 25: 0.8902989670325406\n"
     ]
    },
    {
     "name": "stderr",
     "output_type": "stream",
     "text": [
      "C:\\Users\\zhest\\PycharmProjects\\LSINewsGroup\\.venv\\Lib\\site-packages\\sklearn\\neural_network\\_multilayer_perceptron.py:691: ConvergenceWarning: Stochastic Optimizer: Maximum iterations (125) reached and the optimization hasn't converged yet.\n",
      "  warnings.warn(\n"
     ]
    },
    {
     "name": "stdout",
     "output_type": "stream",
     "text": [
      "None None BoW 125 logistic sgd 40: 0.8868879950831404\n",
      "None None BoW 125 logistic adam 1: 0.9795744906052499\n",
      "None None BoW 125 logistic adam 10: 0.9778453025868156\n",
      "None None BoW 125 logistic adam 15: 0.9761967619851786\n",
      "None None BoW 125 logistic adam 25: 0.9778624712468343\n",
      "None None BoW 125 logistic adam 40: 0.9778624712468343\n",
      "None None BoW 125 tanh lbfgs 1: 0.9589701060717888\n",
      "None None BoW 125 tanh lbfgs 10: 0.9642192438609669\n",
      "None None BoW 125 tanh lbfgs 15: 0.9590634353805709\n",
      "None None BoW 125 tanh lbfgs 25: 0.9675793662688886\n",
      "None None BoW 125 tanh lbfgs 40: 0.9658165799584525\n"
     ]
    },
    {
     "name": "stderr",
     "output_type": "stream",
     "text": [
      "C:\\Users\\zhest\\PycharmProjects\\LSINewsGroup\\.venv\\Lib\\site-packages\\sklearn\\neural_network\\_multilayer_perceptron.py:691: ConvergenceWarning: Stochastic Optimizer: Maximum iterations (125) reached and the optimization hasn't converged yet.\n",
      "  warnings.warn(\n"
     ]
    },
    {
     "name": "stdout",
     "output_type": "stream",
     "text": [
      "None None BoW 125 tanh sgd 1: 0.9506568192277054\n"
     ]
    },
    {
     "name": "stderr",
     "output_type": "stream",
     "text": [
      "C:\\Users\\zhest\\PycharmProjects\\LSINewsGroup\\.venv\\Lib\\site-packages\\sklearn\\neural_network\\_multilayer_perceptron.py:691: ConvergenceWarning: Stochastic Optimizer: Maximum iterations (125) reached and the optimization hasn't converged yet.\n",
      "  warnings.warn(\n"
     ]
    },
    {
     "name": "stdout",
     "output_type": "stream",
     "text": [
      "None None BoW 125 tanh sgd 10: 0.9573835436757708\n"
     ]
    },
    {
     "name": "stderr",
     "output_type": "stream",
     "text": [
      "C:\\Users\\zhest\\PycharmProjects\\LSINewsGroup\\.venv\\Lib\\site-packages\\sklearn\\neural_network\\_multilayer_perceptron.py:691: ConvergenceWarning: Stochastic Optimizer: Maximum iterations (125) reached and the optimization hasn't converged yet.\n",
      "  warnings.warn(\n"
     ]
    },
    {
     "name": "stdout",
     "output_type": "stream",
     "text": [
      "None None BoW 125 tanh sgd 15: 0.9523544923048646\n"
     ]
    },
    {
     "name": "stderr",
     "output_type": "stream",
     "text": [
      "C:\\Users\\zhest\\PycharmProjects\\LSINewsGroup\\.venv\\Lib\\site-packages\\sklearn\\neural_network\\_multilayer_perceptron.py:691: ConvergenceWarning: Stochastic Optimizer: Maximum iterations (125) reached and the optimization hasn't converged yet.\n",
      "  warnings.warn(\n"
     ]
    },
    {
     "name": "stdout",
     "output_type": "stream",
     "text": [
      "None None BoW 125 tanh sgd 25: 0.9557436038825615\n"
     ]
    },
    {
     "name": "stderr",
     "output_type": "stream",
     "text": [
      "C:\\Users\\zhest\\PycharmProjects\\LSINewsGroup\\.venv\\Lib\\site-packages\\sklearn\\neural_network\\_multilayer_perceptron.py:691: ConvergenceWarning: Stochastic Optimizer: Maximum iterations (125) reached and the optimization hasn't converged yet.\n",
      "  warnings.warn(\n"
     ]
    },
    {
     "name": "stdout",
     "output_type": "stream",
     "text": [
      "None None BoW 125 tanh sgd 40: 0.9540257658676493\n",
      "None None BoW 125 tanh adam 1: 0.9728066362218275\n",
      "None None BoW 125 tanh adam 10: 0.976044206552062\n",
      "None None BoW 125 tanh adam 15: 0.9727909245276168\n",
      "None None BoW 125 tanh adam 25: 0.979525125477272\n",
      "None None BoW 125 tanh adam 40: 0.976178273346463\n",
      "None None BoW 125 relu lbfgs 1: 0.9675479832727114\n",
      "None None BoW 125 relu lbfgs 10: 0.9641659423912082\n",
      "None None BoW 125 relu lbfgs 15: 0.9624807676115522\n",
      "None None BoW 125 relu lbfgs 25: 0.9607099342336163\n",
      "None None BoW 125 relu lbfgs 40: 0.9641685268281787\n"
     ]
    },
    {
     "name": "stderr",
     "output_type": "stream",
     "text": [
      "C:\\Users\\zhest\\PycharmProjects\\LSINewsGroup\\.venv\\Lib\\site-packages\\sklearn\\neural_network\\_multilayer_perceptron.py:691: ConvergenceWarning: Stochastic Optimizer: Maximum iterations (125) reached and the optimization hasn't converged yet.\n",
      "  warnings.warn(\n"
     ]
    },
    {
     "name": "stdout",
     "output_type": "stream",
     "text": [
      "None None BoW 125 relu sgd 1: 0.9506568192277054\n"
     ]
    },
    {
     "name": "stderr",
     "output_type": "stream",
     "text": [
      "C:\\Users\\zhest\\PycharmProjects\\LSINewsGroup\\.venv\\Lib\\site-packages\\sklearn\\neural_network\\_multilayer_perceptron.py:691: ConvergenceWarning: Stochastic Optimizer: Maximum iterations (125) reached and the optimization hasn't converged yet.\n",
      "  warnings.warn(\n"
     ]
    },
    {
     "name": "stdout",
     "output_type": "stream",
     "text": [
      "None None BoW 125 relu sgd 10: 0.9523125970546967\n"
     ]
    },
    {
     "name": "stderr",
     "output_type": "stream",
     "text": [
      "C:\\Users\\zhest\\PycharmProjects\\LSINewsGroup\\.venv\\Lib\\site-packages\\sklearn\\neural_network\\_multilayer_perceptron.py:691: ConvergenceWarning: Stochastic Optimizer: Maximum iterations (125) reached and the optimization hasn't converged yet.\n",
      "  warnings.warn(\n"
     ]
    },
    {
     "name": "stdout",
     "output_type": "stream",
     "text": [
      "None None BoW 125 relu sgd 15: 0.9523544923048646\n"
     ]
    },
    {
     "name": "stderr",
     "output_type": "stream",
     "text": [
      "C:\\Users\\zhest\\PycharmProjects\\LSINewsGroup\\.venv\\Lib\\site-packages\\sklearn\\neural_network\\_multilayer_perceptron.py:691: ConvergenceWarning: Stochastic Optimizer: Maximum iterations (125) reached and the optimization hasn't converged yet.\n",
      "  warnings.warn(\n"
     ]
    },
    {
     "name": "stdout",
     "output_type": "stream",
     "text": [
      "None None BoW 125 relu sgd 25: 0.9557692112929361\n"
     ]
    },
    {
     "name": "stderr",
     "output_type": "stream",
     "text": [
      "C:\\Users\\zhest\\PycharmProjects\\LSINewsGroup\\.venv\\Lib\\site-packages\\sklearn\\neural_network\\_multilayer_perceptron.py:691: ConvergenceWarning: Stochastic Optimizer: Maximum iterations (125) reached and the optimization hasn't converged yet.\n",
      "  warnings.warn(\n"
     ]
    },
    {
     "name": "stdout",
     "output_type": "stream",
     "text": [
      "None None BoW 125 relu sgd 40: 0.9523189625821245\n",
      "None None BoW 125 relu adam 1: 0.9778453025868156\n",
      "None None BoW 125 relu adam 10: 0.9778189085388853\n",
      "None None BoW 125 relu adam 15: 0.9778453025868156\n",
      "None None BoW 125 relu adam 25: 0.9778770988375507\n",
      "None None BoW 125 relu adam 40: 0.9761338779505133\n",
      "None None BoW 150 identity lbfgs 1: 0.9607670868596317\n",
      "None None BoW 150 identity lbfgs 10: 0.9641684552805725\n",
      "None None BoW 150 identity lbfgs 15: 0.9607714472002739\n",
      "None None BoW 150 identity lbfgs 25: 0.9660294151966398\n",
      "None None BoW 150 identity lbfgs 40: 0.9573924650847729\n"
     ]
    },
    {
     "name": "stderr",
     "output_type": "stream",
     "text": [
      "C:\\Users\\zhest\\PycharmProjects\\LSINewsGroup\\.venv\\Lib\\site-packages\\sklearn\\neural_network\\_multilayer_perceptron.py:691: ConvergenceWarning: Stochastic Optimizer: Maximum iterations (150) reached and the optimization hasn't converged yet.\n",
      "  warnings.warn(\n"
     ]
    },
    {
     "name": "stdout",
     "output_type": "stream",
     "text": [
      "None None BoW 150 identity sgd 1: 0.9557095132501804\n"
     ]
    },
    {
     "name": "stderr",
     "output_type": "stream",
     "text": [
      "C:\\Users\\zhest\\PycharmProjects\\LSINewsGroup\\.venv\\Lib\\site-packages\\sklearn\\neural_network\\_multilayer_perceptron.py:691: ConvergenceWarning: Stochastic Optimizer: Maximum iterations (150) reached and the optimization hasn't converged yet.\n",
      "  warnings.warn(\n"
     ]
    },
    {
     "name": "stdout",
     "output_type": "stream",
     "text": [
      "None None BoW 150 identity sgd 10: 0.9573835436757708\n"
     ]
    },
    {
     "name": "stderr",
     "output_type": "stream",
     "text": [
      "C:\\Users\\zhest\\PycharmProjects\\LSINewsGroup\\.venv\\Lib\\site-packages\\sklearn\\neural_network\\_multilayer_perceptron.py:691: ConvergenceWarning: Stochastic Optimizer: Maximum iterations (150) reached and the optimization hasn't converged yet.\n",
      "  warnings.warn(\n"
     ]
    },
    {
     "name": "stdout",
     "output_type": "stream",
     "text": [
      "None None BoW 150 identity sgd 15: 0.9523729758267909\n"
     ]
    },
    {
     "name": "stderr",
     "output_type": "stream",
     "text": [
      "C:\\Users\\zhest\\PycharmProjects\\LSINewsGroup\\.venv\\Lib\\site-packages\\sklearn\\neural_network\\_multilayer_perceptron.py:691: ConvergenceWarning: Stochastic Optimizer: Maximum iterations (150) reached and the optimization hasn't converged yet.\n",
      "  warnings.warn(\n"
     ]
    },
    {
     "name": "stdout",
     "output_type": "stream",
     "text": [
      "None None BoW 150 identity sgd 25: 0.9557579115812046\n"
     ]
    },
    {
     "name": "stderr",
     "output_type": "stream",
     "text": [
      "C:\\Users\\zhest\\PycharmProjects\\LSINewsGroup\\.venv\\Lib\\site-packages\\sklearn\\neural_network\\_multilayer_perceptron.py:691: ConvergenceWarning: Stochastic Optimizer: Maximum iterations (150) reached and the optimization hasn't converged yet.\n",
      "  warnings.warn(\n"
     ]
    },
    {
     "name": "stdout",
     "output_type": "stream",
     "text": [
      "None None BoW 150 identity sgd 40: 0.9557136299736348\n",
      "None None BoW 150 identity adam 1: 0.9728066362218275\n",
      "None None BoW 150 identity adam 10: 0.9743021597412799\n",
      "None None BoW 150 identity adam 15: 0.9711143989428662\n",
      "None None BoW 150 identity adam 25: 0.9761431192357437\n",
      "None None BoW 150 identity adam 40: 0.9744938288053469\n",
      "None None BoW 150 logistic lbfgs 1: 0.9573122879309076\n",
      "None None BoW 150 logistic lbfgs 10: 0.953793628752397\n",
      "None None BoW 150 logistic lbfgs 15: 0.9676024973819581\n",
      "None None BoW 150 logistic lbfgs 25: 0.9624887935442479\n",
      "None None BoW 150 logistic lbfgs 40: 0.9589475101217019\n"
     ]
    },
    {
     "name": "stderr",
     "output_type": "stream",
     "text": [
      "C:\\Users\\zhest\\PycharmProjects\\LSINewsGroup\\.venv\\Lib\\site-packages\\sklearn\\neural_network\\_multilayer_perceptron.py:691: ConvergenceWarning: Stochastic Optimizer: Maximum iterations (150) reached and the optimization hasn't converged yet.\n",
      "  warnings.warn(\n"
     ]
    },
    {
     "name": "stdout",
     "output_type": "stream",
     "text": [
      "None None BoW 150 logistic sgd 1: 0.9000431917325102\n"
     ]
    },
    {
     "name": "stderr",
     "output_type": "stream",
     "text": [
      "C:\\Users\\zhest\\PycharmProjects\\LSINewsGroup\\.venv\\Lib\\site-packages\\sklearn\\neural_network\\_multilayer_perceptron.py:691: ConvergenceWarning: Stochastic Optimizer: Maximum iterations (150) reached and the optimization hasn't converged yet.\n",
      "  warnings.warn(\n"
     ]
    },
    {
     "name": "stdout",
     "output_type": "stream",
     "text": [
      "None None BoW 150 logistic sgd 10: 0.8884310896719396\n"
     ]
    },
    {
     "name": "stderr",
     "output_type": "stream",
     "text": [
      "C:\\Users\\zhest\\PycharmProjects\\LSINewsGroup\\.venv\\Lib\\site-packages\\sklearn\\neural_network\\_multilayer_perceptron.py:691: ConvergenceWarning: Stochastic Optimizer: Maximum iterations (150) reached and the optimization hasn't converged yet.\n",
      "  warnings.warn(\n"
     ]
    },
    {
     "name": "stdout",
     "output_type": "stream",
     "text": [
      "None None BoW 150 logistic sgd 15: 0.898636396770725\n"
     ]
    },
    {
     "name": "stderr",
     "output_type": "stream",
     "text": [
      "C:\\Users\\zhest\\PycharmProjects\\LSINewsGroup\\.venv\\Lib\\site-packages\\sklearn\\neural_network\\_multilayer_perceptron.py:691: ConvergenceWarning: Stochastic Optimizer: Maximum iterations (150) reached and the optimization hasn't converged yet.\n",
      "  warnings.warn(\n"
     ]
    },
    {
     "name": "stdout",
     "output_type": "stream",
     "text": [
      "None None BoW 150 logistic sgd 25: 0.8951576692855208\n"
     ]
    },
    {
     "name": "stderr",
     "output_type": "stream",
     "text": [
      "C:\\Users\\zhest\\PycharmProjects\\LSINewsGroup\\.venv\\Lib\\site-packages\\sklearn\\neural_network\\_multilayer_perceptron.py:691: ConvergenceWarning: Stochastic Optimizer: Maximum iterations (150) reached and the optimization hasn't converged yet.\n",
      "  warnings.warn(\n"
     ]
    },
    {
     "name": "stdout",
     "output_type": "stream",
     "text": [
      "None None BoW 150 logistic sgd 40: 0.8967336649749807\n",
      "None None BoW 150 logistic adam 1: 0.9795744906052499\n",
      "None None BoW 150 logistic adam 10: 0.9778453025868156\n",
      "None None BoW 150 logistic adam 15: 0.9761967619851786\n",
      "None None BoW 150 logistic adam 25: 0.9778624712468343\n",
      "None None BoW 150 logistic adam 40: 0.9778624712468343\n",
      "None None BoW 150 tanh lbfgs 1: 0.9589701060717888\n",
      "None None BoW 150 tanh lbfgs 10: 0.9642192438609669\n",
      "None None BoW 150 tanh lbfgs 15: 0.9590634353805709\n",
      "None None BoW 150 tanh lbfgs 25: 0.9675793662688886\n",
      "None None BoW 150 tanh lbfgs 40: 0.9658165799584525\n"
     ]
    },
    {
     "name": "stderr",
     "output_type": "stream",
     "text": [
      "C:\\Users\\zhest\\PycharmProjects\\LSINewsGroup\\.venv\\Lib\\site-packages\\sklearn\\neural_network\\_multilayer_perceptron.py:691: ConvergenceWarning: Stochastic Optimizer: Maximum iterations (150) reached and the optimization hasn't converged yet.\n",
      "  warnings.warn(\n"
     ]
    },
    {
     "name": "stdout",
     "output_type": "stream",
     "text": [
      "None None BoW 150 tanh sgd 1: 0.9540257189511532\n"
     ]
    },
    {
     "name": "stderr",
     "output_type": "stream",
     "text": [
      "C:\\Users\\zhest\\PycharmProjects\\LSINewsGroup\\.venv\\Lib\\site-packages\\sklearn\\neural_network\\_multilayer_perceptron.py:691: ConvergenceWarning: Stochastic Optimizer: Maximum iterations (150) reached and the optimization hasn't converged yet.\n",
      "  warnings.warn(\n"
     ]
    },
    {
     "name": "stdout",
     "output_type": "stream",
     "text": [
      "None None BoW 150 tanh sgd 10: 0.9573835436757708\n"
     ]
    },
    {
     "name": "stderr",
     "output_type": "stream",
     "text": [
      "C:\\Users\\zhest\\PycharmProjects\\LSINewsGroup\\.venv\\Lib\\site-packages\\sklearn\\neural_network\\_multilayer_perceptron.py:691: ConvergenceWarning: Stochastic Optimizer: Maximum iterations (150) reached and the optimization hasn't converged yet.\n",
      "  warnings.warn(\n"
     ]
    },
    {
     "name": "stdout",
     "output_type": "stream",
     "text": [
      "None None BoW 150 tanh sgd 15: 0.9523729758267909\n"
     ]
    },
    {
     "name": "stderr",
     "output_type": "stream",
     "text": [
      "C:\\Users\\zhest\\PycharmProjects\\LSINewsGroup\\.venv\\Lib\\site-packages\\sklearn\\neural_network\\_multilayer_perceptron.py:691: ConvergenceWarning: Stochastic Optimizer: Maximum iterations (150) reached and the optimization hasn't converged yet.\n",
      "  warnings.warn(\n"
     ]
    },
    {
     "name": "stdout",
     "output_type": "stream",
     "text": [
      "None None BoW 150 tanh sgd 25: 0.9574740747093031\n"
     ]
    },
    {
     "name": "stderr",
     "output_type": "stream",
     "text": [
      "C:\\Users\\zhest\\PycharmProjects\\LSINewsGroup\\.venv\\Lib\\site-packages\\sklearn\\neural_network\\_multilayer_perceptron.py:691: ConvergenceWarning: Stochastic Optimizer: Maximum iterations (150) reached and the optimization hasn't converged yet.\n",
      "  warnings.warn(\n"
     ]
    },
    {
     "name": "stdout",
     "output_type": "stream",
     "text": [
      "None None BoW 150 tanh sgd 40: 0.9557136299736348\n",
      "None None BoW 150 tanh adam 1: 0.9728066362218275\n",
      "None None BoW 150 tanh adam 10: 0.976044206552062\n",
      "None None BoW 150 tanh adam 15: 0.9727909245276168\n",
      "None None BoW 150 tanh adam 25: 0.979525125477272\n",
      "None None BoW 150 tanh adam 40: 0.976178273346463\n",
      "None None BoW 150 relu lbfgs 1: 0.9675479832727114\n",
      "None None BoW 150 relu lbfgs 10: 0.9641659423912082\n",
      "None None BoW 150 relu lbfgs 15: 0.9624807676115522\n",
      "None None BoW 150 relu lbfgs 25: 0.9607099342336163\n",
      "None None BoW 150 relu lbfgs 40: 0.9641685268281787\n"
     ]
    },
    {
     "name": "stderr",
     "output_type": "stream",
     "text": [
      "C:\\Users\\zhest\\PycharmProjects\\LSINewsGroup\\.venv\\Lib\\site-packages\\sklearn\\neural_network\\_multilayer_perceptron.py:691: ConvergenceWarning: Stochastic Optimizer: Maximum iterations (150) reached and the optimization hasn't converged yet.\n",
      "  warnings.warn(\n"
     ]
    },
    {
     "name": "stdout",
     "output_type": "stream",
     "text": [
      "None None BoW 150 relu sgd 1: 0.9523415076740978\n"
     ]
    },
    {
     "name": "stderr",
     "output_type": "stream",
     "text": [
      "C:\\Users\\zhest\\PycharmProjects\\LSINewsGroup\\.venv\\Lib\\site-packages\\sklearn\\neural_network\\_multilayer_perceptron.py:691: ConvergenceWarning: Stochastic Optimizer: Maximum iterations (150) reached and the optimization hasn't converged yet.\n",
      "  warnings.warn(\n"
     ]
    },
    {
     "name": "stdout",
     "output_type": "stream",
     "text": [
      "None None BoW 150 relu sgd 10: 0.9590692745409727\n"
     ]
    },
    {
     "name": "stderr",
     "output_type": "stream",
     "text": [
      "C:\\Users\\zhest\\PycharmProjects\\LSINewsGroup\\.venv\\Lib\\site-packages\\sklearn\\neural_network\\_multilayer_perceptron.py:691: ConvergenceWarning: Stochastic Optimizer: Maximum iterations (150) reached and the optimization hasn't converged yet.\n",
      "  warnings.warn(\n"
     ]
    },
    {
     "name": "stdout",
     "output_type": "stream",
     "text": [
      "None None BoW 150 relu sgd 15: 0.9506720342363906\n"
     ]
    },
    {
     "name": "stderr",
     "output_type": "stream",
     "text": [
      "C:\\Users\\zhest\\PycharmProjects\\LSINewsGroup\\.venv\\Lib\\site-packages\\sklearn\\neural_network\\_multilayer_perceptron.py:691: ConvergenceWarning: Stochastic Optimizer: Maximum iterations (150) reached and the optimization hasn't converged yet.\n",
      "  warnings.warn(\n"
     ]
    },
    {
     "name": "stdout",
     "output_type": "stream",
     "text": [
      "None None BoW 150 relu sgd 25: 0.9574740747093031\n"
     ]
    },
    {
     "name": "stderr",
     "output_type": "stream",
     "text": [
      "C:\\Users\\zhest\\PycharmProjects\\LSINewsGroup\\.venv\\Lib\\site-packages\\sklearn\\neural_network\\_multilayer_perceptron.py:691: ConvergenceWarning: Stochastic Optimizer: Maximum iterations (150) reached and the optimization hasn't converged yet.\n",
      "  warnings.warn(\n"
     ]
    },
    {
     "name": "stdout",
     "output_type": "stream",
     "text": [
      "None None BoW 150 relu sgd 40: 0.9540257658676493\n",
      "None None BoW 150 relu adam 1: 0.9778453025868156\n",
      "None None BoW 150 relu adam 10: 0.9778189085388853\n",
      "None None BoW 150 relu adam 15: 0.9778453025868156\n",
      "None None BoW 150 relu adam 25: 0.9778770988375507\n",
      "None None BoW 150 relu adam 40: 0.9761338779505133\n",
      "None None BoW 200 identity lbfgs 1: 0.9607670868596317\n",
      "None None BoW 200 identity lbfgs 10: 0.9641684552805725\n",
      "None None BoW 200 identity lbfgs 15: 0.9607714472002739\n",
      "None None BoW 200 identity lbfgs 25: 0.9660294151966398\n",
      "None None BoW 200 identity lbfgs 40: 0.9573924650847729\n"
     ]
    },
    {
     "name": "stderr",
     "output_type": "stream",
     "text": [
      "C:\\Users\\zhest\\PycharmProjects\\LSINewsGroup\\.venv\\Lib\\site-packages\\sklearn\\neural_network\\_multilayer_perceptron.py:691: ConvergenceWarning: Stochastic Optimizer: Maximum iterations (200) reached and the optimization hasn't converged yet.\n",
      "  warnings.warn(\n"
     ]
    },
    {
     "name": "stdout",
     "output_type": "stream",
     "text": [
      "None None BoW 200 identity sgd 1: 0.9557095132501804\n"
     ]
    },
    {
     "name": "stderr",
     "output_type": "stream",
     "text": [
      "C:\\Users\\zhest\\PycharmProjects\\LSINewsGroup\\.venv\\Lib\\site-packages\\sklearn\\neural_network\\_multilayer_perceptron.py:691: ConvergenceWarning: Stochastic Optimizer: Maximum iterations (200) reached and the optimization hasn't converged yet.\n",
      "  warnings.warn(\n"
     ]
    },
    {
     "name": "stdout",
     "output_type": "stream",
     "text": [
      "None None BoW 200 identity sgd 10: 0.9590582553571408\n"
     ]
    },
    {
     "name": "stderr",
     "output_type": "stream",
     "text": [
      "C:\\Users\\zhest\\PycharmProjects\\LSINewsGroup\\.venv\\Lib\\site-packages\\sklearn\\neural_network\\_multilayer_perceptron.py:691: ConvergenceWarning: Stochastic Optimizer: Maximum iterations (200) reached and the optimization hasn't converged yet.\n",
      "  warnings.warn(\n"
     ]
    },
    {
     "name": "stdout",
     "output_type": "stream",
     "text": [
      "None None BoW 200 identity sgd 15: 0.9574567266785041\n"
     ]
    },
    {
     "name": "stderr",
     "output_type": "stream",
     "text": [
      "C:\\Users\\zhest\\PycharmProjects\\LSINewsGroup\\.venv\\Lib\\site-packages\\sklearn\\neural_network\\_multilayer_perceptron.py:691: ConvergenceWarning: Stochastic Optimizer: Maximum iterations (200) reached and the optimization hasn't converged yet.\n",
      "  warnings.warn(\n"
     ]
    },
    {
     "name": "stdout",
     "output_type": "stream",
     "text": [
      "None None BoW 200 identity sgd 25: 0.9591715820540728\n"
     ]
    },
    {
     "name": "stderr",
     "output_type": "stream",
     "text": [
      "C:\\Users\\zhest\\PycharmProjects\\LSINewsGroup\\.venv\\Lib\\site-packages\\sklearn\\neural_network\\_multilayer_perceptron.py:691: ConvergenceWarning: Stochastic Optimizer: Maximum iterations (200) reached and the optimization hasn't converged yet.\n",
      "  warnings.warn(\n"
     ]
    },
    {
     "name": "stdout",
     "output_type": "stream",
     "text": [
      "None None BoW 200 identity sgd 40: 0.9574011147767975\n",
      "None None BoW 200 identity adam 1: 0.9728066362218275\n",
      "None None BoW 200 identity adam 10: 0.9743021597412799\n",
      "None None BoW 200 identity adam 15: 0.9711143989428662\n",
      "None None BoW 200 identity adam 25: 0.9761431192357437\n",
      "None None BoW 200 identity adam 40: 0.9744938288053469\n",
      "None None BoW 200 logistic lbfgs 1: 0.9573122879309076\n",
      "None None BoW 200 logistic lbfgs 10: 0.953793628752397\n",
      "None None BoW 200 logistic lbfgs 15: 0.9676024973819581\n",
      "None None BoW 200 logistic lbfgs 25: 0.9624887935442479\n",
      "None None BoW 200 logistic lbfgs 40: 0.9589475101217019\n"
     ]
    },
    {
     "name": "stderr",
     "output_type": "stream",
     "text": [
      "C:\\Users\\zhest\\PycharmProjects\\LSINewsGroup\\.venv\\Lib\\site-packages\\sklearn\\neural_network\\_multilayer_perceptron.py:691: ConvergenceWarning: Stochastic Optimizer: Maximum iterations (200) reached and the optimization hasn't converged yet.\n",
      "  warnings.warn(\n"
     ]
    },
    {
     "name": "stdout",
     "output_type": "stream",
     "text": [
      "None None BoW 200 logistic sgd 1: 0.9185514369884827\n"
     ]
    },
    {
     "name": "stderr",
     "output_type": "stream",
     "text": [
      "C:\\Users\\zhest\\PycharmProjects\\LSINewsGroup\\.venv\\Lib\\site-packages\\sklearn\\neural_network\\_multilayer_perceptron.py:691: ConvergenceWarning: Stochastic Optimizer: Maximum iterations (200) reached and the optimization hasn't converged yet.\n",
      "  warnings.warn(\n"
     ]
    },
    {
     "name": "stdout",
     "output_type": "stream",
     "text": [
      "None None BoW 200 logistic sgd 10: 0.9151792908819055\n"
     ]
    },
    {
     "name": "stderr",
     "output_type": "stream",
     "text": [
      "C:\\Users\\zhest\\PycharmProjects\\LSINewsGroup\\.venv\\Lib\\site-packages\\sklearn\\neural_network\\_multilayer_perceptron.py:691: ConvergenceWarning: Stochastic Optimizer: Maximum iterations (200) reached and the optimization hasn't converged yet.\n",
      "  warnings.warn(\n"
     ]
    },
    {
     "name": "stdout",
     "output_type": "stream",
     "text": [
      "None None BoW 200 logistic sgd 15: 0.9135771570542038\n"
     ]
    },
    {
     "name": "stderr",
     "output_type": "stream",
     "text": [
      "C:\\Users\\zhest\\PycharmProjects\\LSINewsGroup\\.venv\\Lib\\site-packages\\sklearn\\neural_network\\_multilayer_perceptron.py:691: ConvergenceWarning: Stochastic Optimizer: Maximum iterations (200) reached and the optimization hasn't converged yet.\n",
      "  warnings.warn(\n"
     ]
    },
    {
     "name": "stdout",
     "output_type": "stream",
     "text": [
      "None None BoW 200 logistic sgd 25: 0.9152633256869838\n"
     ]
    },
    {
     "name": "stderr",
     "output_type": "stream",
     "text": [
      "C:\\Users\\zhest\\PycharmProjects\\LSINewsGroup\\.venv\\Lib\\site-packages\\sklearn\\neural_network\\_multilayer_perceptron.py:691: ConvergenceWarning: Stochastic Optimizer: Maximum iterations (200) reached and the optimization hasn't converged yet.\n",
      "  warnings.warn(\n"
     ]
    },
    {
     "name": "stdout",
     "output_type": "stream",
     "text": [
      "None None BoW 200 logistic sgd 40: 0.9220779352130971\n",
      "None None BoW 200 logistic adam 1: 0.9795744906052499\n",
      "None None BoW 200 logistic adam 10: 0.9778453025868156\n",
      "None None BoW 200 logistic adam 15: 0.9761967619851786\n",
      "None None BoW 200 logistic adam 25: 0.9778624712468343\n",
      "None None BoW 200 logistic adam 40: 0.9778624712468343\n",
      "None None BoW 200 tanh lbfgs 1: 0.9589701060717888\n",
      "None None BoW 200 tanh lbfgs 10: 0.9642192438609669\n",
      "None None BoW 200 tanh lbfgs 15: 0.9590634353805709\n",
      "None None BoW 200 tanh lbfgs 25: 0.9675793662688886\n",
      "None None BoW 200 tanh lbfgs 40: 0.9658165799584525\n"
     ]
    },
    {
     "name": "stderr",
     "output_type": "stream",
     "text": [
      "C:\\Users\\zhest\\PycharmProjects\\LSINewsGroup\\.venv\\Lib\\site-packages\\sklearn\\neural_network\\_multilayer_perceptron.py:691: ConvergenceWarning: Stochastic Optimizer: Maximum iterations (200) reached and the optimization hasn't converged yet.\n",
      "  warnings.warn(\n"
     ]
    },
    {
     "name": "stdout",
     "output_type": "stream",
     "text": [
      "None None BoW 200 tanh sgd 1: 0.9557095132501804\n"
     ]
    },
    {
     "name": "stderr",
     "output_type": "stream",
     "text": [
      "C:\\Users\\zhest\\PycharmProjects\\LSINewsGroup\\.venv\\Lib\\site-packages\\sklearn\\neural_network\\_multilayer_perceptron.py:691: ConvergenceWarning: Stochastic Optimizer: Maximum iterations (200) reached and the optimization hasn't converged yet.\n",
      "  warnings.warn(\n"
     ]
    },
    {
     "name": "stdout",
     "output_type": "stream",
     "text": [
      "None None BoW 200 tanh sgd 10: 0.9590582553571408\n"
     ]
    },
    {
     "name": "stderr",
     "output_type": "stream",
     "text": [
      "C:\\Users\\zhest\\PycharmProjects\\LSINewsGroup\\.venv\\Lib\\site-packages\\sklearn\\neural_network\\_multilayer_perceptron.py:691: ConvergenceWarning: Stochastic Optimizer: Maximum iterations (200) reached and the optimization hasn't converged yet.\n",
      "  warnings.warn(\n"
     ]
    },
    {
     "name": "stdout",
     "output_type": "stream",
     "text": [
      "None None BoW 200 tanh sgd 15: 0.9574567266785041\n"
     ]
    },
    {
     "name": "stderr",
     "output_type": "stream",
     "text": [
      "C:\\Users\\zhest\\PycharmProjects\\LSINewsGroup\\.venv\\Lib\\site-packages\\sklearn\\neural_network\\_multilayer_perceptron.py:691: ConvergenceWarning: Stochastic Optimizer: Maximum iterations (200) reached and the optimization hasn't converged yet.\n",
      "  warnings.warn(\n"
     ]
    },
    {
     "name": "stdout",
     "output_type": "stream",
     "text": [
      "None None BoW 200 tanh sgd 25: 0.9591715820540728\n"
     ]
    },
    {
     "name": "stderr",
     "output_type": "stream",
     "text": [
      "C:\\Users\\zhest\\PycharmProjects\\LSINewsGroup\\.venv\\Lib\\site-packages\\sklearn\\neural_network\\_multilayer_perceptron.py:691: ConvergenceWarning: Stochastic Optimizer: Maximum iterations (200) reached and the optimization hasn't converged yet.\n",
      "  warnings.warn(\n"
     ]
    },
    {
     "name": "stdout",
     "output_type": "stream",
     "text": [
      "None None BoW 200 tanh sgd 40: 0.9574011147767975\n",
      "None None BoW 200 tanh adam 1: 0.9728066362218275\n",
      "None None BoW 200 tanh adam 10: 0.976044206552062\n",
      "None None BoW 200 tanh adam 15: 0.9727909245276168\n",
      "None None BoW 200 tanh adam 25: 0.979525125477272\n",
      "None None BoW 200 tanh adam 40: 0.976178273346463\n",
      "None None BoW 200 relu lbfgs 1: 0.9675479832727114\n",
      "None None BoW 200 relu lbfgs 10: 0.9641659423912082\n",
      "None None BoW 200 relu lbfgs 15: 0.9624807676115522\n",
      "None None BoW 200 relu lbfgs 25: 0.9607099342336163\n",
      "None None BoW 200 relu lbfgs 40: 0.9641685268281787\n"
     ]
    },
    {
     "name": "stderr",
     "output_type": "stream",
     "text": [
      "C:\\Users\\zhest\\PycharmProjects\\LSINewsGroup\\.venv\\Lib\\site-packages\\sklearn\\neural_network\\_multilayer_perceptron.py:691: ConvergenceWarning: Stochastic Optimizer: Maximum iterations (200) reached and the optimization hasn't converged yet.\n",
      "  warnings.warn(\n"
     ]
    },
    {
     "name": "stdout",
     "output_type": "stream",
     "text": [
      "None None BoW 200 relu sgd 1: 0.9557095132501804\n"
     ]
    },
    {
     "name": "stderr",
     "output_type": "stream",
     "text": [
      "C:\\Users\\zhest\\PycharmProjects\\LSINewsGroup\\.venv\\Lib\\site-packages\\sklearn\\neural_network\\_multilayer_perceptron.py:691: ConvergenceWarning: Stochastic Optimizer: Maximum iterations (200) reached and the optimization hasn't converged yet.\n",
      "  warnings.warn(\n"
     ]
    },
    {
     "name": "stdout",
     "output_type": "stream",
     "text": [
      "None None BoW 200 relu sgd 10: 0.9590582553571408\n"
     ]
    },
    {
     "name": "stderr",
     "output_type": "stream",
     "text": [
      "C:\\Users\\zhest\\PycharmProjects\\LSINewsGroup\\.venv\\Lib\\site-packages\\sklearn\\neural_network\\_multilayer_perceptron.py:691: ConvergenceWarning: Stochastic Optimizer: Maximum iterations (200) reached and the optimization hasn't converged yet.\n",
      "  warnings.warn(\n"
     ]
    },
    {
     "name": "stdout",
     "output_type": "stream",
     "text": [
      "None None BoW 200 relu sgd 15: 0.9540556905432706\n"
     ]
    },
    {
     "name": "stderr",
     "output_type": "stream",
     "text": [
      "C:\\Users\\zhest\\PycharmProjects\\LSINewsGroup\\.venv\\Lib\\site-packages\\sklearn\\neural_network\\_multilayer_perceptron.py:691: ConvergenceWarning: Stochastic Optimizer: Maximum iterations (200) reached and the optimization hasn't converged yet.\n",
      "  warnings.warn(\n"
     ]
    },
    {
     "name": "stdout",
     "output_type": "stream",
     "text": [
      "None None BoW 200 relu sgd 25: 0.9574934847526333\n"
     ]
    },
    {
     "name": "stderr",
     "output_type": "stream",
     "text": [
      "C:\\Users\\zhest\\PycharmProjects\\LSINewsGroup\\.venv\\Lib\\site-packages\\sklearn\\neural_network\\_multilayer_perceptron.py:691: ConvergenceWarning: Stochastic Optimizer: Maximum iterations (200) reached and the optimization hasn't converged yet.\n",
      "  warnings.warn(\n"
     ]
    },
    {
     "name": "stdout",
     "output_type": "stream",
     "text": [
      "None None BoW 200 relu sgd 40: 0.9540324833317898\n",
      "None None BoW 200 relu adam 1: 0.9778453025868156\n",
      "None None BoW 200 relu adam 10: 0.9778189085388853\n",
      "None None BoW 200 relu adam 15: 0.9778453025868156\n",
      "None None BoW 200 relu adam 25: 0.9778770988375507\n",
      "None None BoW 200 relu adam 40: 0.9761338779505133\n",
      "None None BoW 250 identity lbfgs 1: 0.9607670868596317\n",
      "None None BoW 250 identity lbfgs 10: 0.9641684552805725\n",
      "None None BoW 250 identity lbfgs 15: 0.9607714472002739\n",
      "None None BoW 250 identity lbfgs 25: 0.9660294151966398\n",
      "None None BoW 250 identity lbfgs 40: 0.9573924650847729\n"
     ]
    },
    {
     "name": "stderr",
     "output_type": "stream",
     "text": [
      "C:\\Users\\zhest\\PycharmProjects\\LSINewsGroup\\.venv\\Lib\\site-packages\\sklearn\\neural_network\\_multilayer_perceptron.py:691: ConvergenceWarning: Stochastic Optimizer: Maximum iterations (250) reached and the optimization hasn't converged yet.\n",
      "  warnings.warn(\n"
     ]
    },
    {
     "name": "stdout",
     "output_type": "stream",
     "text": [
      "None None BoW 250 identity sgd 1: 0.9625574838062505\n"
     ]
    },
    {
     "name": "stderr",
     "output_type": "stream",
     "text": [
      "C:\\Users\\zhest\\PycharmProjects\\LSINewsGroup\\.venv\\Lib\\site-packages\\sklearn\\neural_network\\_multilayer_perceptron.py:691: ConvergenceWarning: Stochastic Optimizer: Maximum iterations (250) reached and the optimization hasn't converged yet.\n",
      "  warnings.warn(\n"
     ]
    },
    {
     "name": "stdout",
     "output_type": "stream",
     "text": [
      "None None BoW 250 identity sgd 10: 0.9607697533252672\n"
     ]
    },
    {
     "name": "stderr",
     "output_type": "stream",
     "text": [
      "C:\\Users\\zhest\\PycharmProjects\\LSINewsGroup\\.venv\\Lib\\site-packages\\sklearn\\neural_network\\_multilayer_perceptron.py:691: ConvergenceWarning: Stochastic Optimizer: Maximum iterations (250) reached and the optimization hasn't converged yet.\n",
      "  warnings.warn(\n"
     ]
    },
    {
     "name": "stdout",
     "output_type": "stream",
     "text": [
      "None None BoW 250 identity sgd 15: 0.9591454897140517\n"
     ]
    },
    {
     "name": "stderr",
     "output_type": "stream",
     "text": [
      "C:\\Users\\zhest\\PycharmProjects\\LSINewsGroup\\.venv\\Lib\\site-packages\\sklearn\\neural_network\\_multilayer_perceptron.py:691: ConvergenceWarning: Stochastic Optimizer: Maximum iterations (250) reached and the optimization hasn't converged yet.\n",
      "  warnings.warn(\n"
     ]
    },
    {
     "name": "stdout",
     "output_type": "stream",
     "text": [
      "None None BoW 250 identity sgd 25: 0.96086052679273\n"
     ]
    },
    {
     "name": "stderr",
     "output_type": "stream",
     "text": [
      "C:\\Users\\zhest\\PycharmProjects\\LSINewsGroup\\.venv\\Lib\\site-packages\\sklearn\\neural_network\\_multilayer_perceptron.py:691: ConvergenceWarning: Stochastic Optimizer: Maximum iterations (250) reached and the optimization hasn't converged yet.\n",
      "  warnings.warn(\n"
     ]
    },
    {
     "name": "stdout",
     "output_type": "stream",
     "text": [
      "None None BoW 250 identity sgd 40: 0.9590882808825215\n",
      "None None BoW 250 identity adam 1: 0.9728066362218275\n",
      "None None BoW 250 identity adam 10: 0.9743021597412799\n",
      "None None BoW 250 identity adam 15: 0.9711143989428662\n",
      "None None BoW 250 identity adam 25: 0.9761431192357437\n",
      "None None BoW 250 identity adam 40: 0.9744938288053469\n",
      "None None BoW 250 logistic lbfgs 1: 0.9573122879309076\n",
      "None None BoW 250 logistic lbfgs 10: 0.953793628752397\n",
      "None None BoW 250 logistic lbfgs 15: 0.9676024973819581\n",
      "None None BoW 250 logistic lbfgs 25: 0.9624887935442479\n",
      "None None BoW 250 logistic lbfgs 40: 0.9589475101217019\n"
     ]
    },
    {
     "name": "stderr",
     "output_type": "stream",
     "text": [
      "C:\\Users\\zhest\\PycharmProjects\\LSINewsGroup\\.venv\\Lib\\site-packages\\sklearn\\neural_network\\_multilayer_perceptron.py:691: ConvergenceWarning: Stochastic Optimizer: Maximum iterations (250) reached and the optimization hasn't converged yet.\n",
      "  warnings.warn(\n"
     ]
    },
    {
     "name": "stdout",
     "output_type": "stream",
     "text": [
      "None None BoW 250 logistic sgd 1: 0.9286103584272734\n"
     ]
    },
    {
     "name": "stderr",
     "output_type": "stream",
     "text": [
      "C:\\Users\\zhest\\PycharmProjects\\LSINewsGroup\\.venv\\Lib\\site-packages\\sklearn\\neural_network\\_multilayer_perceptron.py:691: ConvergenceWarning: Stochastic Optimizer: Maximum iterations (250) reached and the optimization hasn't converged yet.\n",
      "  warnings.warn(\n"
     ]
    },
    {
     "name": "stdout",
     "output_type": "stream",
     "text": [
      "None None BoW 250 logistic sgd 10: 0.9336537560740034\n"
     ]
    },
    {
     "name": "stderr",
     "output_type": "stream",
     "text": [
      "C:\\Users\\zhest\\PycharmProjects\\LSINewsGroup\\.venv\\Lib\\site-packages\\sklearn\\neural_network\\_multilayer_perceptron.py:691: ConvergenceWarning: Stochastic Optimizer: Maximum iterations (250) reached and the optimization hasn't converged yet.\n",
      "  warnings.warn(\n"
     ]
    },
    {
     "name": "stdout",
     "output_type": "stream",
     "text": [
      "None None BoW 250 logistic sgd 15: 0.9253232266939974\n"
     ]
    },
    {
     "name": "stderr",
     "output_type": "stream",
     "text": [
      "C:\\Users\\zhest\\PycharmProjects\\LSINewsGroup\\.venv\\Lib\\site-packages\\sklearn\\neural_network\\_multilayer_perceptron.py:691: ConvergenceWarning: Stochastic Optimizer: Maximum iterations (250) reached and the optimization hasn't converged yet.\n",
      "  warnings.warn(\n"
     ]
    },
    {
     "name": "stdout",
     "output_type": "stream",
     "text": [
      "None None BoW 250 logistic sgd 25: 0.9286523521845771\n"
     ]
    },
    {
     "name": "stderr",
     "output_type": "stream",
     "text": [
      "C:\\Users\\zhest\\PycharmProjects\\LSINewsGroup\\.venv\\Lib\\site-packages\\sklearn\\neural_network\\_multilayer_perceptron.py:691: ConvergenceWarning: Stochastic Optimizer: Maximum iterations (250) reached and the optimization hasn't converged yet.\n",
      "  warnings.warn(\n"
     ]
    },
    {
     "name": "stdout",
     "output_type": "stream",
     "text": [
      "None None BoW 250 logistic sgd 40: 0.928717239046678\n",
      "None None BoW 250 logistic adam 1: 0.9795744906052499\n",
      "None None BoW 250 logistic adam 10: 0.9778453025868156\n",
      "None None BoW 250 logistic adam 15: 0.9761967619851786\n",
      "None None BoW 250 logistic adam 25: 0.9778624712468343\n",
      "None None BoW 250 logistic adam 40: 0.9778624712468343\n",
      "None None BoW 250 tanh lbfgs 1: 0.9589701060717888\n",
      "None None BoW 250 tanh lbfgs 10: 0.9642192438609669\n",
      "None None BoW 250 tanh lbfgs 15: 0.9590634353805709\n",
      "None None BoW 250 tanh lbfgs 25: 0.9675793662688886\n",
      "None None BoW 250 tanh lbfgs 40: 0.9658165799584525\n"
     ]
    },
    {
     "name": "stderr",
     "output_type": "stream",
     "text": [
      "C:\\Users\\zhest\\PycharmProjects\\LSINewsGroup\\.venv\\Lib\\site-packages\\sklearn\\neural_network\\_multilayer_perceptron.py:691: ConvergenceWarning: Stochastic Optimizer: Maximum iterations (250) reached and the optimization hasn't converged yet.\n",
      "  warnings.warn(\n"
     ]
    },
    {
     "name": "stdout",
     "output_type": "stream",
     "text": [
      "None None BoW 250 tanh sgd 1: 0.9625084479750703\n"
     ]
    },
    {
     "name": "stderr",
     "output_type": "stream",
     "text": [
      "C:\\Users\\zhest\\PycharmProjects\\LSINewsGroup\\.venv\\Lib\\site-packages\\sklearn\\neural_network\\_multilayer_perceptron.py:691: ConvergenceWarning: Stochastic Optimizer: Maximum iterations (250) reached and the optimization hasn't converged yet.\n",
      "  warnings.warn(\n"
     ]
    },
    {
     "name": "stdout",
     "output_type": "stream",
     "text": [
      "None None BoW 250 tanh sgd 10: 0.9607697533252672\n"
     ]
    },
    {
     "name": "stderr",
     "output_type": "stream",
     "text": [
      "C:\\Users\\zhest\\PycharmProjects\\LSINewsGroup\\.venv\\Lib\\site-packages\\sklearn\\neural_network\\_multilayer_perceptron.py:691: ConvergenceWarning: Stochastic Optimizer: Maximum iterations (250) reached and the optimization hasn't converged yet.\n",
      "  warnings.warn(\n"
     ]
    },
    {
     "name": "stdout",
     "output_type": "stream",
     "text": [
      "None None BoW 250 tanh sgd 15: 0.9591454897140517\n"
     ]
    },
    {
     "name": "stderr",
     "output_type": "stream",
     "text": [
      "C:\\Users\\zhest\\PycharmProjects\\LSINewsGroup\\.venv\\Lib\\site-packages\\sklearn\\neural_network\\_multilayer_perceptron.py:691: ConvergenceWarning: Stochastic Optimizer: Maximum iterations (250) reached and the optimization hasn't converged yet.\n",
      "  warnings.warn(\n"
     ]
    },
    {
     "name": "stdout",
     "output_type": "stream",
     "text": [
      "None None BoW 250 tanh sgd 25: 0.96086052679273\n"
     ]
    },
    {
     "name": "stderr",
     "output_type": "stream",
     "text": [
      "C:\\Users\\zhest\\PycharmProjects\\LSINewsGroup\\.venv\\Lib\\site-packages\\sklearn\\neural_network\\_multilayer_perceptron.py:691: ConvergenceWarning: Stochastic Optimizer: Maximum iterations (250) reached and the optimization hasn't converged yet.\n",
      "  warnings.warn(\n"
     ]
    },
    {
     "name": "stdout",
     "output_type": "stream",
     "text": [
      "None None BoW 250 tanh sgd 40: 0.9590882808825215\n",
      "None None BoW 250 tanh adam 1: 0.9728066362218275\n",
      "None None BoW 250 tanh adam 10: 0.976044206552062\n",
      "None None BoW 250 tanh adam 15: 0.9727909245276168\n",
      "None None BoW 250 tanh adam 25: 0.979525125477272\n",
      "None None BoW 250 tanh adam 40: 0.976178273346463\n",
      "None None BoW 250 relu lbfgs 1: 0.9675479832727114\n",
      "None None BoW 250 relu lbfgs 10: 0.9641659423912082\n",
      "None None BoW 250 relu lbfgs 15: 0.9624807676115522\n",
      "None None BoW 250 relu lbfgs 25: 0.9607099342336163\n",
      "None None BoW 250 relu lbfgs 40: 0.9641685268281787\n"
     ]
    },
    {
     "name": "stderr",
     "output_type": "stream",
     "text": [
      "C:\\Users\\zhest\\PycharmProjects\\LSINewsGroup\\.venv\\Lib\\site-packages\\sklearn\\neural_network\\_multilayer_perceptron.py:691: ConvergenceWarning: Stochastic Optimizer: Maximum iterations (250) reached and the optimization hasn't converged yet.\n",
      "  warnings.warn(\n"
     ]
    },
    {
     "name": "stdout",
     "output_type": "stream",
     "text": [
      "None None BoW 250 relu sgd 1: 0.9608205049815886\n"
     ]
    },
    {
     "name": "stderr",
     "output_type": "stream",
     "text": [
      "C:\\Users\\zhest\\PycharmProjects\\LSINewsGroup\\.venv\\Lib\\site-packages\\sklearn\\neural_network\\_multilayer_perceptron.py:691: ConvergenceWarning: Stochastic Optimizer: Maximum iterations (250) reached and the optimization hasn't converged yet.\n",
      "  warnings.warn(\n"
     ]
    },
    {
     "name": "stdout",
     "output_type": "stream",
     "text": [
      "None None BoW 250 relu sgd 10: 0.9607697533252672\n"
     ]
    },
    {
     "name": "stderr",
     "output_type": "stream",
     "text": [
      "C:\\Users\\zhest\\PycharmProjects\\LSINewsGroup\\.venv\\Lib\\site-packages\\sklearn\\neural_network\\_multilayer_perceptron.py:691: ConvergenceWarning: Stochastic Optimizer: Maximum iterations (250) reached and the optimization hasn't converged yet.\n",
      "  warnings.warn(\n"
     ]
    },
    {
     "name": "stdout",
     "output_type": "stream",
     "text": [
      "None None BoW 250 relu sgd 15: 0.9574447634635378\n"
     ]
    },
    {
     "name": "stderr",
     "output_type": "stream",
     "text": [
      "C:\\Users\\zhest\\PycharmProjects\\LSINewsGroup\\.venv\\Lib\\site-packages\\sklearn\\neural_network\\_multilayer_perceptron.py:691: ConvergenceWarning: Stochastic Optimizer: Maximum iterations (250) reached and the optimization hasn't converged yet.\n",
      "  warnings.warn(\n"
     ]
    },
    {
     "name": "stdout",
     "output_type": "stream",
     "text": [
      "None None BoW 250 relu sgd 25: 0.96086052679273\n"
     ]
    },
    {
     "name": "stderr",
     "output_type": "stream",
     "text": [
      "C:\\Users\\zhest\\PycharmProjects\\LSINewsGroup\\.venv\\Lib\\site-packages\\sklearn\\neural_network\\_multilayer_perceptron.py:691: ConvergenceWarning: Stochastic Optimizer: Maximum iterations (250) reached and the optimization hasn't converged yet.\n",
      "  warnings.warn(\n"
     ]
    },
    {
     "name": "stdout",
     "output_type": "stream",
     "text": [
      "None None BoW 250 relu sgd 40: 0.9608258539626164\n",
      "None None BoW 250 relu adam 1: 0.9778453025868156\n",
      "None None BoW 250 relu adam 10: 0.9778189085388853\n",
      "None None BoW 250 relu adam 15: 0.9778453025868156\n",
      "None None BoW 250 relu adam 25: 0.9778770988375507\n",
      "None None BoW 250 relu adam 40: 0.9761338779505133\n",
      "None None BoW 300 identity lbfgs 1: 0.9607670868596317\n",
      "None None BoW 300 identity lbfgs 10: 0.9641684552805725\n",
      "None None BoW 300 identity lbfgs 15: 0.9607714472002739\n",
      "None None BoW 300 identity lbfgs 25: 0.9660294151966398\n",
      "None None BoW 300 identity lbfgs 40: 0.9573924650847729\n"
     ]
    },
    {
     "name": "stderr",
     "output_type": "stream",
     "text": [
      "C:\\Users\\zhest\\PycharmProjects\\LSINewsGroup\\.venv\\Lib\\site-packages\\sklearn\\neural_network\\_multilayer_perceptron.py:691: ConvergenceWarning: Stochastic Optimizer: Maximum iterations (300) reached and the optimization hasn't converged yet.\n",
      "  warnings.warn(\n"
     ]
    },
    {
     "name": "stdout",
     "output_type": "stream",
     "text": [
      "None None BoW 300 identity sgd 1: 0.9659957164379311\n"
     ]
    },
    {
     "name": "stderr",
     "output_type": "stream",
     "text": [
      "C:\\Users\\zhest\\PycharmProjects\\LSINewsGroup\\.venv\\Lib\\site-packages\\sklearn\\neural_network\\_multilayer_perceptron.py:691: ConvergenceWarning: Stochastic Optimizer: Maximum iterations (300) reached and the optimization hasn't converged yet.\n",
      "  warnings.warn(\n"
     ]
    },
    {
     "name": "stdout",
     "output_type": "stream",
     "text": [
      "None None BoW 300 identity sgd 10: 0.9624695461405075\n"
     ]
    },
    {
     "name": "stderr",
     "output_type": "stream",
     "text": [
      "C:\\Users\\zhest\\PycharmProjects\\LSINewsGroup\\.venv\\Lib\\site-packages\\sklearn\\neural_network\\_multilayer_perceptron.py:691: ConvergenceWarning: Stochastic Optimizer: Maximum iterations (300) reached and the optimization hasn't converged yet.\n",
      "  warnings.warn(\n"
     ]
    },
    {
     "name": "stdout",
     "output_type": "stream",
     "text": [
      "None None BoW 300 identity sgd 15: 0.962521827037956\n"
     ]
    },
    {
     "name": "stderr",
     "output_type": "stream",
     "text": [
      "C:\\Users\\zhest\\PycharmProjects\\LSINewsGroup\\.venv\\Lib\\site-packages\\sklearn\\neural_network\\_multilayer_perceptron.py:691: ConvergenceWarning: Stochastic Optimizer: Maximum iterations (300) reached and the optimization hasn't converged yet.\n",
      "  warnings.warn(\n"
     ]
    },
    {
     "name": "stdout",
     "output_type": "stream",
     "text": [
      "None None BoW 300 identity sgd 25: 0.964290849475253\n"
     ]
    },
    {
     "name": "stderr",
     "output_type": "stream",
     "text": [
      "C:\\Users\\zhest\\PycharmProjects\\LSINewsGroup\\.venv\\Lib\\site-packages\\sklearn\\neural_network\\_multilayer_perceptron.py:691: ConvergenceWarning: Stochastic Optimizer: Maximum iterations (300) reached and the optimization hasn't converged yet.\n",
      "  warnings.warn(\n"
     ]
    },
    {
     "name": "stdout",
     "output_type": "stream",
     "text": [
      "None None BoW 300 identity sgd 40: 0.9607986039598228\n",
      "None None BoW 300 identity adam 1: 0.9728066362218275\n",
      "None None BoW 300 identity adam 10: 0.9743021597412799\n",
      "None None BoW 300 identity adam 15: 0.9711143989428662\n",
      "None None BoW 300 identity adam 25: 0.9761431192357437\n",
      "None None BoW 300 identity adam 40: 0.9744938288053469\n",
      "None None BoW 300 logistic lbfgs 1: 0.9573122879309076\n",
      "None None BoW 300 logistic lbfgs 10: 0.953793628752397\n",
      "None None BoW 300 logistic lbfgs 15: 0.9676024973819581\n",
      "None None BoW 300 logistic lbfgs 25: 0.9624887935442479\n",
      "None None BoW 300 logistic lbfgs 40: 0.9589475101217019\n"
     ]
    },
    {
     "name": "stderr",
     "output_type": "stream",
     "text": [
      "C:\\Users\\zhest\\PycharmProjects\\LSINewsGroup\\.venv\\Lib\\site-packages\\sklearn\\neural_network\\_multilayer_perceptron.py:691: ConvergenceWarning: Stochastic Optimizer: Maximum iterations (300) reached and the optimization hasn't converged yet.\n",
      "  warnings.warn(\n"
     ]
    },
    {
     "name": "stdout",
     "output_type": "stream",
     "text": [
      "None None BoW 300 logistic sgd 1: 0.9370327717312429\n"
     ]
    },
    {
     "name": "stderr",
     "output_type": "stream",
     "text": [
      "C:\\Users\\zhest\\PycharmProjects\\LSINewsGroup\\.venv\\Lib\\site-packages\\sklearn\\neural_network\\_multilayer_perceptron.py:691: ConvergenceWarning: Stochastic Optimizer: Maximum iterations (300) reached and the optimization hasn't converged yet.\n",
      "  warnings.warn(\n"
     ]
    },
    {
     "name": "stdout",
     "output_type": "stream",
     "text": [
      "None None BoW 300 logistic sgd 10: 0.9353466166245179\n"
     ]
    },
    {
     "name": "stderr",
     "output_type": "stream",
     "text": [
      "C:\\Users\\zhest\\PycharmProjects\\LSINewsGroup\\.venv\\Lib\\site-packages\\sklearn\\neural_network\\_multilayer_perceptron.py:691: ConvergenceWarning: Stochastic Optimizer: Maximum iterations (300) reached and the optimization hasn't converged yet.\n",
      "  warnings.warn(\n"
     ]
    },
    {
     "name": "stdout",
     "output_type": "stream",
     "text": [
      "None None BoW 300 logistic sgd 15: 0.9354404671934059\n"
     ]
    },
    {
     "name": "stderr",
     "output_type": "stream",
     "text": [
      "C:\\Users\\zhest\\PycharmProjects\\LSINewsGroup\\.venv\\Lib\\site-packages\\sklearn\\neural_network\\_multilayer_perceptron.py:691: ConvergenceWarning: Stochastic Optimizer: Maximum iterations (300) reached and the optimization hasn't converged yet.\n",
      "  warnings.warn(\n"
     ]
    },
    {
     "name": "stdout",
     "output_type": "stream",
     "text": [
      "None None BoW 300 logistic sgd 25: 0.935389754554245\n"
     ]
    },
    {
     "name": "stderr",
     "output_type": "stream",
     "text": [
      "C:\\Users\\zhest\\PycharmProjects\\LSINewsGroup\\.venv\\Lib\\site-packages\\sklearn\\neural_network\\_multilayer_perceptron.py:691: ConvergenceWarning: Stochastic Optimizer: Maximum iterations (300) reached and the optimization hasn't converged yet.\n",
      "  warnings.warn(\n"
     ]
    },
    {
     "name": "stdout",
     "output_type": "stream",
     "text": [
      "None None BoW 300 logistic sgd 40: 0.9320107388970056\n",
      "None None BoW 300 logistic adam 1: 0.9795744906052499\n",
      "None None BoW 300 logistic adam 10: 0.9778453025868156\n",
      "None None BoW 300 logistic adam 15: 0.9761967619851786\n",
      "None None BoW 300 logistic adam 25: 0.9778624712468343\n",
      "None None BoW 300 logistic adam 40: 0.9778624712468343\n",
      "None None BoW 300 tanh lbfgs 1: 0.9589701060717888\n",
      "None None BoW 300 tanh lbfgs 10: 0.9642192438609669\n",
      "None None BoW 300 tanh lbfgs 15: 0.9590634353805709\n",
      "None None BoW 300 tanh lbfgs 25: 0.9675793662688886\n",
      "None None BoW 300 tanh lbfgs 40: 0.9658165799584525\n"
     ]
    },
    {
     "name": "stderr",
     "output_type": "stream",
     "text": [
      "C:\\Users\\zhest\\PycharmProjects\\LSINewsGroup\\.venv\\Lib\\site-packages\\sklearn\\neural_network\\_multilayer_perceptron.py:691: ConvergenceWarning: Stochastic Optimizer: Maximum iterations (300) reached and the optimization hasn't converged yet.\n",
      "  warnings.warn(\n"
     ]
    },
    {
     "name": "stdout",
     "output_type": "stream",
     "text": [
      "None None BoW 300 tanh sgd 1: 0.964266703519107\n"
     ]
    },
    {
     "name": "stderr",
     "output_type": "stream",
     "text": [
      "C:\\Users\\zhest\\PycharmProjects\\LSINewsGroup\\.venv\\Lib\\site-packages\\sklearn\\neural_network\\_multilayer_perceptron.py:691: ConvergenceWarning: Stochastic Optimizer: Maximum iterations (300) reached and the optimization hasn't converged yet.\n",
      "  warnings.warn(\n"
     ]
    },
    {
     "name": "stdout",
     "output_type": "stream",
     "text": [
      "None None BoW 300 tanh sgd 10: 0.9641787285044683\n"
     ]
    },
    {
     "name": "stderr",
     "output_type": "stream",
     "text": [
      "C:\\Users\\zhest\\PycharmProjects\\LSINewsGroup\\.venv\\Lib\\site-packages\\sklearn\\neural_network\\_multilayer_perceptron.py:691: ConvergenceWarning: Stochastic Optimizer: Maximum iterations (300) reached and the optimization hasn't converged yet.\n",
      "  warnings.warn(\n"
     ]
    },
    {
     "name": "stdout",
     "output_type": "stream",
     "text": [
      "None None BoW 300 tanh sgd 15: 0.962521827037956\n"
     ]
    },
    {
     "name": "stderr",
     "output_type": "stream",
     "text": [
      "C:\\Users\\zhest\\PycharmProjects\\LSINewsGroup\\.venv\\Lib\\site-packages\\sklearn\\neural_network\\_multilayer_perceptron.py:691: ConvergenceWarning: Stochastic Optimizer: Maximum iterations (300) reached and the optimization hasn't converged yet.\n",
      "  warnings.warn(\n"
     ]
    },
    {
     "name": "stdout",
     "output_type": "stream",
     "text": [
      "None None BoW 300 tanh sgd 25: 0.964290849475253\n"
     ]
    },
    {
     "name": "stderr",
     "output_type": "stream",
     "text": [
      "C:\\Users\\zhest\\PycharmProjects\\LSINewsGroup\\.venv\\Lib\\site-packages\\sklearn\\neural_network\\_multilayer_perceptron.py:691: ConvergenceWarning: Stochastic Optimizer: Maximum iterations (300) reached and the optimization hasn't converged yet.\n",
      "  warnings.warn(\n"
     ]
    },
    {
     "name": "stdout",
     "output_type": "stream",
     "text": [
      "None None BoW 300 tanh sgd 40: 0.9607986039598228\n",
      "None None BoW 300 tanh adam 1: 0.9728066362218275\n",
      "None None BoW 300 tanh adam 10: 0.976044206552062\n",
      "None None BoW 300 tanh adam 15: 0.9727909245276168\n",
      "None None BoW 300 tanh adam 25: 0.979525125477272\n",
      "None None BoW 300 tanh adam 40: 0.976178273346463\n",
      "None None BoW 300 relu lbfgs 1: 0.9675479832727114\n",
      "None None BoW 300 relu lbfgs 10: 0.9641659423912082\n",
      "None None BoW 300 relu lbfgs 15: 0.9624807676115522\n",
      "None None BoW 300 relu lbfgs 25: 0.9607099342336163\n",
      "None None BoW 300 relu lbfgs 40: 0.9641685268281787\n"
     ]
    },
    {
     "name": "stderr",
     "output_type": "stream",
     "text": [
      "C:\\Users\\zhest\\PycharmProjects\\LSINewsGroup\\.venv\\Lib\\site-packages\\sklearn\\neural_network\\_multilayer_perceptron.py:691: ConvergenceWarning: Stochastic Optimizer: Maximum iterations (300) reached and the optimization hasn't converged yet.\n",
      "  warnings.warn(\n"
     ]
    },
    {
     "name": "stdout",
     "output_type": "stream",
     "text": [
      "None None BoW 300 relu sgd 1: 0.9625823454637012\n"
     ]
    },
    {
     "name": "stderr",
     "output_type": "stream",
     "text": [
      "C:\\Users\\zhest\\PycharmProjects\\LSINewsGroup\\.venv\\Lib\\site-packages\\sklearn\\neural_network\\_multilayer_perceptron.py:691: ConvergenceWarning: Stochastic Optimizer: Maximum iterations (300) reached and the optimization hasn't converged yet.\n",
      "  warnings.warn(\n"
     ]
    },
    {
     "name": "stdout",
     "output_type": "stream",
     "text": [
      "None None BoW 300 relu sgd 10: 0.9607697533252672\n"
     ]
    },
    {
     "name": "stderr",
     "output_type": "stream",
     "text": [
      "C:\\Users\\zhest\\PycharmProjects\\LSINewsGroup\\.venv\\Lib\\site-packages\\sklearn\\neural_network\\_multilayer_perceptron.py:691: ConvergenceWarning: Stochastic Optimizer: Maximum iterations (300) reached and the optimization hasn't converged yet.\n",
      "  warnings.warn(\n"
     ]
    },
    {
     "name": "stdout",
     "output_type": "stream",
     "text": [
      "None None BoW 300 relu sgd 15: 0.9591327154602589\n"
     ]
    },
    {
     "name": "stderr",
     "output_type": "stream",
     "text": [
      "C:\\Users\\zhest\\PycharmProjects\\LSINewsGroup\\.venv\\Lib\\site-packages\\sklearn\\neural_network\\_multilayer_perceptron.py:691: ConvergenceWarning: Stochastic Optimizer: Maximum iterations (300) reached and the optimization hasn't converged yet.\n",
      "  warnings.warn(\n"
     ]
    },
    {
     "name": "stdout",
     "output_type": "stream",
     "text": [
      "None None BoW 300 relu sgd 25: 0.9625490438304328\n"
     ]
    },
    {
     "name": "stderr",
     "output_type": "stream",
     "text": [
      "C:\\Users\\zhest\\PycharmProjects\\LSINewsGroup\\.venv\\Lib\\site-packages\\sklearn\\neural_network\\_multilayer_perceptron.py:691: ConvergenceWarning: Stochastic Optimizer: Maximum iterations (300) reached and the optimization hasn't converged yet.\n",
      "  warnings.warn(\n"
     ]
    },
    {
     "name": "stdout",
     "output_type": "stream",
     "text": [
      "None None BoW 300 relu sgd 40: 0.9608258539626164\n",
      "None None BoW 300 relu adam 1: 0.9778453025868156\n",
      "None None BoW 300 relu adam 10: 0.9778189085388853\n",
      "None None BoW 300 relu adam 15: 0.9778453025868156\n",
      "None None BoW 300 relu adam 25: 0.9778770988375507\n",
      "None None BoW 300 relu adam 40: 0.9761338779505133\n",
      "None None BoW 400 identity lbfgs 1: 0.9607670868596317\n",
      "None None BoW 400 identity lbfgs 10: 0.9641684552805725\n",
      "None None BoW 400 identity lbfgs 15: 0.9607714472002739\n",
      "None None BoW 400 identity lbfgs 25: 0.9660294151966398\n",
      "None None BoW 400 identity lbfgs 40: 0.9573924650847729\n",
      "None None BoW 400 identity sgd 1: 0.9693638326668379\n",
      "None None BoW 400 identity sgd 10: 0.9675936193773149\n",
      "None None BoW 400 identity sgd 15: 0.9642762568385059\n",
      "None None BoW 400 identity sgd 25: 0.9659747210891407\n",
      "None None BoW 400 identity sgd 40: 0.9625084479750703\n",
      "None None BoW 400 identity adam 1: 0.9728066362218275\n",
      "None None BoW 400 identity adam 10: 0.9743021597412799\n",
      "None None BoW 400 identity adam 15: 0.9711143989428662\n",
      "None None BoW 400 identity adam 25: 0.9761431192357437\n",
      "None None BoW 400 identity adam 40: 0.9744938288053469\n",
      "None None BoW 400 logistic lbfgs 1: 0.9573122879309076\n",
      "None None BoW 400 logistic lbfgs 10: 0.953793628752397\n",
      "None None BoW 400 logistic lbfgs 15: 0.9676024973819581\n",
      "None None BoW 400 logistic lbfgs 25: 0.9624887935442479\n",
      "None None BoW 400 logistic lbfgs 40: 0.9589475101217019\n"
     ]
    },
    {
     "name": "stderr",
     "output_type": "stream",
     "text": [
      "C:\\Users\\zhest\\PycharmProjects\\LSINewsGroup\\.venv\\Lib\\site-packages\\sklearn\\neural_network\\_multilayer_perceptron.py:691: ConvergenceWarning: Stochastic Optimizer: Maximum iterations (400) reached and the optimization hasn't converged yet.\n",
      "  warnings.warn(\n"
     ]
    },
    {
     "name": "stdout",
     "output_type": "stream",
     "text": [
      "None None BoW 400 logistic sgd 1: 0.9472548769089608\n"
     ]
    },
    {
     "name": "stderr",
     "output_type": "stream",
     "text": [
      "C:\\Users\\zhest\\PycharmProjects\\LSINewsGroup\\.venv\\Lib\\site-packages\\sklearn\\neural_network\\_multilayer_perceptron.py:691: ConvergenceWarning: Stochastic Optimizer: Maximum iterations (400) reached and the optimization hasn't converged yet.\n",
      "  warnings.warn(\n"
     ]
    },
    {
     "name": "stdout",
     "output_type": "stream",
     "text": [
      "None None BoW 400 logistic sgd 10: 0.9472348345700782\n"
     ]
    },
    {
     "name": "stderr",
     "output_type": "stream",
     "text": [
      "C:\\Users\\zhest\\PycharmProjects\\LSINewsGroup\\.venv\\Lib\\site-packages\\sklearn\\neural_network\\_multilayer_perceptron.py:691: ConvergenceWarning: Stochastic Optimizer: Maximum iterations (400) reached and the optimization hasn't converged yet.\n",
      "  warnings.warn(\n"
     ]
    },
    {
     "name": "stdout",
     "output_type": "stream",
     "text": [
      "None None BoW 400 logistic sgd 15: 0.9421549093755159\n"
     ]
    },
    {
     "name": "stderr",
     "output_type": "stream",
     "text": [
      "C:\\Users\\zhest\\PycharmProjects\\LSINewsGroup\\.venv\\Lib\\site-packages\\sklearn\\neural_network\\_multilayer_perceptron.py:691: ConvergenceWarning: Stochastic Optimizer: Maximum iterations (400) reached and the optimization hasn't converged yet.\n",
      "  warnings.warn(\n"
     ]
    },
    {
     "name": "stdout",
     "output_type": "stream",
     "text": [
      "None None BoW 400 logistic sgd 25: 0.9421549093755159\n"
     ]
    },
    {
     "name": "stderr",
     "output_type": "stream",
     "text": [
      "C:\\Users\\zhest\\PycharmProjects\\LSINewsGroup\\.venv\\Lib\\site-packages\\sklearn\\neural_network\\_multilayer_perceptron.py:691: ConvergenceWarning: Stochastic Optimizer: Maximum iterations (400) reached and the optimization hasn't converged yet.\n",
      "  warnings.warn(\n"
     ]
    },
    {
     "name": "stdout",
     "output_type": "stream",
     "text": [
      "None None BoW 400 logistic sgd 40: 0.9387420172092563\n",
      "None None BoW 400 logistic adam 1: 0.9795744906052499\n",
      "None None BoW 400 logistic adam 10: 0.9778453025868156\n",
      "None None BoW 400 logistic adam 15: 0.9761967619851786\n",
      "None None BoW 400 logistic adam 25: 0.9778624712468343\n",
      "None None BoW 400 logistic adam 40: 0.9778624712468343\n",
      "None None BoW 400 tanh lbfgs 1: 0.9589701060717888\n",
      "None None BoW 400 tanh lbfgs 10: 0.9642192438609669\n",
      "None None BoW 400 tanh lbfgs 15: 0.9590634353805709\n",
      "None None BoW 400 tanh lbfgs 25: 0.9675793662688886\n",
      "None None BoW 400 tanh lbfgs 40: 0.9658165799584525\n",
      "None None BoW 400 tanh sgd 1: 0.9676799223955199\n",
      "None None BoW 400 tanh sgd 10: 0.9675936193773149\n",
      "None None BoW 400 tanh sgd 15: 0.9642229093040717\n",
      "None None BoW 400 tanh sgd 25: 0.9659747210891407\n",
      "None None BoW 400 tanh sgd 40: 0.9625084479750703\n",
      "None None BoW 400 tanh adam 1: 0.9728066362218275\n",
      "None None BoW 400 tanh adam 10: 0.976044206552062\n",
      "None None BoW 400 tanh adam 15: 0.9727909245276168\n",
      "None None BoW 400 tanh adam 25: 0.979525125477272\n",
      "None None BoW 400 tanh adam 40: 0.976178273346463\n",
      "None None BoW 400 relu lbfgs 1: 0.9675479832727114\n",
      "None None BoW 400 relu lbfgs 10: 0.9641659423912082\n",
      "None None BoW 400 relu lbfgs 15: 0.9624807676115522\n",
      "None None BoW 400 relu lbfgs 25: 0.9607099342336163\n",
      "None None BoW 400 relu lbfgs 40: 0.9641685268281787\n",
      "None None BoW 400 relu sgd 1: 0.9659507144242113\n",
      "None None BoW 400 relu sgd 10: 0.9658817655578789\n",
      "None None BoW 400 relu sgd 15: 0.962521827037956\n",
      "None None BoW 400 relu sgd 25: 0.9659250368205592\n",
      "None None BoW 400 relu sgd 40: 0.9642371936745462\n",
      "None None BoW 400 relu adam 1: 0.9778453025868156\n",
      "None None BoW 400 relu adam 10: 0.9778189085388853\n",
      "None None BoW 400 relu adam 15: 0.9778453025868156\n",
      "None None BoW 400 relu adam 25: 0.9778770988375507\n",
      "None None BoW 400 relu adam 40: 0.9761338779505133\n",
      "None None BoW 500 identity lbfgs 1: 0.9607670868596317\n",
      "None None BoW 500 identity lbfgs 10: 0.9641684552805725\n",
      "None None BoW 500 identity lbfgs 15: 0.9607714472002739\n",
      "None None BoW 500 identity lbfgs 25: 0.9660294151966398\n",
      "None None BoW 500 identity lbfgs 40: 0.9573924650847729\n",
      "None None BoW 500 identity sgd 1: 0.9693638326668379\n",
      "None None BoW 500 identity sgd 10: 0.9675936193773149\n",
      "None None BoW 500 identity sgd 15: 0.9642762568385059\n",
      "None None BoW 500 identity sgd 25: 0.9659747210891407\n",
      "None None BoW 500 identity sgd 40: 0.9625084479750703\n",
      "None None BoW 500 identity adam 1: 0.9728066362218275\n",
      "None None BoW 500 identity adam 10: 0.9743021597412799\n",
      "None None BoW 500 identity adam 15: 0.9711143989428662\n",
      "None None BoW 500 identity adam 25: 0.9761431192357437\n",
      "None None BoW 500 identity adam 40: 0.9744938288053469\n",
      "None None BoW 500 logistic lbfgs 1: 0.9573122879309076\n",
      "None None BoW 500 logistic lbfgs 10: 0.953793628752397\n",
      "None None BoW 500 logistic lbfgs 15: 0.9676024973819581\n",
      "None None BoW 500 logistic lbfgs 25: 0.9624887935442479\n",
      "None None BoW 500 logistic lbfgs 40: 0.9589475101217019\n"
     ]
    },
    {
     "name": "stderr",
     "output_type": "stream",
     "text": [
      "C:\\Users\\zhest\\PycharmProjects\\LSINewsGroup\\.venv\\Lib\\site-packages\\sklearn\\neural_network\\_multilayer_perceptron.py:691: ConvergenceWarning: Stochastic Optimizer: Maximum iterations (500) reached and the optimization hasn't converged yet.\n",
      "  warnings.warn(\n"
     ]
    },
    {
     "name": "stdout",
     "output_type": "stream",
     "text": [
      "None None BoW 500 logistic sgd 1: 0.9489400240864508\n"
     ]
    },
    {
     "name": "stderr",
     "output_type": "stream",
     "text": [
      "C:\\Users\\zhest\\PycharmProjects\\LSINewsGroup\\.venv\\Lib\\site-packages\\sklearn\\neural_network\\_multilayer_perceptron.py:691: ConvergenceWarning: Stochastic Optimizer: Maximum iterations (500) reached and the optimization hasn't converged yet.\n",
      "  warnings.warn(\n"
     ]
    },
    {
     "name": "stdout",
     "output_type": "stream",
     "text": [
      "None None BoW 500 logistic sgd 10: 0.9438173571872259\n"
     ]
    },
    {
     "name": "stderr",
     "output_type": "stream",
     "text": [
      "C:\\Users\\zhest\\PycharmProjects\\LSINewsGroup\\.venv\\Lib\\site-packages\\sklearn\\neural_network\\_multilayer_perceptron.py:691: ConvergenceWarning: Stochastic Optimizer: Maximum iterations (500) reached and the optimization hasn't converged yet.\n",
      "  warnings.warn(\n"
     ]
    },
    {
     "name": "stdout",
     "output_type": "stream",
     "text": [
      "None None BoW 500 logistic sgd 15: 0.9455254328606765\n"
     ]
    },
    {
     "name": "stderr",
     "output_type": "stream",
     "text": [
      "C:\\Users\\zhest\\PycharmProjects\\LSINewsGroup\\.venv\\Lib\\site-packages\\sklearn\\neural_network\\_multilayer_perceptron.py:691: ConvergenceWarning: Stochastic Optimizer: Maximum iterations (500) reached and the optimization hasn't converged yet.\n",
      "  warnings.warn(\n"
     ]
    },
    {
     "name": "stdout",
     "output_type": "stream",
     "text": [
      "None None BoW 500 logistic sgd 25: 0.9489235604879169\n"
     ]
    },
    {
     "name": "stderr",
     "output_type": "stream",
     "text": [
      "C:\\Users\\zhest\\PycharmProjects\\LSINewsGroup\\.venv\\Lib\\site-packages\\sklearn\\neural_network\\_multilayer_perceptron.py:691: ConvergenceWarning: Stochastic Optimizer: Maximum iterations (500) reached and the optimization hasn't converged yet.\n",
      "  warnings.warn(\n"
     ]
    },
    {
     "name": "stdout",
     "output_type": "stream",
     "text": [
      "None None BoW 500 logistic sgd 40: 0.9455386066079136\n",
      "None None BoW 500 logistic adam 1: 0.9795744906052499\n",
      "None None BoW 500 logistic adam 10: 0.9778453025868156\n",
      "None None BoW 500 logistic adam 15: 0.9761967619851786\n",
      "None None BoW 500 logistic adam 25: 0.9778624712468343\n",
      "None None BoW 500 logistic adam 40: 0.9778624712468343\n",
      "None None BoW 500 tanh lbfgs 1: 0.9589701060717888\n",
      "None None BoW 500 tanh lbfgs 10: 0.9642192438609669\n",
      "None None BoW 500 tanh lbfgs 15: 0.9590634353805709\n",
      "None None BoW 500 tanh lbfgs 25: 0.9675793662688886\n",
      "None None BoW 500 tanh lbfgs 40: 0.9658165799584525\n",
      "None None BoW 500 tanh sgd 1: 0.9676799223955199\n",
      "None None BoW 500 tanh sgd 10: 0.9675936193773149\n",
      "None None BoW 500 tanh sgd 15: 0.9642229093040717\n",
      "None None BoW 500 tanh sgd 25: 0.9659747210891407\n",
      "None None BoW 500 tanh sgd 40: 0.9625084479750703\n",
      "None None BoW 500 tanh adam 1: 0.9728066362218275\n",
      "None None BoW 500 tanh adam 10: 0.976044206552062\n",
      "None None BoW 500 tanh adam 15: 0.9727909245276168\n",
      "None None BoW 500 tanh adam 25: 0.979525125477272\n",
      "None None BoW 500 tanh adam 40: 0.976178273346463\n",
      "None None BoW 500 relu lbfgs 1: 0.9675479832727114\n",
      "None None BoW 500 relu lbfgs 10: 0.9641659423912082\n",
      "None None BoW 500 relu lbfgs 15: 0.9624807676115522\n",
      "None None BoW 500 relu lbfgs 25: 0.9607099342336163\n",
      "None None BoW 500 relu lbfgs 40: 0.9641685268281787\n",
      "None None BoW 500 relu sgd 1: 0.9659507144242113\n",
      "None None BoW 500 relu sgd 10: 0.9658817655578789\n",
      "None None BoW 500 relu sgd 15: 0.962521827037956\n",
      "None None BoW 500 relu sgd 25: 0.9659250368205592\n",
      "None None BoW 500 relu sgd 40: 0.9642371936745462\n",
      "None None BoW 500 relu adam 1: 0.9778453025868156\n",
      "None None BoW 500 relu adam 10: 0.9778189085388853\n",
      "None None BoW 500 relu adam 15: 0.9778453025868156\n",
      "None None BoW 500 relu adam 25: 0.9778770988375507\n",
      "None None BoW 500 relu adam 40: 0.9761338779505133\n",
      "None None TF-IDF 100 identity lbfgs 1: 0.9778406902215796\n",
      "None None TF-IDF 100 identity lbfgs 10: 0.9761057693679733\n",
      "None None TF-IDF 100 identity lbfgs 15: 0.9726750327654228\n",
      "None None TF-IDF 100 identity lbfgs 25: 0.974397763011645\n",
      "None None TF-IDF 100 identity lbfgs 40: 0.9726826030570608\n"
     ]
    },
    {
     "name": "stderr",
     "output_type": "stream",
     "text": [
      "C:\\Users\\zhest\\PycharmProjects\\LSINewsGroup\\.venv\\Lib\\site-packages\\sklearn\\neural_network\\_multilayer_perceptron.py:691: ConvergenceWarning: Stochastic Optimizer: Maximum iterations (100) reached and the optimization hasn't converged yet.\n",
      "  warnings.warn(\n"
     ]
    },
    {
     "name": "stdout",
     "output_type": "stream",
     "text": [
      "None None TF-IDF 100 identity sgd 1: 0.7124405938475331\n"
     ]
    },
    {
     "name": "stderr",
     "output_type": "stream",
     "text": [
      "C:\\Users\\zhest\\PycharmProjects\\LSINewsGroup\\.venv\\Lib\\site-packages\\sklearn\\neural_network\\_multilayer_perceptron.py:691: ConvergenceWarning: Stochastic Optimizer: Maximum iterations (100) reached and the optimization hasn't converged yet.\n",
      "  warnings.warn(\n"
     ]
    },
    {
     "name": "stdout",
     "output_type": "stream",
     "text": [
      "None None TF-IDF 100 identity sgd 10: 0.6793925801017999\n"
     ]
    },
    {
     "name": "stderr",
     "output_type": "stream",
     "text": [
      "C:\\Users\\zhest\\PycharmProjects\\LSINewsGroup\\.venv\\Lib\\site-packages\\sklearn\\neural_network\\_multilayer_perceptron.py:691: ConvergenceWarning: Stochastic Optimizer: Maximum iterations (100) reached and the optimization hasn't converged yet.\n",
      "  warnings.warn(\n"
     ]
    },
    {
     "name": "stdout",
     "output_type": "stream",
     "text": [
      "None None TF-IDF 100 identity sgd 15: 0.691889846478292\n"
     ]
    },
    {
     "name": "stderr",
     "output_type": "stream",
     "text": [
      "C:\\Users\\zhest\\PycharmProjects\\LSINewsGroup\\.venv\\Lib\\site-packages\\sklearn\\neural_network\\_multilayer_perceptron.py:691: ConvergenceWarning: Stochastic Optimizer: Maximum iterations (100) reached and the optimization hasn't converged yet.\n",
      "  warnings.warn(\n"
     ]
    },
    {
     "name": "stdout",
     "output_type": "stream",
     "text": [
      "None None TF-IDF 100 identity sgd 25: 0.5854890849291086\n"
     ]
    },
    {
     "name": "stderr",
     "output_type": "stream",
     "text": [
      "C:\\Users\\zhest\\PycharmProjects\\LSINewsGroup\\.venv\\Lib\\site-packages\\sklearn\\neural_network\\_multilayer_perceptron.py:691: ConvergenceWarning: Stochastic Optimizer: Maximum iterations (100) reached and the optimization hasn't converged yet.\n",
      "  warnings.warn(\n"
     ]
    },
    {
     "name": "stdout",
     "output_type": "stream",
     "text": [
      "None None TF-IDF 100 identity sgd 40: 0.6854657679880117\n",
      "None None TF-IDF 100 identity adam 1: 0.970976990512992\n",
      "None None TF-IDF 100 identity adam 10: 0.9709921842109813\n",
      "None None TF-IDF 100 identity adam 15: 0.9692934222830701\n",
      "None None TF-IDF 100 identity adam 25: 0.9675885411406244\n",
      "None None TF-IDF 100 identity adam 40: 0.9692934222830701\n",
      "None None TF-IDF 100 logistic lbfgs 1: 0.9778582351680524\n",
      "None None TF-IDF 100 logistic lbfgs 10: 0.9761133388887433\n",
      "None None TF-IDF 100 logistic lbfgs 15: 0.9812725698945953\n",
      "None None TF-IDF 100 logistic lbfgs 25: 0.9795623897850058\n",
      "None None TF-IDF 100 logistic lbfgs 40: 0.976140406260969\n",
      "None None TF-IDF 100 logistic sgd 1: 0.143379424531257\n",
      "None None TF-IDF 100 logistic sgd 10: 0.143379424531257\n",
      "None None TF-IDF 100 logistic sgd 15: 0.143379424531257\n",
      "None None TF-IDF 100 logistic sgd 25: 0.143379424531257\n",
      "None None TF-IDF 100 logistic sgd 40: 0.143379424531257\n"
     ]
    },
    {
     "name": "stderr",
     "output_type": "stream",
     "text": [
      "C:\\Users\\zhest\\PycharmProjects\\LSINewsGroup\\.venv\\Lib\\site-packages\\sklearn\\neural_network\\_multilayer_perceptron.py:691: ConvergenceWarning: Stochastic Optimizer: Maximum iterations (100) reached and the optimization hasn't converged yet.\n",
      "  warnings.warn(\n"
     ]
    },
    {
     "name": "stdout",
     "output_type": "stream",
     "text": [
      "None None TF-IDF 100 logistic adam 1: 0.9709921842109813\n"
     ]
    },
    {
     "name": "stderr",
     "output_type": "stream",
     "text": [
      "C:\\Users\\zhest\\PycharmProjects\\LSINewsGroup\\.venv\\Lib\\site-packages\\sklearn\\neural_network\\_multilayer_perceptron.py:691: ConvergenceWarning: Stochastic Optimizer: Maximum iterations (100) reached and the optimization hasn't converged yet.\n",
      "  warnings.warn(\n"
     ]
    },
    {
     "name": "stdout",
     "output_type": "stream",
     "text": [
      "None None TF-IDF 100 logistic adam 10: 0.9709921842109813\n"
     ]
    },
    {
     "name": "stderr",
     "output_type": "stream",
     "text": [
      "C:\\Users\\zhest\\PycharmProjects\\LSINewsGroup\\.venv\\Lib\\site-packages\\sklearn\\neural_network\\_multilayer_perceptron.py:691: ConvergenceWarning: Stochastic Optimizer: Maximum iterations (100) reached and the optimization hasn't converged yet.\n",
      "  warnings.warn(\n"
     ]
    },
    {
     "name": "stdout",
     "output_type": "stream",
     "text": [
      "None None TF-IDF 100 logistic adam 15: 0.9743684592883718\n"
     ]
    },
    {
     "name": "stderr",
     "output_type": "stream",
     "text": [
      "C:\\Users\\zhest\\PycharmProjects\\LSINewsGroup\\.venv\\Lib\\site-packages\\sklearn\\neural_network\\_multilayer_perceptron.py:691: ConvergenceWarning: Stochastic Optimizer: Maximum iterations (100) reached and the optimization hasn't converged yet.\n",
      "  warnings.warn(\n"
     ]
    },
    {
     "name": "stdout",
     "output_type": "stream",
     "text": [
      "None None TF-IDF 100 logistic adam 25: 0.972680182346696\n"
     ]
    },
    {
     "name": "stderr",
     "output_type": "stream",
     "text": [
      "C:\\Users\\zhest\\PycharmProjects\\LSINewsGroup\\.venv\\Lib\\site-packages\\sklearn\\neural_network\\_multilayer_perceptron.py:691: ConvergenceWarning: Stochastic Optimizer: Maximum iterations (100) reached and the optimization hasn't converged yet.\n",
      "  warnings.warn(\n"
     ]
    },
    {
     "name": "stdout",
     "output_type": "stream",
     "text": [
      "None None TF-IDF 100 logistic adam 40: 0.9744124868211006\n",
      "None None TF-IDF 100 tanh lbfgs 1: 0.9778406902215796\n",
      "None None TF-IDF 100 tanh lbfgs 10: 0.9743905508528482\n",
      "None None TF-IDF 100 tanh lbfgs 15: 0.9743922879408881\n",
      "None None TF-IDF 100 tanh lbfgs 25: 0.9760935930782716\n",
      "None None TF-IDF 100 tanh lbfgs 40: 0.9726826030570608\n"
     ]
    },
    {
     "name": "stderr",
     "output_type": "stream",
     "text": [
      "C:\\Users\\zhest\\PycharmProjects\\LSINewsGroup\\.venv\\Lib\\site-packages\\sklearn\\neural_network\\_multilayer_perceptron.py:691: ConvergenceWarning: Stochastic Optimizer: Maximum iterations (100) reached and the optimization hasn't converged yet.\n",
      "  warnings.warn(\n"
     ]
    },
    {
     "name": "stdout",
     "output_type": "stream",
     "text": [
      "None None TF-IDF 100 tanh sgd 1: 0.7101823970704058\n"
     ]
    },
    {
     "name": "stderr",
     "output_type": "stream",
     "text": [
      "C:\\Users\\zhest\\PycharmProjects\\LSINewsGroup\\.venv\\Lib\\site-packages\\sklearn\\neural_network\\_multilayer_perceptron.py:691: ConvergenceWarning: Stochastic Optimizer: Maximum iterations (100) reached and the optimization hasn't converged yet.\n",
      "  warnings.warn(\n"
     ]
    },
    {
     "name": "stdout",
     "output_type": "stream",
     "text": [
      "None None TF-IDF 100 tanh sgd 10: 0.6797735078902188\n"
     ]
    },
    {
     "name": "stderr",
     "output_type": "stream",
     "text": [
      "C:\\Users\\zhest\\PycharmProjects\\LSINewsGroup\\.venv\\Lib\\site-packages\\sklearn\\neural_network\\_multilayer_perceptron.py:691: ConvergenceWarning: Stochastic Optimizer: Maximum iterations (100) reached and the optimization hasn't converged yet.\n",
      "  warnings.warn(\n"
     ]
    },
    {
     "name": "stdout",
     "output_type": "stream",
     "text": [
      "None None TF-IDF 100 tanh sgd 15: 0.6911373050042324\n"
     ]
    },
    {
     "name": "stderr",
     "output_type": "stream",
     "text": [
      "C:\\Users\\zhest\\PycharmProjects\\LSINewsGroup\\.venv\\Lib\\site-packages\\sklearn\\neural_network\\_multilayer_perceptron.py:691: ConvergenceWarning: Stochastic Optimizer: Maximum iterations (100) reached and the optimization hasn't converged yet.\n",
      "  warnings.warn(\n"
     ]
    },
    {
     "name": "stdout",
     "output_type": "stream",
     "text": [
      "None None TF-IDF 100 tanh sgd 25: 0.5854890849291086\n"
     ]
    },
    {
     "name": "stderr",
     "output_type": "stream",
     "text": [
      "C:\\Users\\zhest\\PycharmProjects\\LSINewsGroup\\.venv\\Lib\\site-packages\\sklearn\\neural_network\\_multilayer_perceptron.py:691: ConvergenceWarning: Stochastic Optimizer: Maximum iterations (100) reached and the optimization hasn't converged yet.\n",
      "  warnings.warn(\n"
     ]
    },
    {
     "name": "stdout",
     "output_type": "stream",
     "text": [
      "None None TF-IDF 100 tanh sgd 40: 0.6854657679880117\n",
      "None None TF-IDF 100 tanh adam 1: 0.970976990512992\n",
      "None None TF-IDF 100 tanh adam 10: 0.9709921842109813\n",
      "None None TF-IDF 100 tanh adam 15: 0.9692934222830701\n",
      "None None TF-IDF 100 tanh adam 25: 0.9675885411406244\n",
      "None None TF-IDF 100 tanh adam 40: 0.9692934222830701\n",
      "None None TF-IDF 100 relu lbfgs 1: 0.9726889547223799\n",
      "None None TF-IDF 100 relu lbfgs 10: 0.9709724210421143\n",
      "None None TF-IDF 100 relu lbfgs 15: 0.9709938144907638\n",
      "None None TF-IDF 100 relu lbfgs 25: 0.9760891269443931\n",
      "None None TF-IDF 100 relu lbfgs 40: 0.9726421370222313\n"
     ]
    },
    {
     "name": "stderr",
     "output_type": "stream",
     "text": [
      "C:\\Users\\zhest\\PycharmProjects\\LSINewsGroup\\.venv\\Lib\\site-packages\\sklearn\\neural_network\\_multilayer_perceptron.py:691: ConvergenceWarning: Stochastic Optimizer: Maximum iterations (100) reached and the optimization hasn't converged yet.\n",
      "  warnings.warn(\n"
     ]
    },
    {
     "name": "stdout",
     "output_type": "stream",
     "text": [
      "None None TF-IDF 100 relu sgd 1: 0.4714601096364855\n"
     ]
    },
    {
     "name": "stderr",
     "output_type": "stream",
     "text": [
      "C:\\Users\\zhest\\PycharmProjects\\LSINewsGroup\\.venv\\Lib\\site-packages\\sklearn\\neural_network\\_multilayer_perceptron.py:691: ConvergenceWarning: Stochastic Optimizer: Maximum iterations (100) reached and the optimization hasn't converged yet.\n",
      "  warnings.warn(\n"
     ]
    },
    {
     "name": "stdout",
     "output_type": "stream",
     "text": [
      "None None TF-IDF 100 relu sgd 10: 0.5190948609554985\n"
     ]
    },
    {
     "name": "stderr",
     "output_type": "stream",
     "text": [
      "C:\\Users\\zhest\\PycharmProjects\\LSINewsGroup\\.venv\\Lib\\site-packages\\sklearn\\neural_network\\_multilayer_perceptron.py:691: ConvergenceWarning: Stochastic Optimizer: Maximum iterations (100) reached and the optimization hasn't converged yet.\n",
      "  warnings.warn(\n"
     ]
    },
    {
     "name": "stdout",
     "output_type": "stream",
     "text": [
      "None None TF-IDF 100 relu sgd 15: 0.6105375455310526\n"
     ]
    },
    {
     "name": "stderr",
     "output_type": "stream",
     "text": [
      "C:\\Users\\zhest\\PycharmProjects\\LSINewsGroup\\.venv\\Lib\\site-packages\\sklearn\\neural_network\\_multilayer_perceptron.py:691: ConvergenceWarning: Stochastic Optimizer: Maximum iterations (100) reached and the optimization hasn't converged yet.\n",
      "  warnings.warn(\n"
     ]
    },
    {
     "name": "stdout",
     "output_type": "stream",
     "text": [
      "None None TF-IDF 100 relu sgd 25: 0.5581577957246979\n"
     ]
    },
    {
     "name": "stderr",
     "output_type": "stream",
     "text": [
      "C:\\Users\\zhest\\PycharmProjects\\LSINewsGroup\\.venv\\Lib\\site-packages\\sklearn\\neural_network\\_multilayer_perceptron.py:691: ConvergenceWarning: Stochastic Optimizer: Maximum iterations (100) reached and the optimization hasn't converged yet.\n",
      "  warnings.warn(\n"
     ]
    },
    {
     "name": "stdout",
     "output_type": "stream",
     "text": [
      "None None TF-IDF 100 relu sgd 40: 0.5866933698641016\n",
      "None None TF-IDF 100 relu adam 1: 0.9743922879408881\n",
      "None None TF-IDF 100 relu adam 10: 0.9777845736936478\n",
      "None None TF-IDF 100 relu adam 15: 0.9761045827207644\n",
      "None None TF-IDF 100 relu adam 25: 0.9692869777435228\n",
      "None None TF-IDF 100 relu adam 40: 0.9743905508528482\n",
      "None None TF-IDF 125 identity lbfgs 1: 0.9778406902215796\n",
      "None None TF-IDF 125 identity lbfgs 10: 0.9761057693679733\n",
      "None None TF-IDF 125 identity lbfgs 15: 0.9726750327654228\n",
      "None None TF-IDF 125 identity lbfgs 25: 0.974397763011645\n",
      "None None TF-IDF 125 identity lbfgs 40: 0.9726826030570608\n"
     ]
    },
    {
     "name": "stderr",
     "output_type": "stream",
     "text": [
      "C:\\Users\\zhest\\PycharmProjects\\LSINewsGroup\\.venv\\Lib\\site-packages\\sklearn\\neural_network\\_multilayer_perceptron.py:691: ConvergenceWarning: Stochastic Optimizer: Maximum iterations (125) reached and the optimization hasn't converged yet.\n",
      "  warnings.warn(\n"
     ]
    },
    {
     "name": "stdout",
     "output_type": "stream",
     "text": [
      "None None TF-IDF 125 identity sgd 1: 0.7838411237934491\n"
     ]
    },
    {
     "name": "stderr",
     "output_type": "stream",
     "text": [
      "C:\\Users\\zhest\\PycharmProjects\\LSINewsGroup\\.venv\\Lib\\site-packages\\sklearn\\neural_network\\_multilayer_perceptron.py:691: ConvergenceWarning: Stochastic Optimizer: Maximum iterations (125) reached and the optimization hasn't converged yet.\n",
      "  warnings.warn(\n"
     ]
    },
    {
     "name": "stdout",
     "output_type": "stream",
     "text": [
      "None None TF-IDF 125 identity sgd 10: 0.7725326424916478\n"
     ]
    },
    {
     "name": "stderr",
     "output_type": "stream",
     "text": [
      "C:\\Users\\zhest\\PycharmProjects\\LSINewsGroup\\.venv\\Lib\\site-packages\\sklearn\\neural_network\\_multilayer_perceptron.py:691: ConvergenceWarning: Stochastic Optimizer: Maximum iterations (125) reached and the optimization hasn't converged yet.\n",
      "  warnings.warn(\n"
     ]
    },
    {
     "name": "stdout",
     "output_type": "stream",
     "text": [
      "None None TF-IDF 125 identity sgd 15: 0.7739997135684866\n"
     ]
    },
    {
     "name": "stderr",
     "output_type": "stream",
     "text": [
      "C:\\Users\\zhest\\PycharmProjects\\LSINewsGroup\\.venv\\Lib\\site-packages\\sklearn\\neural_network\\_multilayer_perceptron.py:691: ConvergenceWarning: Stochastic Optimizer: Maximum iterations (125) reached and the optimization hasn't converged yet.\n",
      "  warnings.warn(\n"
     ]
    },
    {
     "name": "stdout",
     "output_type": "stream",
     "text": [
      "None None TF-IDF 125 identity sgd 25: 0.6729435598074613\n"
     ]
    },
    {
     "name": "stderr",
     "output_type": "stream",
     "text": [
      "C:\\Users\\zhest\\PycharmProjects\\LSINewsGroup\\.venv\\Lib\\site-packages\\sklearn\\neural_network\\_multilayer_perceptron.py:691: ConvergenceWarning: Stochastic Optimizer: Maximum iterations (125) reached and the optimization hasn't converged yet.\n",
      "  warnings.warn(\n"
     ]
    },
    {
     "name": "stdout",
     "output_type": "stream",
     "text": [
      "None None TF-IDF 125 identity sgd 40: 0.7496711558147559\n",
      "None None TF-IDF 125 identity adam 1: 0.970976990512992\n",
      "None None TF-IDF 125 identity adam 10: 0.9709921842109813\n",
      "None None TF-IDF 125 identity adam 15: 0.9692934222830701\n",
      "None None TF-IDF 125 identity adam 25: 0.9675885411406244\n",
      "None None TF-IDF 125 identity adam 40: 0.9692934222830701\n",
      "None None TF-IDF 125 logistic lbfgs 1: 0.9778582351680524\n",
      "None None TF-IDF 125 logistic lbfgs 10: 0.9761133388887433\n",
      "None None TF-IDF 125 logistic lbfgs 15: 0.9812725698945953\n",
      "None None TF-IDF 125 logistic lbfgs 25: 0.9795623897850058\n",
      "None None TF-IDF 125 logistic lbfgs 40: 0.976140406260969\n",
      "None None TF-IDF 125 logistic sgd 1: 0.143379424531257\n",
      "None None TF-IDF 125 logistic sgd 10: 0.143379424531257\n",
      "None None TF-IDF 125 logistic sgd 15: 0.143379424531257\n",
      "None None TF-IDF 125 logistic sgd 25: 0.143379424531257\n",
      "None None TF-IDF 125 logistic sgd 40: 0.143379424531257\n"
     ]
    },
    {
     "name": "stderr",
     "output_type": "stream",
     "text": [
      "C:\\Users\\zhest\\PycharmProjects\\LSINewsGroup\\.venv\\Lib\\site-packages\\sklearn\\neural_network\\_multilayer_perceptron.py:691: ConvergenceWarning: Stochastic Optimizer: Maximum iterations (125) reached and the optimization hasn't converged yet.\n",
      "  warnings.warn(\n"
     ]
    },
    {
     "name": "stdout",
     "output_type": "stream",
     "text": [
      "None None TF-IDF 125 logistic adam 1: 0.9709921842109813\n"
     ]
    },
    {
     "name": "stderr",
     "output_type": "stream",
     "text": [
      "C:\\Users\\zhest\\PycharmProjects\\LSINewsGroup\\.venv\\Lib\\site-packages\\sklearn\\neural_network\\_multilayer_perceptron.py:691: ConvergenceWarning: Stochastic Optimizer: Maximum iterations (125) reached and the optimization hasn't converged yet.\n",
      "  warnings.warn(\n"
     ]
    },
    {
     "name": "stdout",
     "output_type": "stream",
     "text": [
      "None None TF-IDF 125 logistic adam 10: 0.9709921842109813\n"
     ]
    },
    {
     "name": "stderr",
     "output_type": "stream",
     "text": [
      "C:\\Users\\zhest\\PycharmProjects\\LSINewsGroup\\.venv\\Lib\\site-packages\\sklearn\\neural_network\\_multilayer_perceptron.py:691: ConvergenceWarning: Stochastic Optimizer: Maximum iterations (125) reached and the optimization hasn't converged yet.\n",
      "  warnings.warn(\n"
     ]
    },
    {
     "name": "stdout",
     "output_type": "stream",
     "text": [
      "None None TF-IDF 125 logistic adam 15: 0.9743684592883718\n"
     ]
    },
    {
     "name": "stderr",
     "output_type": "stream",
     "text": [
      "C:\\Users\\zhest\\PycharmProjects\\LSINewsGroup\\.venv\\Lib\\site-packages\\sklearn\\neural_network\\_multilayer_perceptron.py:691: ConvergenceWarning: Stochastic Optimizer: Maximum iterations (125) reached and the optimization hasn't converged yet.\n",
      "  warnings.warn(\n"
     ]
    },
    {
     "name": "stdout",
     "output_type": "stream",
     "text": [
      "None None TF-IDF 125 logistic adam 25: 0.9709921842109813\n"
     ]
    },
    {
     "name": "stderr",
     "output_type": "stream",
     "text": [
      "C:\\Users\\zhest\\PycharmProjects\\LSINewsGroup\\.venv\\Lib\\site-packages\\sklearn\\neural_network\\_multilayer_perceptron.py:691: ConvergenceWarning: Stochastic Optimizer: Maximum iterations (125) reached and the optimization hasn't converged yet.\n",
      "  warnings.warn(\n"
     ]
    },
    {
     "name": "stdout",
     "output_type": "stream",
     "text": [
      "None None TF-IDF 125 logistic adam 40: 0.972680182346696\n",
      "None None TF-IDF 125 tanh lbfgs 1: 0.9778406902215796\n",
      "None None TF-IDF 125 tanh lbfgs 10: 0.9743905508528482\n",
      "None None TF-IDF 125 tanh lbfgs 15: 0.9743922879408881\n",
      "None None TF-IDF 125 tanh lbfgs 25: 0.9760935930782716\n",
      "None None TF-IDF 125 tanh lbfgs 40: 0.9726826030570608\n"
     ]
    },
    {
     "name": "stderr",
     "output_type": "stream",
     "text": [
      "C:\\Users\\zhest\\PycharmProjects\\LSINewsGroup\\.venv\\Lib\\site-packages\\sklearn\\neural_network\\_multilayer_perceptron.py:691: ConvergenceWarning: Stochastic Optimizer: Maximum iterations (125) reached and the optimization hasn't converged yet.\n",
      "  warnings.warn(\n"
     ]
    },
    {
     "name": "stdout",
     "output_type": "stream",
     "text": [
      "None None TF-IDF 125 tanh sgd 1: 0.7834634696486714\n"
     ]
    },
    {
     "name": "stderr",
     "output_type": "stream",
     "text": [
      "C:\\Users\\zhest\\PycharmProjects\\LSINewsGroup\\.venv\\Lib\\site-packages\\sklearn\\neural_network\\_multilayer_perceptron.py:691: ConvergenceWarning: Stochastic Optimizer: Maximum iterations (125) reached and the optimization hasn't converged yet.\n",
      "  warnings.warn(\n"
     ]
    },
    {
     "name": "stdout",
     "output_type": "stream",
     "text": [
      "None None TF-IDF 125 tanh sgd 10: 0.7725326424916478\n"
     ]
    },
    {
     "name": "stderr",
     "output_type": "stream",
     "text": [
      "C:\\Users\\zhest\\PycharmProjects\\LSINewsGroup\\.venv\\Lib\\site-packages\\sklearn\\neural_network\\_multilayer_perceptron.py:691: ConvergenceWarning: Stochastic Optimizer: Maximum iterations (125) reached and the optimization hasn't converged yet.\n",
      "  warnings.warn(\n"
     ]
    },
    {
     "name": "stdout",
     "output_type": "stream",
     "text": [
      "None None TF-IDF 125 tanh sgd 15: 0.7739997135684866\n"
     ]
    },
    {
     "name": "stderr",
     "output_type": "stream",
     "text": [
      "C:\\Users\\zhest\\PycharmProjects\\LSINewsGroup\\.venv\\Lib\\site-packages\\sklearn\\neural_network\\_multilayer_perceptron.py:691: ConvergenceWarning: Stochastic Optimizer: Maximum iterations (125) reached and the optimization hasn't converged yet.\n",
      "  warnings.warn(\n"
     ]
    },
    {
     "name": "stdout",
     "output_type": "stream",
     "text": [
      "None None TF-IDF 125 tanh sgd 25: 0.6725325515177334\n"
     ]
    },
    {
     "name": "stderr",
     "output_type": "stream",
     "text": [
      "C:\\Users\\zhest\\PycharmProjects\\LSINewsGroup\\.venv\\Lib\\site-packages\\sklearn\\neural_network\\_multilayer_perceptron.py:691: ConvergenceWarning: Stochastic Optimizer: Maximum iterations (125) reached and the optimization hasn't converged yet.\n",
      "  warnings.warn(\n"
     ]
    },
    {
     "name": "stdout",
     "output_type": "stream",
     "text": [
      "None None TF-IDF 125 tanh sgd 40: 0.7513603903259208\n",
      "None None TF-IDF 125 tanh adam 1: 0.970976990512992\n",
      "None None TF-IDF 125 tanh adam 10: 0.9709921842109813\n",
      "None None TF-IDF 125 tanh adam 15: 0.9692934222830701\n",
      "None None TF-IDF 125 tanh adam 25: 0.9675885411406244\n",
      "None None TF-IDF 125 tanh adam 40: 0.9692934222830701\n",
      "None None TF-IDF 125 relu lbfgs 1: 0.9726889547223799\n",
      "None None TF-IDF 125 relu lbfgs 10: 0.9709724210421143\n",
      "None None TF-IDF 125 relu lbfgs 15: 0.9709938144907638\n",
      "None None TF-IDF 125 relu lbfgs 25: 0.9760891269443931\n",
      "None None TF-IDF 125 relu lbfgs 40: 0.9726421370222313\n"
     ]
    },
    {
     "name": "stderr",
     "output_type": "stream",
     "text": [
      "C:\\Users\\zhest\\PycharmProjects\\LSINewsGroup\\.venv\\Lib\\site-packages\\sklearn\\neural_network\\_multilayer_perceptron.py:691: ConvergenceWarning: Stochastic Optimizer: Maximum iterations (125) reached and the optimization hasn't converged yet.\n",
      "  warnings.warn(\n"
     ]
    },
    {
     "name": "stdout",
     "output_type": "stream",
     "text": [
      "None None TF-IDF 125 relu sgd 1: 0.5940389560037502\n"
     ]
    },
    {
     "name": "stderr",
     "output_type": "stream",
     "text": [
      "C:\\Users\\zhest\\PycharmProjects\\LSINewsGroup\\.venv\\Lib\\site-packages\\sklearn\\neural_network\\_multilayer_perceptron.py:691: ConvergenceWarning: Stochastic Optimizer: Maximum iterations (125) reached and the optimization hasn't converged yet.\n",
      "  warnings.warn(\n"
     ]
    },
    {
     "name": "stdout",
     "output_type": "stream",
     "text": [
      "None None TF-IDF 125 relu sgd 10: 0.6149911109968624\n"
     ]
    },
    {
     "name": "stderr",
     "output_type": "stream",
     "text": [
      "C:\\Users\\zhest\\PycharmProjects\\LSINewsGroup\\.venv\\Lib\\site-packages\\sklearn\\neural_network\\_multilayer_perceptron.py:691: ConvergenceWarning: Stochastic Optimizer: Maximum iterations (125) reached and the optimization hasn't converged yet.\n",
      "  warnings.warn(\n"
     ]
    },
    {
     "name": "stdout",
     "output_type": "stream",
     "text": [
      "None None TF-IDF 125 relu sgd 15: 0.69391193634758\n"
     ]
    },
    {
     "name": "stderr",
     "output_type": "stream",
     "text": [
      "C:\\Users\\zhest\\PycharmProjects\\LSINewsGroup\\.venv\\Lib\\site-packages\\sklearn\\neural_network\\_multilayer_perceptron.py:691: ConvergenceWarning: Stochastic Optimizer: Maximum iterations (125) reached and the optimization hasn't converged yet.\n",
      "  warnings.warn(\n"
     ]
    },
    {
     "name": "stdout",
     "output_type": "stream",
     "text": [
      "None None TF-IDF 125 relu sgd 25: 0.6225960962224352\n"
     ]
    },
    {
     "name": "stderr",
     "output_type": "stream",
     "text": [
      "C:\\Users\\zhest\\PycharmProjects\\LSINewsGroup\\.venv\\Lib\\site-packages\\sklearn\\neural_network\\_multilayer_perceptron.py:691: ConvergenceWarning: Stochastic Optimizer: Maximum iterations (125) reached and the optimization hasn't converged yet.\n",
      "  warnings.warn(\n"
     ]
    },
    {
     "name": "stdout",
     "output_type": "stream",
     "text": [
      "None None TF-IDF 125 relu sgd 40: 0.6691955752758069\n",
      "None None TF-IDF 125 relu adam 1: 0.9743922879408881\n",
      "None None TF-IDF 125 relu adam 10: 0.9777845736936478\n",
      "None None TF-IDF 125 relu adam 15: 0.9761045827207644\n",
      "None None TF-IDF 125 relu adam 25: 0.9692869777435228\n",
      "None None TF-IDF 125 relu adam 40: 0.9743905508528482\n",
      "None None TF-IDF 150 identity lbfgs 1: 0.9778406902215796\n",
      "None None TF-IDF 150 identity lbfgs 10: 0.9761057693679733\n",
      "None None TF-IDF 150 identity lbfgs 15: 0.9726750327654228\n",
      "None None TF-IDF 150 identity lbfgs 25: 0.974397763011645\n",
      "None None TF-IDF 150 identity lbfgs 40: 0.9726826030570608\n"
     ]
    },
    {
     "name": "stderr",
     "output_type": "stream",
     "text": [
      "C:\\Users\\zhest\\PycharmProjects\\LSINewsGroup\\.venv\\Lib\\site-packages\\sklearn\\neural_network\\_multilayer_perceptron.py:691: ConvergenceWarning: Stochastic Optimizer: Maximum iterations (150) reached and the optimization hasn't converged yet.\n",
      "  warnings.warn(\n"
     ]
    },
    {
     "name": "stdout",
     "output_type": "stream",
     "text": [
      "None None TF-IDF 150 identity sgd 1: 0.8499130681697536\n"
     ]
    },
    {
     "name": "stderr",
     "output_type": "stream",
     "text": [
      "C:\\Users\\zhest\\PycharmProjects\\LSINewsGroup\\.venv\\Lib\\site-packages\\sklearn\\neural_network\\_multilayer_perceptron.py:691: ConvergenceWarning: Stochastic Optimizer: Maximum iterations (150) reached and the optimization hasn't converged yet.\n",
      "  warnings.warn(\n"
     ]
    },
    {
     "name": "stdout",
     "output_type": "stream",
     "text": [
      "None None TF-IDF 150 identity sgd 10: 0.8312879522025493\n"
     ]
    },
    {
     "name": "stderr",
     "output_type": "stream",
     "text": [
      "C:\\Users\\zhest\\PycharmProjects\\LSINewsGroup\\.venv\\Lib\\site-packages\\sklearn\\neural_network\\_multilayer_perceptron.py:691: ConvergenceWarning: Stochastic Optimizer: Maximum iterations (150) reached and the optimization hasn't converged yet.\n",
      "  warnings.warn(\n"
     ]
    },
    {
     "name": "stdout",
     "output_type": "stream",
     "text": [
      "None None TF-IDF 150 identity sgd 15: 0.8253713658948673\n"
     ]
    },
    {
     "name": "stderr",
     "output_type": "stream",
     "text": [
      "C:\\Users\\zhest\\PycharmProjects\\LSINewsGroup\\.venv\\Lib\\site-packages\\sklearn\\neural_network\\_multilayer_perceptron.py:691: ConvergenceWarning: Stochastic Optimizer: Maximum iterations (150) reached and the optimization hasn't converged yet.\n",
      "  warnings.warn(\n"
     ]
    },
    {
     "name": "stdout",
     "output_type": "stream",
     "text": [
      "None None TF-IDF 150 identity sgd 25: 0.7562395709936693\n"
     ]
    },
    {
     "name": "stderr",
     "output_type": "stream",
     "text": [
      "C:\\Users\\zhest\\PycharmProjects\\LSINewsGroup\\.venv\\Lib\\site-packages\\sklearn\\neural_network\\_multilayer_perceptron.py:691: ConvergenceWarning: Stochastic Optimizer: Maximum iterations (150) reached and the optimization hasn't converged yet.\n",
      "  warnings.warn(\n"
     ]
    },
    {
     "name": "stdout",
     "output_type": "stream",
     "text": [
      "None None TF-IDF 150 identity sgd 40: 0.7991483102062311\n",
      "None None TF-IDF 150 identity adam 1: 0.970976990512992\n",
      "None None TF-IDF 150 identity adam 10: 0.9709921842109813\n",
      "None None TF-IDF 150 identity adam 15: 0.9692934222830701\n",
      "None None TF-IDF 150 identity adam 25: 0.9675885411406244\n",
      "None None TF-IDF 150 identity adam 40: 0.9692934222830701\n",
      "None None TF-IDF 150 logistic lbfgs 1: 0.9778582351680524\n",
      "None None TF-IDF 150 logistic lbfgs 10: 0.9761133388887433\n",
      "None None TF-IDF 150 logistic lbfgs 15: 0.9812725698945953\n",
      "None None TF-IDF 150 logistic lbfgs 25: 0.9795623897850058\n",
      "None None TF-IDF 150 logistic lbfgs 40: 0.976140406260969\n",
      "None None TF-IDF 150 logistic sgd 1: 0.143379424531257\n",
      "None None TF-IDF 150 logistic sgd 10: 0.143379424531257\n",
      "None None TF-IDF 150 logistic sgd 15: 0.143379424531257\n",
      "None None TF-IDF 150 logistic sgd 25: 0.143379424531257\n",
      "None None TF-IDF 150 logistic sgd 40: 0.143379424531257\n",
      "None None TF-IDF 150 logistic adam 1: 0.9709921842109813\n",
      "None None TF-IDF 150 logistic adam 10: 0.9709921842109813\n",
      "None None TF-IDF 150 logistic adam 15: 0.9743684592883718\n",
      "None None TF-IDF 150 logistic adam 25: 0.9709921842109813\n",
      "None None TF-IDF 150 logistic adam 40: 0.9709921842109813\n",
      "None None TF-IDF 150 tanh lbfgs 1: 0.9778406902215796\n",
      "None None TF-IDF 150 tanh lbfgs 10: 0.9743905508528482\n",
      "None None TF-IDF 150 tanh lbfgs 15: 0.9743922879408881\n",
      "None None TF-IDF 150 tanh lbfgs 25: 0.9760935930782716\n",
      "None None TF-IDF 150 tanh lbfgs 40: 0.9726826030570608\n"
     ]
    },
    {
     "name": "stderr",
     "output_type": "stream",
     "text": [
      "C:\\Users\\zhest\\PycharmProjects\\LSINewsGroup\\.venv\\Lib\\site-packages\\sklearn\\neural_network\\_multilayer_perceptron.py:691: ConvergenceWarning: Stochastic Optimizer: Maximum iterations (150) reached and the optimization hasn't converged yet.\n",
      "  warnings.warn(\n"
     ]
    },
    {
     "name": "stdout",
     "output_type": "stream",
     "text": [
      "None None TF-IDF 150 tanh sgd 1: 0.8499130681697536\n"
     ]
    },
    {
     "name": "stderr",
     "output_type": "stream",
     "text": [
      "C:\\Users\\zhest\\PycharmProjects\\LSINewsGroup\\.venv\\Lib\\site-packages\\sklearn\\neural_network\\_multilayer_perceptron.py:691: ConvergenceWarning: Stochastic Optimizer: Maximum iterations (150) reached and the optimization hasn't converged yet.\n",
      "  warnings.warn(\n"
     ]
    },
    {
     "name": "stdout",
     "output_type": "stream",
     "text": [
      "None None TF-IDF 150 tanh sgd 10: 0.8312879522025493\n"
     ]
    },
    {
     "name": "stderr",
     "output_type": "stream",
     "text": [
      "C:\\Users\\zhest\\PycharmProjects\\LSINewsGroup\\.venv\\Lib\\site-packages\\sklearn\\neural_network\\_multilayer_perceptron.py:691: ConvergenceWarning: Stochastic Optimizer: Maximum iterations (150) reached and the optimization hasn't converged yet.\n",
      "  warnings.warn(\n"
     ]
    },
    {
     "name": "stdout",
     "output_type": "stream",
     "text": [
      "None None TF-IDF 150 tanh sgd 15: 0.8253713658948673\n"
     ]
    },
    {
     "name": "stderr",
     "output_type": "stream",
     "text": [
      "C:\\Users\\zhest\\PycharmProjects\\LSINewsGroup\\.venv\\Lib\\site-packages\\sklearn\\neural_network\\_multilayer_perceptron.py:691: ConvergenceWarning: Stochastic Optimizer: Maximum iterations (150) reached and the optimization hasn't converged yet.\n",
      "  warnings.warn(\n"
     ]
    },
    {
     "name": "stdout",
     "output_type": "stream",
     "text": [
      "None None TF-IDF 150 tanh sgd 25: 0.7562395709936693\n"
     ]
    },
    {
     "name": "stderr",
     "output_type": "stream",
     "text": [
      "C:\\Users\\zhest\\PycharmProjects\\LSINewsGroup\\.venv\\Lib\\site-packages\\sklearn\\neural_network\\_multilayer_perceptron.py:691: ConvergenceWarning: Stochastic Optimizer: Maximum iterations (150) reached and the optimization hasn't converged yet.\n",
      "  warnings.warn(\n"
     ]
    },
    {
     "name": "stdout",
     "output_type": "stream",
     "text": [
      "None None TF-IDF 150 tanh sgd 40: 0.7988625976512838\n",
      "None None TF-IDF 150 tanh adam 1: 0.970976990512992\n",
      "None None TF-IDF 150 tanh adam 10: 0.9709921842109813\n",
      "None None TF-IDF 150 tanh adam 15: 0.9692934222830701\n",
      "None None TF-IDF 150 tanh adam 25: 0.9675885411406244\n",
      "None None TF-IDF 150 tanh adam 40: 0.9692934222830701\n",
      "None None TF-IDF 150 relu lbfgs 1: 0.9726889547223799\n",
      "None None TF-IDF 150 relu lbfgs 10: 0.9709724210421143\n",
      "None None TF-IDF 150 relu lbfgs 15: 0.9709938144907638\n",
      "None None TF-IDF 150 relu lbfgs 25: 0.9760891269443931\n",
      "None None TF-IDF 150 relu lbfgs 40: 0.9726421370222313\n"
     ]
    },
    {
     "name": "stderr",
     "output_type": "stream",
     "text": [
      "C:\\Users\\zhest\\PycharmProjects\\LSINewsGroup\\.venv\\Lib\\site-packages\\sklearn\\neural_network\\_multilayer_perceptron.py:691: ConvergenceWarning: Stochastic Optimizer: Maximum iterations (150) reached and the optimization hasn't converged yet.\n",
      "  warnings.warn(\n"
     ]
    },
    {
     "name": "stdout",
     "output_type": "stream",
     "text": [
      "None None TF-IDF 150 relu sgd 1: 0.7021686438665509\n"
     ]
    },
    {
     "name": "stderr",
     "output_type": "stream",
     "text": [
      "C:\\Users\\zhest\\PycharmProjects\\LSINewsGroup\\.venv\\Lib\\site-packages\\sklearn\\neural_network\\_multilayer_perceptron.py:691: ConvergenceWarning: Stochastic Optimizer: Maximum iterations (150) reached and the optimization hasn't converged yet.\n",
      "  warnings.warn(\n"
     ]
    },
    {
     "name": "stdout",
     "output_type": "stream",
     "text": [
      "None None TF-IDF 150 relu sgd 10: 0.69768253368309\n"
     ]
    },
    {
     "name": "stderr",
     "output_type": "stream",
     "text": [
      "C:\\Users\\zhest\\PycharmProjects\\LSINewsGroup\\.venv\\Lib\\site-packages\\sklearn\\neural_network\\_multilayer_perceptron.py:691: ConvergenceWarning: Stochastic Optimizer: Maximum iterations (150) reached and the optimization hasn't converged yet.\n",
      "  warnings.warn(\n"
     ]
    },
    {
     "name": "stdout",
     "output_type": "stream",
     "text": [
      "None None TF-IDF 150 relu sgd 15: 0.7374983684406807\n"
     ]
    },
    {
     "name": "stderr",
     "output_type": "stream",
     "text": [
      "C:\\Users\\zhest\\PycharmProjects\\LSINewsGroup\\.venv\\Lib\\site-packages\\sklearn\\neural_network\\_multilayer_perceptron.py:691: ConvergenceWarning: Stochastic Optimizer: Maximum iterations (150) reached and the optimization hasn't converged yet.\n",
      "  warnings.warn(\n"
     ]
    },
    {
     "name": "stdout",
     "output_type": "stream",
     "text": [
      "None None TF-IDF 150 relu sgd 25: 0.6890273409264668\n"
     ]
    },
    {
     "name": "stderr",
     "output_type": "stream",
     "text": [
      "C:\\Users\\zhest\\PycharmProjects\\LSINewsGroup\\.venv\\Lib\\site-packages\\sklearn\\neural_network\\_multilayer_perceptron.py:691: ConvergenceWarning: Stochastic Optimizer: Maximum iterations (150) reached and the optimization hasn't converged yet.\n",
      "  warnings.warn(\n"
     ]
    },
    {
     "name": "stdout",
     "output_type": "stream",
     "text": [
      "None None TF-IDF 150 relu sgd 40: 0.7324857062821285\n",
      "None None TF-IDF 150 relu adam 1: 0.9743922879408881\n",
      "None None TF-IDF 150 relu adam 10: 0.9777845736936478\n",
      "None None TF-IDF 150 relu adam 15: 0.9761045827207644\n",
      "None None TF-IDF 150 relu adam 25: 0.9692869777435228\n",
      "None None TF-IDF 150 relu adam 40: 0.9743905508528482\n",
      "None None TF-IDF 200 identity lbfgs 1: 0.9778406902215796\n",
      "None None TF-IDF 200 identity lbfgs 10: 0.9761057693679733\n",
      "None None TF-IDF 200 identity lbfgs 15: 0.9726750327654228\n",
      "None None TF-IDF 200 identity lbfgs 25: 0.974397763011645\n",
      "None None TF-IDF 200 identity lbfgs 40: 0.9726826030570608\n"
     ]
    },
    {
     "name": "stderr",
     "output_type": "stream",
     "text": [
      "C:\\Users\\zhest\\PycharmProjects\\LSINewsGroup\\.venv\\Lib\\site-packages\\sklearn\\neural_network\\_multilayer_perceptron.py:691: ConvergenceWarning: Stochastic Optimizer: Maximum iterations (200) reached and the optimization hasn't converged yet.\n",
      "  warnings.warn(\n"
     ]
    },
    {
     "name": "stdout",
     "output_type": "stream",
     "text": [
      "None None TF-IDF 200 identity sgd 1: 0.9004535884055491\n"
     ]
    },
    {
     "name": "stderr",
     "output_type": "stream",
     "text": [
      "C:\\Users\\zhest\\PycharmProjects\\LSINewsGroup\\.venv\\Lib\\site-packages\\sklearn\\neural_network\\_multilayer_perceptron.py:691: ConvergenceWarning: Stochastic Optimizer: Maximum iterations (200) reached and the optimization hasn't converged yet.\n",
      "  warnings.warn(\n"
     ]
    },
    {
     "name": "stdout",
     "output_type": "stream",
     "text": [
      "None None TF-IDF 200 identity sgd 10: 0.8714786610582889\n"
     ]
    },
    {
     "name": "stderr",
     "output_type": "stream",
     "text": [
      "C:\\Users\\zhest\\PycharmProjects\\LSINewsGroup\\.venv\\Lib\\site-packages\\sklearn\\neural_network\\_multilayer_perceptron.py:691: ConvergenceWarning: Stochastic Optimizer: Maximum iterations (200) reached and the optimization hasn't converged yet.\n",
      "  warnings.warn(\n"
     ]
    },
    {
     "name": "stdout",
     "output_type": "stream",
     "text": [
      "None None TF-IDF 200 identity sgd 15: 0.8980383821895758\n"
     ]
    },
    {
     "name": "stderr",
     "output_type": "stream",
     "text": [
      "C:\\Users\\zhest\\PycharmProjects\\LSINewsGroup\\.venv\\Lib\\site-packages\\sklearn\\neural_network\\_multilayer_perceptron.py:691: ConvergenceWarning: Stochastic Optimizer: Maximum iterations (200) reached and the optimization hasn't converged yet.\n",
      "  warnings.warn(\n"
     ]
    },
    {
     "name": "stdout",
     "output_type": "stream",
     "text": [
      "None None TF-IDF 200 identity sgd 25: 0.8467156790686202\n"
     ]
    },
    {
     "name": "stderr",
     "output_type": "stream",
     "text": [
      "C:\\Users\\zhest\\PycharmProjects\\LSINewsGroup\\.venv\\Lib\\site-packages\\sklearn\\neural_network\\_multilayer_perceptron.py:691: ConvergenceWarning: Stochastic Optimizer: Maximum iterations (200) reached and the optimization hasn't converged yet.\n",
      "  warnings.warn(\n"
     ]
    },
    {
     "name": "stdout",
     "output_type": "stream",
     "text": [
      "None None TF-IDF 200 identity sgd 40: 0.8661831023871822\n",
      "None None TF-IDF 200 identity adam 1: 0.970976990512992\n",
      "None None TF-IDF 200 identity adam 10: 0.9709921842109813\n",
      "None None TF-IDF 200 identity adam 15: 0.9692934222830701\n",
      "None None TF-IDF 200 identity adam 25: 0.9675885411406244\n",
      "None None TF-IDF 200 identity adam 40: 0.9692934222830701\n",
      "None None TF-IDF 200 logistic lbfgs 1: 0.9778582351680524\n",
      "None None TF-IDF 200 logistic lbfgs 10: 0.9761133388887433\n",
      "None None TF-IDF 200 logistic lbfgs 15: 0.9812725698945953\n",
      "None None TF-IDF 200 logistic lbfgs 25: 0.9795623897850058\n",
      "None None TF-IDF 200 logistic lbfgs 40: 0.976140406260969\n",
      "None None TF-IDF 200 logistic sgd 1: 0.143379424531257\n",
      "None None TF-IDF 200 logistic sgd 10: 0.143379424531257\n",
      "None None TF-IDF 200 logistic sgd 15: 0.143379424531257\n",
      "None None TF-IDF 200 logistic sgd 25: 0.143379424531257\n",
      "None None TF-IDF 200 logistic sgd 40: 0.143379424531257\n",
      "None None TF-IDF 200 logistic adam 1: 0.9709921842109813\n",
      "None None TF-IDF 200 logistic adam 10: 0.9709921842109813\n",
      "None None TF-IDF 200 logistic adam 15: 0.9743684592883718\n",
      "None None TF-IDF 200 logistic adam 25: 0.9709921842109813\n",
      "None None TF-IDF 200 logistic adam 40: 0.9709921842109813\n",
      "None None TF-IDF 200 tanh lbfgs 1: 0.9778406902215796\n",
      "None None TF-IDF 200 tanh lbfgs 10: 0.9743905508528482\n",
      "None None TF-IDF 200 tanh lbfgs 15: 0.9743922879408881\n",
      "None None TF-IDF 200 tanh lbfgs 25: 0.9760935930782716\n",
      "None None TF-IDF 200 tanh lbfgs 40: 0.9726826030570608\n"
     ]
    },
    {
     "name": "stderr",
     "output_type": "stream",
     "text": [
      "C:\\Users\\zhest\\PycharmProjects\\LSINewsGroup\\.venv\\Lib\\site-packages\\sklearn\\neural_network\\_multilayer_perceptron.py:691: ConvergenceWarning: Stochastic Optimizer: Maximum iterations (200) reached and the optimization hasn't converged yet.\n",
      "  warnings.warn(\n"
     ]
    },
    {
     "name": "stdout",
     "output_type": "stream",
     "text": [
      "None None TF-IDF 200 tanh sgd 1: 0.8954727095540881\n"
     ]
    },
    {
     "name": "stderr",
     "output_type": "stream",
     "text": [
      "C:\\Users\\zhest\\PycharmProjects\\LSINewsGroup\\.venv\\Lib\\site-packages\\sklearn\\neural_network\\_multilayer_perceptron.py:691: ConvergenceWarning: Stochastic Optimizer: Maximum iterations (200) reached and the optimization hasn't converged yet.\n",
      "  warnings.warn(\n"
     ]
    },
    {
     "name": "stdout",
     "output_type": "stream",
     "text": [
      "None None TF-IDF 200 tanh sgd 10: 0.8714786610582889\n"
     ]
    },
    {
     "name": "stderr",
     "output_type": "stream",
     "text": [
      "C:\\Users\\zhest\\PycharmProjects\\LSINewsGroup\\.venv\\Lib\\site-packages\\sklearn\\neural_network\\_multilayer_perceptron.py:691: ConvergenceWarning: Stochastic Optimizer: Maximum iterations (200) reached and the optimization hasn't converged yet.\n",
      "  warnings.warn(\n"
     ]
    },
    {
     "name": "stdout",
     "output_type": "stream",
     "text": [
      "None None TF-IDF 200 tanh sgd 15: 0.8996003747926026\n"
     ]
    },
    {
     "name": "stderr",
     "output_type": "stream",
     "text": [
      "C:\\Users\\zhest\\PycharmProjects\\LSINewsGroup\\.venv\\Lib\\site-packages\\sklearn\\neural_network\\_multilayer_perceptron.py:691: ConvergenceWarning: Stochastic Optimizer: Maximum iterations (200) reached and the optimization hasn't converged yet.\n",
      "  warnings.warn(\n"
     ]
    },
    {
     "name": "stdout",
     "output_type": "stream",
     "text": [
      "None None TF-IDF 200 tanh sgd 25: 0.8482250472543926\n"
     ]
    },
    {
     "name": "stderr",
     "output_type": "stream",
     "text": [
      "C:\\Users\\zhest\\PycharmProjects\\LSINewsGroup\\.venv\\Lib\\site-packages\\sklearn\\neural_network\\_multilayer_perceptron.py:691: ConvergenceWarning: Stochastic Optimizer: Maximum iterations (200) reached and the optimization hasn't converged yet.\n",
      "  warnings.warn(\n"
     ]
    },
    {
     "name": "stdout",
     "output_type": "stream",
     "text": [
      "None None TF-IDF 200 tanh sgd 40: 0.8678898051493404\n",
      "None None TF-IDF 200 tanh adam 1: 0.970976990512992\n",
      "None None TF-IDF 200 tanh adam 10: 0.9709921842109813\n",
      "None None TF-IDF 200 tanh adam 15: 0.9692934222830701\n",
      "None None TF-IDF 200 tanh adam 25: 0.9675885411406244\n",
      "None None TF-IDF 200 tanh adam 40: 0.9692934222830701\n",
      "None None TF-IDF 200 relu lbfgs 1: 0.9726889547223799\n",
      "None None TF-IDF 200 relu lbfgs 10: 0.9709724210421143\n",
      "None None TF-IDF 200 relu lbfgs 15: 0.9709938144907638\n",
      "None None TF-IDF 200 relu lbfgs 25: 0.9760891269443931\n",
      "None None TF-IDF 200 relu lbfgs 40: 0.9726421370222313\n"
     ]
    },
    {
     "name": "stderr",
     "output_type": "stream",
     "text": [
      "C:\\Users\\zhest\\PycharmProjects\\LSINewsGroup\\.venv\\Lib\\site-packages\\sklearn\\neural_network\\_multilayer_perceptron.py:691: ConvergenceWarning: Stochastic Optimizer: Maximum iterations (200) reached and the optimization hasn't converged yet.\n",
      "  warnings.warn(\n"
     ]
    },
    {
     "name": "stdout",
     "output_type": "stream",
     "text": [
      "None None TF-IDF 200 relu sgd 1: 0.8066697549162852\n"
     ]
    },
    {
     "name": "stderr",
     "output_type": "stream",
     "text": [
      "C:\\Users\\zhest\\PycharmProjects\\LSINewsGroup\\.venv\\Lib\\site-packages\\sklearn\\neural_network\\_multilayer_perceptron.py:691: ConvergenceWarning: Stochastic Optimizer: Maximum iterations (200) reached and the optimization hasn't converged yet.\n",
      "  warnings.warn(\n"
     ]
    },
    {
     "name": "stdout",
     "output_type": "stream",
     "text": [
      "None None TF-IDF 200 relu sgd 10: 0.8145058079698602\n"
     ]
    },
    {
     "name": "stderr",
     "output_type": "stream",
     "text": [
      "C:\\Users\\zhest\\PycharmProjects\\LSINewsGroup\\.venv\\Lib\\site-packages\\sklearn\\neural_network\\_multilayer_perceptron.py:691: ConvergenceWarning: Stochastic Optimizer: Maximum iterations (200) reached and the optimization hasn't converged yet.\n",
      "  warnings.warn(\n"
     ]
    },
    {
     "name": "stdout",
     "output_type": "stream",
     "text": [
      "None None TF-IDF 200 relu sgd 15: 0.8333359186278999\n"
     ]
    },
    {
     "name": "stderr",
     "output_type": "stream",
     "text": [
      "C:\\Users\\zhest\\PycharmProjects\\LSINewsGroup\\.venv\\Lib\\site-packages\\sklearn\\neural_network\\_multilayer_perceptron.py:691: ConvergenceWarning: Stochastic Optimizer: Maximum iterations (200) reached and the optimization hasn't converged yet.\n",
      "  warnings.warn(\n"
     ]
    },
    {
     "name": "stdout",
     "output_type": "stream",
     "text": [
      "None None TF-IDF 200 relu sgd 25: 0.7799696337342018\n"
     ]
    },
    {
     "name": "stderr",
     "output_type": "stream",
     "text": [
      "C:\\Users\\zhest\\PycharmProjects\\LSINewsGroup\\.venv\\Lib\\site-packages\\sklearn\\neural_network\\_multilayer_perceptron.py:691: ConvergenceWarning: Stochastic Optimizer: Maximum iterations (200) reached and the optimization hasn't converged yet.\n",
      "  warnings.warn(\n"
     ]
    },
    {
     "name": "stdout",
     "output_type": "stream",
     "text": [
      "None None TF-IDF 200 relu sgd 40: 0.8004838630046615\n",
      "None None TF-IDF 200 relu adam 1: 0.9743922879408881\n",
      "None None TF-IDF 200 relu adam 10: 0.9777845736936478\n",
      "None None TF-IDF 200 relu adam 15: 0.9761045827207644\n",
      "None None TF-IDF 200 relu adam 25: 0.9692869777435228\n",
      "None None TF-IDF 200 relu adam 40: 0.9743905508528482\n",
      "None None TF-IDF 250 identity lbfgs 1: 0.9778406902215796\n",
      "None None TF-IDF 250 identity lbfgs 10: 0.9761057693679733\n",
      "None None TF-IDF 250 identity lbfgs 15: 0.9726750327654228\n",
      "None None TF-IDF 250 identity lbfgs 25: 0.974397763011645\n",
      "None None TF-IDF 250 identity lbfgs 40: 0.9726826030570608\n"
     ]
    },
    {
     "name": "stderr",
     "output_type": "stream",
     "text": [
      "C:\\Users\\zhest\\PycharmProjects\\LSINewsGroup\\.venv\\Lib\\site-packages\\sklearn\\neural_network\\_multilayer_perceptron.py:691: ConvergenceWarning: Stochastic Optimizer: Maximum iterations (250) reached and the optimization hasn't converged yet.\n",
      "  warnings.warn(\n"
     ]
    },
    {
     "name": "stdout",
     "output_type": "stream",
     "text": [
      "None None TF-IDF 250 identity sgd 1: 0.9260189665518194\n"
     ]
    },
    {
     "name": "stderr",
     "output_type": "stream",
     "text": [
      "C:\\Users\\zhest\\PycharmProjects\\LSINewsGroup\\.venv\\Lib\\site-packages\\sklearn\\neural_network\\_multilayer_perceptron.py:691: ConvergenceWarning: Stochastic Optimizer: Maximum iterations (250) reached and the optimization hasn't converged yet.\n",
      "  warnings.warn(\n"
     ]
    },
    {
     "name": "stdout",
     "output_type": "stream",
     "text": [
      "None None TF-IDF 250 identity sgd 10: 0.9142709283872329\n"
     ]
    },
    {
     "name": "stderr",
     "output_type": "stream",
     "text": [
      "C:\\Users\\zhest\\PycharmProjects\\LSINewsGroup\\.venv\\Lib\\site-packages\\sklearn\\neural_network\\_multilayer_perceptron.py:691: ConvergenceWarning: Stochastic Optimizer: Maximum iterations (250) reached and the optimization hasn't converged yet.\n",
      "  warnings.warn(\n"
     ]
    },
    {
     "name": "stdout",
     "output_type": "stream",
     "text": [
      "None None TF-IDF 250 identity sgd 15: 0.9264246558930506\n"
     ]
    },
    {
     "name": "stderr",
     "output_type": "stream",
     "text": [
      "C:\\Users\\zhest\\PycharmProjects\\LSINewsGroup\\.venv\\Lib\\site-packages\\sklearn\\neural_network\\_multilayer_perceptron.py:691: ConvergenceWarning: Stochastic Optimizer: Maximum iterations (250) reached and the optimization hasn't converged yet.\n",
      "  warnings.warn(\n"
     ]
    },
    {
     "name": "stdout",
     "output_type": "stream",
     "text": [
      "None None TF-IDF 250 identity sgd 25: 0.8838357072157723\n"
     ]
    },
    {
     "name": "stderr",
     "output_type": "stream",
     "text": [
      "C:\\Users\\zhest\\PycharmProjects\\LSINewsGroup\\.venv\\Lib\\site-packages\\sklearn\\neural_network\\_multilayer_perceptron.py:691: ConvergenceWarning: Stochastic Optimizer: Maximum iterations (250) reached and the optimization hasn't converged yet.\n",
      "  warnings.warn(\n"
     ]
    },
    {
     "name": "stdout",
     "output_type": "stream",
     "text": [
      "None None TF-IDF 250 identity sgd 40: 0.9112377178565143\n",
      "None None TF-IDF 250 identity adam 1: 0.970976990512992\n",
      "None None TF-IDF 250 identity adam 10: 0.9709921842109813\n",
      "None None TF-IDF 250 identity adam 15: 0.9692934222830701\n",
      "None None TF-IDF 250 identity adam 25: 0.9675885411406244\n",
      "None None TF-IDF 250 identity adam 40: 0.9692934222830701\n",
      "None None TF-IDF 250 logistic lbfgs 1: 0.9778582351680524\n",
      "None None TF-IDF 250 logistic lbfgs 10: 0.9761133388887433\n",
      "None None TF-IDF 250 logistic lbfgs 15: 0.9812725698945953\n",
      "None None TF-IDF 250 logistic lbfgs 25: 0.9795623897850058\n",
      "None None TF-IDF 250 logistic lbfgs 40: 0.976140406260969\n",
      "None None TF-IDF 250 logistic sgd 1: 0.143379424531257\n",
      "None None TF-IDF 250 logistic sgd 10: 0.143379424531257\n",
      "None None TF-IDF 250 logistic sgd 15: 0.143379424531257\n",
      "None None TF-IDF 250 logistic sgd 25: 0.143379424531257\n",
      "None None TF-IDF 250 logistic sgd 40: 0.143379424531257\n",
      "None None TF-IDF 250 logistic adam 1: 0.9709921842109813\n",
      "None None TF-IDF 250 logistic adam 10: 0.9709921842109813\n",
      "None None TF-IDF 250 logistic adam 15: 0.9743684592883718\n",
      "None None TF-IDF 250 logistic adam 25: 0.9709921842109813\n",
      "None None TF-IDF 250 logistic adam 40: 0.9709921842109813\n",
      "None None TF-IDF 250 tanh lbfgs 1: 0.9778406902215796\n",
      "None None TF-IDF 250 tanh lbfgs 10: 0.9743905508528482\n",
      "None None TF-IDF 250 tanh lbfgs 15: 0.9743922879408881\n",
      "None None TF-IDF 250 tanh lbfgs 25: 0.9760935930782716\n",
      "None None TF-IDF 250 tanh lbfgs 40: 0.9726826030570608\n"
     ]
    },
    {
     "name": "stderr",
     "output_type": "stream",
     "text": [
      "C:\\Users\\zhest\\PycharmProjects\\LSINewsGroup\\.venv\\Lib\\site-packages\\sklearn\\neural_network\\_multilayer_perceptron.py:691: ConvergenceWarning: Stochastic Optimizer: Maximum iterations (250) reached and the optimization hasn't converged yet.\n",
      "  warnings.warn(\n"
     ]
    },
    {
     "name": "stdout",
     "output_type": "stream",
     "text": [
      "None None TF-IDF 250 tanh sgd 1: 0.9260189665518194\n"
     ]
    },
    {
     "name": "stderr",
     "output_type": "stream",
     "text": [
      "C:\\Users\\zhest\\PycharmProjects\\LSINewsGroup\\.venv\\Lib\\site-packages\\sklearn\\neural_network\\_multilayer_perceptron.py:691: ConvergenceWarning: Stochastic Optimizer: Maximum iterations (250) reached and the optimization hasn't converged yet.\n",
      "  warnings.warn(\n"
     ]
    },
    {
     "name": "stdout",
     "output_type": "stream",
     "text": [
      "None None TF-IDF 250 tanh sgd 10: 0.9142709283872329\n"
     ]
    },
    {
     "name": "stderr",
     "output_type": "stream",
     "text": [
      "C:\\Users\\zhest\\PycharmProjects\\LSINewsGroup\\.venv\\Lib\\site-packages\\sklearn\\neural_network\\_multilayer_perceptron.py:691: ConvergenceWarning: Stochastic Optimizer: Maximum iterations (250) reached and the optimization hasn't converged yet.\n",
      "  warnings.warn(\n"
     ]
    },
    {
     "name": "stdout",
     "output_type": "stream",
     "text": [
      "None None TF-IDF 250 tanh sgd 15: 0.9264246558930506\n"
     ]
    },
    {
     "name": "stderr",
     "output_type": "stream",
     "text": [
      "C:\\Users\\zhest\\PycharmProjects\\LSINewsGroup\\.venv\\Lib\\site-packages\\sklearn\\neural_network\\_multilayer_perceptron.py:691: ConvergenceWarning: Stochastic Optimizer: Maximum iterations (250) reached and the optimization hasn't converged yet.\n",
      "  warnings.warn(\n"
     ]
    },
    {
     "name": "stdout",
     "output_type": "stream",
     "text": [
      "None None TF-IDF 250 tanh sgd 25: 0.8838357072157723\n"
     ]
    },
    {
     "name": "stderr",
     "output_type": "stream",
     "text": [
      "C:\\Users\\zhest\\PycharmProjects\\LSINewsGroup\\.venv\\Lib\\site-packages\\sklearn\\neural_network\\_multilayer_perceptron.py:691: ConvergenceWarning: Stochastic Optimizer: Maximum iterations (250) reached and the optimization hasn't converged yet.\n",
      "  warnings.warn(\n"
     ]
    },
    {
     "name": "stdout",
     "output_type": "stream",
     "text": [
      "None None TF-IDF 250 tanh sgd 40: 0.9127273860234252\n",
      "None None TF-IDF 250 tanh adam 1: 0.970976990512992\n",
      "None None TF-IDF 250 tanh adam 10: 0.9709921842109813\n",
      "None None TF-IDF 250 tanh adam 15: 0.9692934222830701\n",
      "None None TF-IDF 250 tanh adam 25: 0.9675885411406244\n",
      "None None TF-IDF 250 tanh adam 40: 0.9692934222830701\n",
      "None None TF-IDF 250 relu lbfgs 1: 0.9726889547223799\n",
      "None None TF-IDF 250 relu lbfgs 10: 0.9709724210421143\n",
      "None None TF-IDF 250 relu lbfgs 15: 0.9709938144907638\n",
      "None None TF-IDF 250 relu lbfgs 25: 0.9760891269443931\n",
      "None None TF-IDF 250 relu lbfgs 40: 0.9726421370222313\n"
     ]
    },
    {
     "name": "stderr",
     "output_type": "stream",
     "text": [
      "C:\\Users\\zhest\\PycharmProjects\\LSINewsGroup\\.venv\\Lib\\site-packages\\sklearn\\neural_network\\_multilayer_perceptron.py:691: ConvergenceWarning: Stochastic Optimizer: Maximum iterations (250) reached and the optimization hasn't converged yet.\n",
      "  warnings.warn(\n"
     ]
    },
    {
     "name": "stdout",
     "output_type": "stream",
     "text": [
      "None None TF-IDF 250 relu sgd 1: 0.8805294470439199\n"
     ]
    },
    {
     "name": "stderr",
     "output_type": "stream",
     "text": [
      "C:\\Users\\zhest\\PycharmProjects\\LSINewsGroup\\.venv\\Lib\\site-packages\\sklearn\\neural_network\\_multilayer_perceptron.py:691: ConvergenceWarning: Stochastic Optimizer: Maximum iterations (250) reached and the optimization hasn't converged yet.\n",
      "  warnings.warn(\n"
     ]
    },
    {
     "name": "stdout",
     "output_type": "stream",
     "text": [
      "None None TF-IDF 250 relu sgd 10: 0.8578989621723703\n"
     ]
    },
    {
     "name": "stderr",
     "output_type": "stream",
     "text": [
      "C:\\Users\\zhest\\PycharmProjects\\LSINewsGroup\\.venv\\Lib\\site-packages\\sklearn\\neural_network\\_multilayer_perceptron.py:691: ConvergenceWarning: Stochastic Optimizer: Maximum iterations (250) reached and the optimization hasn't converged yet.\n",
      "  warnings.warn(\n"
     ]
    },
    {
     "name": "stdout",
     "output_type": "stream",
     "text": [
      "None None TF-IDF 250 relu sgd 15: 0.888643344081459\n"
     ]
    },
    {
     "name": "stderr",
     "output_type": "stream",
     "text": [
      "C:\\Users\\zhest\\PycharmProjects\\LSINewsGroup\\.venv\\Lib\\site-packages\\sklearn\\neural_network\\_multilayer_perceptron.py:691: ConvergenceWarning: Stochastic Optimizer: Maximum iterations (250) reached and the optimization hasn't converged yet.\n",
      "  warnings.warn(\n"
     ]
    },
    {
     "name": "stdout",
     "output_type": "stream",
     "text": [
      "None None TF-IDF 250 relu sgd 25: 0.8507901981984596\n"
     ]
    },
    {
     "name": "stderr",
     "output_type": "stream",
     "text": [
      "C:\\Users\\zhest\\PycharmProjects\\LSINewsGroup\\.venv\\Lib\\site-packages\\sklearn\\neural_network\\_multilayer_perceptron.py:691: ConvergenceWarning: Stochastic Optimizer: Maximum iterations (250) reached and the optimization hasn't converged yet.\n",
      "  warnings.warn(\n"
     ]
    },
    {
     "name": "stdout",
     "output_type": "stream",
     "text": [
      "None None TF-IDF 250 relu sgd 40: 0.869061768992267\n",
      "None None TF-IDF 250 relu adam 1: 0.9743922879408881\n",
      "None None TF-IDF 250 relu adam 10: 0.9777845736936478\n",
      "None None TF-IDF 250 relu adam 15: 0.9761045827207644\n",
      "None None TF-IDF 250 relu adam 25: 0.9692869777435228\n",
      "None None TF-IDF 250 relu adam 40: 0.9743905508528482\n",
      "None None TF-IDF 300 identity lbfgs 1: 0.9778406902215796\n",
      "None None TF-IDF 300 identity lbfgs 10: 0.9761057693679733\n",
      "None None TF-IDF 300 identity lbfgs 15: 0.9726750327654228\n",
      "None None TF-IDF 300 identity lbfgs 25: 0.974397763011645\n",
      "None None TF-IDF 300 identity lbfgs 40: 0.9726826030570608\n"
     ]
    },
    {
     "name": "stderr",
     "output_type": "stream",
     "text": [
      "C:\\Users\\zhest\\PycharmProjects\\LSINewsGroup\\.venv\\Lib\\site-packages\\sklearn\\neural_network\\_multilayer_perceptron.py:691: ConvergenceWarning: Stochastic Optimizer: Maximum iterations (300) reached and the optimization hasn't converged yet.\n",
      "  warnings.warn(\n"
     ]
    },
    {
     "name": "stdout",
     "output_type": "stream",
     "text": [
      "None None TF-IDF 300 identity sgd 1: 0.9409880961484794\n"
     ]
    },
    {
     "name": "stderr",
     "output_type": "stream",
     "text": [
      "C:\\Users\\zhest\\PycharmProjects\\LSINewsGroup\\.venv\\Lib\\site-packages\\sklearn\\neural_network\\_multilayer_perceptron.py:691: ConvergenceWarning: Stochastic Optimizer: Maximum iterations (300) reached and the optimization hasn't converged yet.\n",
      "  warnings.warn(\n"
     ]
    },
    {
     "name": "stdout",
     "output_type": "stream",
     "text": [
      "None None TF-IDF 300 identity sgd 10: 0.9310645927484743\n"
     ]
    },
    {
     "name": "stderr",
     "output_type": "stream",
     "text": [
      "C:\\Users\\zhest\\PycharmProjects\\LSINewsGroup\\.venv\\Lib\\site-packages\\sklearn\\neural_network\\_multilayer_perceptron.py:691: ConvergenceWarning: Stochastic Optimizer: Maximum iterations (300) reached and the optimization hasn't converged yet.\n",
      "  warnings.warn(\n"
     ]
    },
    {
     "name": "stdout",
     "output_type": "stream",
     "text": [
      "None None TF-IDF 300 identity sgd 15: 0.9363507297422516\n"
     ]
    },
    {
     "name": "stderr",
     "output_type": "stream",
     "text": [
      "C:\\Users\\zhest\\PycharmProjects\\LSINewsGroup\\.venv\\Lib\\site-packages\\sklearn\\neural_network\\_multilayer_perceptron.py:691: ConvergenceWarning: Stochastic Optimizer: Maximum iterations (300) reached and the optimization hasn't converged yet.\n",
      "  warnings.warn(\n"
     ]
    },
    {
     "name": "stdout",
     "output_type": "stream",
     "text": [
      "None None TF-IDF 300 identity sgd 25: 0.9059781465437563\n"
     ]
    },
    {
     "name": "stderr",
     "output_type": "stream",
     "text": [
      "C:\\Users\\zhest\\PycharmProjects\\LSINewsGroup\\.venv\\Lib\\site-packages\\sklearn\\neural_network\\_multilayer_perceptron.py:691: ConvergenceWarning: Stochastic Optimizer: Maximum iterations (300) reached and the optimization hasn't converged yet.\n",
      "  warnings.warn(\n"
     ]
    },
    {
     "name": "stdout",
     "output_type": "stream",
     "text": [
      "None None TF-IDF 300 identity sgd 40: 0.929575861970289\n",
      "None None TF-IDF 300 identity adam 1: 0.970976990512992\n",
      "None None TF-IDF 300 identity adam 10: 0.9709921842109813\n",
      "None None TF-IDF 300 identity adam 15: 0.9692934222830701\n",
      "None None TF-IDF 300 identity adam 25: 0.9675885411406244\n",
      "None None TF-IDF 300 identity adam 40: 0.9692934222830701\n",
      "None None TF-IDF 300 logistic lbfgs 1: 0.9778582351680524\n",
      "None None TF-IDF 300 logistic lbfgs 10: 0.9761133388887433\n",
      "None None TF-IDF 300 logistic lbfgs 15: 0.9812725698945953\n",
      "None None TF-IDF 300 logistic lbfgs 25: 0.9795623897850058\n",
      "None None TF-IDF 300 logistic lbfgs 40: 0.976140406260969\n",
      "None None TF-IDF 300 logistic sgd 1: 0.143379424531257\n",
      "None None TF-IDF 300 logistic sgd 10: 0.143379424531257\n",
      "None None TF-IDF 300 logistic sgd 15: 0.143379424531257\n",
      "None None TF-IDF 300 logistic sgd 25: 0.143379424531257\n",
      "None None TF-IDF 300 logistic sgd 40: 0.143379424531257\n",
      "None None TF-IDF 300 logistic adam 1: 0.9709921842109813\n",
      "None None TF-IDF 300 logistic adam 10: 0.9709921842109813\n",
      "None None TF-IDF 300 logistic adam 15: 0.9743684592883718\n",
      "None None TF-IDF 300 logistic adam 25: 0.9709921842109813\n",
      "None None TF-IDF 300 logistic adam 40: 0.9709921842109813\n",
      "None None TF-IDF 300 tanh lbfgs 1: 0.9778406902215796\n",
      "None None TF-IDF 300 tanh lbfgs 10: 0.9743905508528482\n",
      "None None TF-IDF 300 tanh lbfgs 15: 0.9743922879408881\n",
      "None None TF-IDF 300 tanh lbfgs 25: 0.9760935930782716\n",
      "None None TF-IDF 300 tanh lbfgs 40: 0.9726826030570608\n"
     ]
    },
    {
     "name": "stderr",
     "output_type": "stream",
     "text": [
      "C:\\Users\\zhest\\PycharmProjects\\LSINewsGroup\\.venv\\Lib\\site-packages\\sklearn\\neural_network\\_multilayer_perceptron.py:691: ConvergenceWarning: Stochastic Optimizer: Maximum iterations (300) reached and the optimization hasn't converged yet.\n",
      "  warnings.warn(\n"
     ]
    },
    {
     "name": "stdout",
     "output_type": "stream",
     "text": [
      "None None TF-IDF 300 tanh sgd 1: 0.9410885503562156\n"
     ]
    },
    {
     "name": "stderr",
     "output_type": "stream",
     "text": [
      "C:\\Users\\zhest\\PycharmProjects\\LSINewsGroup\\.venv\\Lib\\site-packages\\sklearn\\neural_network\\_multilayer_perceptron.py:691: ConvergenceWarning: Stochastic Optimizer: Maximum iterations (300) reached and the optimization hasn't converged yet.\n",
      "  warnings.warn(\n"
     ]
    },
    {
     "name": "stdout",
     "output_type": "stream",
     "text": [
      "None None TF-IDF 300 tanh sgd 10: 0.9310645927484743\n"
     ]
    },
    {
     "name": "stderr",
     "output_type": "stream",
     "text": [
      "C:\\Users\\zhest\\PycharmProjects\\LSINewsGroup\\.venv\\Lib\\site-packages\\sklearn\\neural_network\\_multilayer_perceptron.py:691: ConvergenceWarning: Stochastic Optimizer: Maximum iterations (300) reached and the optimization hasn't converged yet.\n",
      "  warnings.warn(\n"
     ]
    },
    {
     "name": "stdout",
     "output_type": "stream",
     "text": [
      "None None TF-IDF 300 tanh sgd 15: 0.9363507297422516\n"
     ]
    },
    {
     "name": "stderr",
     "output_type": "stream",
     "text": [
      "C:\\Users\\zhest\\PycharmProjects\\LSINewsGroup\\.venv\\Lib\\site-packages\\sklearn\\neural_network\\_multilayer_perceptron.py:691: ConvergenceWarning: Stochastic Optimizer: Maximum iterations (300) reached and the optimization hasn't converged yet.\n",
      "  warnings.warn(\n"
     ]
    },
    {
     "name": "stdout",
     "output_type": "stream",
     "text": [
      "None None TF-IDF 300 tanh sgd 25: 0.9059781465437563\n"
     ]
    },
    {
     "name": "stderr",
     "output_type": "stream",
     "text": [
      "C:\\Users\\zhest\\PycharmProjects\\LSINewsGroup\\.venv\\Lib\\site-packages\\sklearn\\neural_network\\_multilayer_perceptron.py:691: ConvergenceWarning: Stochastic Optimizer: Maximum iterations (300) reached and the optimization hasn't converged yet.\n",
      "  warnings.warn(\n"
     ]
    },
    {
     "name": "stdout",
     "output_type": "stream",
     "text": [
      "None None TF-IDF 300 tanh sgd 40: 0.929575861970289\n",
      "None None TF-IDF 300 tanh adam 1: 0.970976990512992\n",
      "None None TF-IDF 300 tanh adam 10: 0.9709921842109813\n",
      "None None TF-IDF 300 tanh adam 15: 0.9692934222830701\n",
      "None None TF-IDF 300 tanh adam 25: 0.9675885411406244\n",
      "None None TF-IDF 300 tanh adam 40: 0.9692934222830701\n",
      "None None TF-IDF 300 relu lbfgs 1: 0.9726889547223799\n",
      "None None TF-IDF 300 relu lbfgs 10: 0.9709724210421143\n",
      "None None TF-IDF 300 relu lbfgs 15: 0.9709938144907638\n",
      "None None TF-IDF 300 relu lbfgs 25: 0.9760891269443931\n",
      "None None TF-IDF 300 relu lbfgs 40: 0.9726421370222313\n"
     ]
    },
    {
     "name": "stderr",
     "output_type": "stream",
     "text": [
      "C:\\Users\\zhest\\PycharmProjects\\LSINewsGroup\\.venv\\Lib\\site-packages\\sklearn\\neural_network\\_multilayer_perceptron.py:691: ConvergenceWarning: Stochastic Optimizer: Maximum iterations (300) reached and the optimization hasn't converged yet.\n",
      "  warnings.warn(\n"
     ]
    },
    {
     "name": "stdout",
     "output_type": "stream",
     "text": [
      "None None TF-IDF 300 relu sgd 1: 0.9111068052034808\n"
     ]
    },
    {
     "name": "stderr",
     "output_type": "stream",
     "text": [
      "C:\\Users\\zhest\\PycharmProjects\\LSINewsGroup\\.venv\\Lib\\site-packages\\sklearn\\neural_network\\_multilayer_perceptron.py:691: ConvergenceWarning: Stochastic Optimizer: Maximum iterations (300) reached and the optimization hasn't converged yet.\n",
      "  warnings.warn(\n"
     ]
    },
    {
     "name": "stdout",
     "output_type": "stream",
     "text": [
      "None None TF-IDF 300 relu sgd 10: 0.9023461955953482\n"
     ]
    },
    {
     "name": "stderr",
     "output_type": "stream",
     "text": [
      "C:\\Users\\zhest\\PycharmProjects\\LSINewsGroup\\.venv\\Lib\\site-packages\\sklearn\\neural_network\\_multilayer_perceptron.py:691: ConvergenceWarning: Stochastic Optimizer: Maximum iterations (300) reached and the optimization hasn't converged yet.\n",
      "  warnings.warn(\n"
     ]
    },
    {
     "name": "stdout",
     "output_type": "stream",
     "text": [
      "None None TF-IDF 300 relu sgd 15: 0.92155755422397\n"
     ]
    },
    {
     "name": "stderr",
     "output_type": "stream",
     "text": [
      "C:\\Users\\zhest\\PycharmProjects\\LSINewsGroup\\.venv\\Lib\\site-packages\\sklearn\\neural_network\\_multilayer_perceptron.py:691: ConvergenceWarning: Stochastic Optimizer: Maximum iterations (300) reached and the optimization hasn't converged yet.\n",
      "  warnings.warn(\n"
     ]
    },
    {
     "name": "stdout",
     "output_type": "stream",
     "text": [
      "None None TF-IDF 300 relu sgd 25: 0.8870993896620791\n"
     ]
    },
    {
     "name": "stderr",
     "output_type": "stream",
     "text": [
      "C:\\Users\\zhest\\PycharmProjects\\LSINewsGroup\\.venv\\Lib\\site-packages\\sklearn\\neural_network\\_multilayer_perceptron.py:691: ConvergenceWarning: Stochastic Optimizer: Maximum iterations (300) reached and the optimization hasn't converged yet.\n",
      "  warnings.warn(\n"
     ]
    },
    {
     "name": "stdout",
     "output_type": "stream",
     "text": [
      "None None TF-IDF 300 relu sgd 40: 0.9063405700244521\n",
      "None None TF-IDF 300 relu adam 1: 0.9743922879408881\n",
      "None None TF-IDF 300 relu adam 10: 0.9777845736936478\n",
      "None None TF-IDF 300 relu adam 15: 0.9761045827207644\n",
      "None None TF-IDF 300 relu adam 25: 0.9692869777435228\n",
      "None None TF-IDF 300 relu adam 40: 0.9743905508528482\n",
      "None None TF-IDF 400 identity lbfgs 1: 0.9778406902215796\n",
      "None None TF-IDF 400 identity lbfgs 10: 0.9761057693679733\n",
      "None None TF-IDF 400 identity lbfgs 15: 0.9726750327654228\n",
      "None None TF-IDF 400 identity lbfgs 25: 0.974397763011645\n",
      "None None TF-IDF 400 identity lbfgs 40: 0.9726826030570608\n"
     ]
    },
    {
     "name": "stderr",
     "output_type": "stream",
     "text": [
      "C:\\Users\\zhest\\PycharmProjects\\LSINewsGroup\\.venv\\Lib\\site-packages\\sklearn\\neural_network\\_multilayer_perceptron.py:691: ConvergenceWarning: Stochastic Optimizer: Maximum iterations (400) reached and the optimization hasn't converged yet.\n",
      "  warnings.warn(\n"
     ]
    },
    {
     "name": "stdout",
     "output_type": "stream",
     "text": [
      "None None TF-IDF 400 identity sgd 1: 0.9491710026840745\n"
     ]
    },
    {
     "name": "stderr",
     "output_type": "stream",
     "text": [
      "C:\\Users\\zhest\\PycharmProjects\\LSINewsGroup\\.venv\\Lib\\site-packages\\sklearn\\neural_network\\_multilayer_perceptron.py:691: ConvergenceWarning: Stochastic Optimizer: Maximum iterations (400) reached and the optimization hasn't converged yet.\n",
      "  warnings.warn(\n"
     ]
    },
    {
     "name": "stdout",
     "output_type": "stream",
     "text": [
      "None None TF-IDF 400 identity sgd 10: 0.9477757563693653\n"
     ]
    },
    {
     "name": "stderr",
     "output_type": "stream",
     "text": [
      "C:\\Users\\zhest\\PycharmProjects\\LSINewsGroup\\.venv\\Lib\\site-packages\\sklearn\\neural_network\\_multilayer_perceptron.py:691: ConvergenceWarning: Stochastic Optimizer: Maximum iterations (400) reached and the optimization hasn't converged yet.\n",
      "  warnings.warn(\n"
     ]
    },
    {
     "name": "stdout",
     "output_type": "stream",
     "text": [
      "None None TF-IDF 400 identity sgd 15: 0.946127981344618\n"
     ]
    },
    {
     "name": "stderr",
     "output_type": "stream",
     "text": [
      "C:\\Users\\zhest\\PycharmProjects\\LSINewsGroup\\.venv\\Lib\\site-packages\\sklearn\\neural_network\\_multilayer_perceptron.py:691: ConvergenceWarning: Stochastic Optimizer: Maximum iterations (400) reached and the optimization hasn't converged yet.\n",
      "  warnings.warn(\n"
     ]
    },
    {
     "name": "stdout",
     "output_type": "stream",
     "text": [
      "None None TF-IDF 400 identity sgd 25: 0.9408832396031271\n"
     ]
    },
    {
     "name": "stderr",
     "output_type": "stream",
     "text": [
      "C:\\Users\\zhest\\PycharmProjects\\LSINewsGroup\\.venv\\Lib\\site-packages\\sklearn\\neural_network\\_multilayer_perceptron.py:691: ConvergenceWarning: Stochastic Optimizer: Maximum iterations (400) reached and the optimization hasn't converged yet.\n",
      "  warnings.warn(\n"
     ]
    },
    {
     "name": "stdout",
     "output_type": "stream",
     "text": [
      "None None TF-IDF 400 identity sgd 40: 0.9476277669923627\n",
      "None None TF-IDF 400 identity adam 1: 0.970976990512992\n",
      "None None TF-IDF 400 identity adam 10: 0.9709921842109813\n",
      "None None TF-IDF 400 identity adam 15: 0.9692934222830701\n",
      "None None TF-IDF 400 identity adam 25: 0.9675885411406244\n",
      "None None TF-IDF 400 identity adam 40: 0.9692934222830701\n",
      "None None TF-IDF 400 logistic lbfgs 1: 0.9778582351680524\n",
      "None None TF-IDF 400 logistic lbfgs 10: 0.9761133388887433\n",
      "None None TF-IDF 400 logistic lbfgs 15: 0.9812725698945953\n",
      "None None TF-IDF 400 logistic lbfgs 25: 0.9795623897850058\n",
      "None None TF-IDF 400 logistic lbfgs 40: 0.976140406260969\n",
      "None None TF-IDF 400 logistic sgd 1: 0.143379424531257\n",
      "None None TF-IDF 400 logistic sgd 10: 0.143379424531257\n",
      "None None TF-IDF 400 logistic sgd 15: 0.143379424531257\n",
      "None None TF-IDF 400 logistic sgd 25: 0.143379424531257\n",
      "None None TF-IDF 400 logistic sgd 40: 0.143379424531257\n",
      "None None TF-IDF 400 logistic adam 1: 0.9709921842109813\n",
      "None None TF-IDF 400 logistic adam 10: 0.9709921842109813\n",
      "None None TF-IDF 400 logistic adam 15: 0.9743684592883718\n",
      "None None TF-IDF 400 logistic adam 25: 0.9709921842109813\n",
      "None None TF-IDF 400 logistic adam 40: 0.9709921842109813\n",
      "None None TF-IDF 400 tanh lbfgs 1: 0.9778406902215796\n",
      "None None TF-IDF 400 tanh lbfgs 10: 0.9743905508528482\n",
      "None None TF-IDF 400 tanh lbfgs 15: 0.9743922879408881\n",
      "None None TF-IDF 400 tanh lbfgs 25: 0.9760935930782716\n",
      "None None TF-IDF 400 tanh lbfgs 40: 0.9726826030570608\n"
     ]
    },
    {
     "name": "stderr",
     "output_type": "stream",
     "text": [
      "C:\\Users\\zhest\\PycharmProjects\\LSINewsGroup\\.venv\\Lib\\site-packages\\sklearn\\neural_network\\_multilayer_perceptron.py:691: ConvergenceWarning: Stochastic Optimizer: Maximum iterations (400) reached and the optimization hasn't converged yet.\n",
      "  warnings.warn(\n"
     ]
    },
    {
     "name": "stdout",
     "output_type": "stream",
     "text": [
      "None None TF-IDF 400 tanh sgd 1: 0.9491710026840745\n"
     ]
    },
    {
     "name": "stderr",
     "output_type": "stream",
     "text": [
      "C:\\Users\\zhest\\PycharmProjects\\LSINewsGroup\\.venv\\Lib\\site-packages\\sklearn\\neural_network\\_multilayer_perceptron.py:691: ConvergenceWarning: Stochastic Optimizer: Maximum iterations (400) reached and the optimization hasn't converged yet.\n",
      "  warnings.warn(\n"
     ]
    },
    {
     "name": "stdout",
     "output_type": "stream",
     "text": [
      "None None TF-IDF 400 tanh sgd 10: 0.9477757563693653\n"
     ]
    },
    {
     "name": "stderr",
     "output_type": "stream",
     "text": [
      "C:\\Users\\zhest\\PycharmProjects\\LSINewsGroup\\.venv\\Lib\\site-packages\\sklearn\\neural_network\\_multilayer_perceptron.py:691: ConvergenceWarning: Stochastic Optimizer: Maximum iterations (400) reached and the optimization hasn't converged yet.\n",
      "  warnings.warn(\n"
     ]
    },
    {
     "name": "stdout",
     "output_type": "stream",
     "text": [
      "None None TF-IDF 400 tanh sgd 15: 0.9477852549955448\n"
     ]
    },
    {
     "name": "stderr",
     "output_type": "stream",
     "text": [
      "C:\\Users\\zhest\\PycharmProjects\\LSINewsGroup\\.venv\\Lib\\site-packages\\sklearn\\neural_network\\_multilayer_perceptron.py:691: ConvergenceWarning: Stochastic Optimizer: Maximum iterations (400) reached and the optimization hasn't converged yet.\n",
      "  warnings.warn(\n"
     ]
    },
    {
     "name": "stdout",
     "output_type": "stream",
     "text": [
      "None None TF-IDF 400 tanh sgd 25: 0.9408832396031271\n"
     ]
    },
    {
     "name": "stderr",
     "output_type": "stream",
     "text": [
      "C:\\Users\\zhest\\PycharmProjects\\LSINewsGroup\\.venv\\Lib\\site-packages\\sklearn\\neural_network\\_multilayer_perceptron.py:691: ConvergenceWarning: Stochastic Optimizer: Maximum iterations (400) reached and the optimization hasn't converged yet.\n",
      "  warnings.warn(\n"
     ]
    },
    {
     "name": "stdout",
     "output_type": "stream",
     "text": [
      "None None TF-IDF 400 tanh sgd 40: 0.9476277669923627\n",
      "None None TF-IDF 400 tanh adam 1: 0.970976990512992\n",
      "None None TF-IDF 400 tanh adam 10: 0.9709921842109813\n",
      "None None TF-IDF 400 tanh adam 15: 0.9692934222830701\n",
      "None None TF-IDF 400 tanh adam 25: 0.9675885411406244\n",
      "None None TF-IDF 400 tanh adam 40: 0.9692934222830701\n",
      "None None TF-IDF 400 relu lbfgs 1: 0.9726889547223799\n",
      "None None TF-IDF 400 relu lbfgs 10: 0.9709724210421143\n",
      "None None TF-IDF 400 relu lbfgs 15: 0.9709938144907638\n",
      "None None TF-IDF 400 relu lbfgs 25: 0.9760891269443931\n",
      "None None TF-IDF 400 relu lbfgs 40: 0.9726421370222313\n"
     ]
    },
    {
     "name": "stderr",
     "output_type": "stream",
     "text": [
      "C:\\Users\\zhest\\PycharmProjects\\LSINewsGroup\\.venv\\Lib\\site-packages\\sklearn\\neural_network\\_multilayer_perceptron.py:691: ConvergenceWarning: Stochastic Optimizer: Maximum iterations (400) reached and the optimization hasn't converged yet.\n",
      "  warnings.warn(\n"
     ]
    },
    {
     "name": "stdout",
     "output_type": "stream",
     "text": [
      "None None TF-IDF 400 relu sgd 1: 0.9410784960420594\n"
     ]
    },
    {
     "name": "stderr",
     "output_type": "stream",
     "text": [
      "C:\\Users\\zhest\\PycharmProjects\\LSINewsGroup\\.venv\\Lib\\site-packages\\sklearn\\neural_network\\_multilayer_perceptron.py:691: ConvergenceWarning: Stochastic Optimizer: Maximum iterations (400) reached and the optimization hasn't converged yet.\n",
      "  warnings.warn(\n"
     ]
    },
    {
     "name": "stdout",
     "output_type": "stream",
     "text": [
      "None None TF-IDF 400 relu sgd 10: 0.9327361646359402\n"
     ]
    },
    {
     "name": "stderr",
     "output_type": "stream",
     "text": [
      "C:\\Users\\zhest\\PycharmProjects\\LSINewsGroup\\.venv\\Lib\\site-packages\\sklearn\\neural_network\\_multilayer_perceptron.py:691: ConvergenceWarning: Stochastic Optimizer: Maximum iterations (400) reached and the optimization hasn't converged yet.\n",
      "  warnings.warn(\n"
     ]
    },
    {
     "name": "stdout",
     "output_type": "stream",
     "text": [
      "None None TF-IDF 400 relu sgd 15: 0.937941587264205\n"
     ]
    },
    {
     "name": "stderr",
     "output_type": "stream",
     "text": [
      "C:\\Users\\zhest\\PycharmProjects\\LSINewsGroup\\.venv\\Lib\\site-packages\\sklearn\\neural_network\\_multilayer_perceptron.py:691: ConvergenceWarning: Stochastic Optimizer: Maximum iterations (400) reached and the optimization hasn't converged yet.\n",
      "  warnings.warn(\n"
     ]
    },
    {
     "name": "stdout",
     "output_type": "stream",
     "text": [
      "None None TF-IDF 400 relu sgd 25: 0.9276188476921247\n"
     ]
    },
    {
     "name": "stderr",
     "output_type": "stream",
     "text": [
      "C:\\Users\\zhest\\PycharmProjects\\LSINewsGroup\\.venv\\Lib\\site-packages\\sklearn\\neural_network\\_multilayer_perceptron.py:691: ConvergenceWarning: Stochastic Optimizer: Maximum iterations (400) reached and the optimization hasn't converged yet.\n",
      "  warnings.warn(\n"
     ]
    },
    {
     "name": "stdout",
     "output_type": "stream",
     "text": [
      "None None TF-IDF 400 relu sgd 40: 0.9325969902114819\n",
      "None None TF-IDF 400 relu adam 1: 0.9743922879408881\n",
      "None None TF-IDF 400 relu adam 10: 0.9777845736936478\n",
      "None None TF-IDF 400 relu adam 15: 0.9761045827207644\n",
      "None None TF-IDF 400 relu adam 25: 0.9692869777435228\n",
      "None None TF-IDF 400 relu adam 40: 0.9743905508528482\n",
      "None None TF-IDF 500 identity lbfgs 1: 0.9778406902215796\n",
      "None None TF-IDF 500 identity lbfgs 10: 0.9761057693679733\n",
      "None None TF-IDF 500 identity lbfgs 15: 0.9726750327654228\n",
      "None None TF-IDF 500 identity lbfgs 25: 0.974397763011645\n",
      "None None TF-IDF 500 identity lbfgs 40: 0.9726826030570608\n"
     ]
    }
   ],
   "source": [
    "mapPreProc = [\"None\",\"Noun\",\"Noun+Adj\",\"Noun+Adj+Verb\",\"Noun+Verb\"]\n",
    "mapProc = [\"None\", \"LemNLTK\", \"LemSpacy\"]\n",
    "mapVec = [\"BoW\",\"TF-IDF\",\"LSI\",\"LDA\"]\n",
    "mapAct = ['identity', 'logistic', 'tanh', 'relu']\n",
    "mapSol = ['lbfgs', 'sgd', 'adam']\n",
    "mapIter = [100,125,150,200,250,300,400,500]\n",
    "mapRS = [1,10,15,25,40]\n",
    "list=[]\n",
    "for i in range(5):\n",
    "    if i==0:\n",
    "        preProc=None\n",
    "    if i==1:\n",
    "        preProc=NExt\n",
    "    if i==2:\n",
    "        preProc=NAExt\n",
    "    if i==3:\n",
    "        preProc=NAVExt\n",
    "    if i==4:\n",
    "        preProc=NVExt\n",
    "    dataExt = textProcessing(data,preProc)\n",
    "    for j in range(3):\n",
    "        if j==0:\n",
    "            proc=None\n",
    "        if j==1:\n",
    "            proc=lemmatizeNLTK\n",
    "        if j==2:\n",
    "            proc=lemmatizeSpacy\n",
    "        dataProc = textProcessing(data,proc)\n",
    "        tokenized_documents = [simple_preprocess(text) for text in dataProc]\n",
    "        dictionary = corpora.Dictionary(tokenized_documents)\n",
    "        bow_corpus = [dictionary.doc2bow(doc) for doc in tokenized_documents]\n",
    "        lsi = LsiModel(bow_corpus,id2word=dictionary, num_topics=10)\n",
    "        lda = LdaModel(bow_corpus, num_topics=25, id2word=dictionary,passes=15, minimum_probability = 0)\n",
    "        for k in range(4):\n",
    "            if k==0:\n",
    "                vect = CountVectorizer(binary=False, stop_words=stop_words)\n",
    "            if k==1:\n",
    "                vect = TfidfVectorizer(stop_words=stop_words)\n",
    "            if k==2:\n",
    "                func = lsi\n",
    "            if k==3:\n",
    "                func = lda\n",
    "            X_train, X_test, y_train, y_test = [],[],[],[]\n",
    "            if k in [0,1]:\n",
    "                trainProc, testProc, y_train, y_test = train_test_split(dataProc, target, test_size=0.33)\n",
    "                X_train = vect.fit_transform(trainProc)\n",
    "                X_test = vect.transform(testProc)\n",
    "            else:\n",
    "                dataVecPre = func[bow_corpus]\n",
    "                len_data = len(dataVecPre)\n",
    "                dataVec = [0 for o in range(len_data)]\n",
    "                for o in range(len_data):\n",
    "                    curr = []\n",
    "                    a = dataVecPre[o]\n",
    "                    length = len(a)\n",
    "                    curr = [a[u][1] for u in range(length)]\n",
    "                    dataVec[o] = curr\n",
    "                X_train, X_test, y_train, y_test = train_test_split(dataVec, target, test_size=0.33)\n",
    "            for m_i in mapIter:\n",
    "                for act in mapAct:\n",
    "                    for sol in mapSol:\n",
    "                        for rs in mapRS:\n",
    "                            clf = MLPClassifier(max_iter=m_i, activation=act, solver=sol, random_state=rs)\n",
    "                            f1 = train(X_train, X_test, y_train, y_test, clf)\n",
    "                            s = \" \".join([mapPreProc[i],mapProc[j],mapVec[k],str(m_i), act, sol, str(rs)])\n",
    "                            list.append([f1,s])\n",
    "                            print(s+\": \"+str(f1))\n",
    "        print(\"-------------------------------------------\")\n",
    "    print(\"-------------------------------------------\")\n",
    "listMax = [el[0] for el in list]\n",
    "maximum = max(listMax)\n",
    "print(f\"Maximum: {maximum}\")\n",
    "print(list[listMax.index(maximum)][1])"
   ]
  },
  {
   "cell_type": "code",
   "execution_count": null,
   "id": "41da41e5-06c0-4293-9a37-2b01e3f308e6",
   "metadata": {},
   "outputs": [],
   "source": []
  }
 ],
 "metadata": {
  "kernelspec": {
   "display_name": "Python 3 (ipykernel)",
   "language": "python",
   "name": "python3"
  },
  "language_info": {
   "codemirror_mode": {
    "name": "ipython",
    "version": 3
   },
   "file_extension": ".py",
   "mimetype": "text/x-python",
   "name": "python",
   "nbconvert_exporter": "python",
   "pygments_lexer": "ipython3",
   "version": "3.11.7"
  }
 },
 "nbformat": 4,
 "nbformat_minor": 5
}
