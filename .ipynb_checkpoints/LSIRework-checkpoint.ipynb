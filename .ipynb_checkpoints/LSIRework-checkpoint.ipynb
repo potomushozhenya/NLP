{
 "cells": [
  {
   "cell_type": "code",
   "execution_count": 36,
   "id": "e9dab756-2ebc-42c1-8f18-4ad19b29754d",
   "metadata": {},
   "outputs": [
    {
     "name": "stderr",
     "output_type": "stream",
     "text": [
      "[nltk_data] Downloading package stopwords to\n",
      "[nltk_data]     C:\\Users\\zhest\\AppData\\Roaming\\nltk_data...\n",
      "[nltk_data]   Package stopwords is already up-to-date!\n"
     ]
    },
    {
     "name": "stdout",
     "output_type": "stream",
     "text": [
      "(2950,)\n"
     ]
    }
   ],
   "source": [
    "import numpy as np\n",
    "import nltk\n",
    "from sklearn.datasets import fetch_20newsgroups\n",
    "from sklearn.model_selection import train_test_split\n",
    "from sklearn.feature_extraction.text import TfidfVectorizer\n",
    "from sklearn.tree import DecisionTreeClassifier\n",
    "from sklearn.metrics import f1_score\n",
    "from gensim.utils import simple_preprocess\n",
    "from gensim.models import TfidfModel, LsiModel\n",
    "from gensim import corpora\n",
    "nltk.download('stopwords')\n",
    "stop_words = nltk.corpus.stopwords.words('english')\n",
    "\n",
    "categories = ['rec.autos', 'comp.graphics', 'sci.space']\n",
    "newsgroup = fetch_20newsgroups(subset='all', categories=categories, shuffle=True, remove=('headers', 'footers', 'quotes'))\n",
    "print(newsgroup.filenames.shape)"
   ]
  },
  {
   "cell_type": "code",
   "execution_count": 37,
   "id": "07ccbbac-1eb4-421c-b741-81a29f22c47b",
   "metadata": {},
   "outputs": [],
   "source": [
    "tokenized_documents = [simple_preprocess(text) for text in newsgroup.data]\n",
    "dictionary = corpora.Dictionary(tokenized_documents)\n",
    "bow_corpus = [dictionary.doc2bow(doc) for doc in tokenized_documents]\n",
    "modelTf = TfidfModel(bow_corpus)\n",
    "tf_corpus = [modelTf[corpus_item] for corpus_item in bow_corpus]"
   ]
  },
  {
   "cell_type": "code",
   "execution_count": 38,
   "id": "78c76bea-d5a1-4047-b2fa-aa49e402b794",
   "metadata": {},
   "outputs": [],
   "source": [
    "n = 10\n",
    "lsi_model = LsiModel(tf_corpus,id2word=dictionary, num_topics=n)\n",
    "vectorized_corpus = lsi_model[tf_corpus]"
   ]
  },
  {
   "cell_type": "code",
   "execution_count": 39,
   "id": "a88b8103-9ef2-4bd4-bc3c-5ec76e173d38",
   "metadata": {},
   "outputs": [
    {
     "name": "stdout",
     "output_type": "stream",
     "text": [
      "[array([ 0.088603  ,  0.02759086, -0.01090217, -0.02113932, -0.01107879,\n",
      "        0.03481957, -0.033835  ,  0.01503481,  0.04508706, -0.00781211]), array([ 0.22122599,  0.09900455,  0.0738135 ,  0.02001531,  0.14174494,\n",
      "       -0.10231179,  0.10672488,  0.01477079, -0.00629975, -0.0071981 ]), array([ 0.13278458,  0.05741216,  0.04369362,  0.02890696,  0.04499401,\n",
      "       -0.00664067,  0.00151987,  0.0031437 ,  0.03665715,  0.00755519])]\n",
      "2950\n"
     ]
    }
   ],
   "source": [
    "vectorized_corpus_new = []\n",
    "for i in range(len(vectorized_corpus)):\n",
    "    curr = []\n",
    "    for j in range(len(vectorized_corpus[i])):\n",
    "        curr.append(vectorized_corpus[i][j][1])\n",
    "    curr = np.array(curr)\n",
    "    vectorized_corpus_new.append(curr)\n",
    "print(vectorized_corpus_new[0:3])\n",
    "print(len(vectorized_corpus_new))\n",
    "X_train, X_test, y_train, y_test = train_test_split(vectorized_corpus_new, newsgroup.target, test_size=0.33)\n",
    "for i in range(len(X_train)-1,0,-1):\n",
    "    if len(X_train[i])!=n:\n",
    "        X_train.pop(i)\n",
    "        y_train = np.delete(y_train, i, 0)\n",
    "for i in range(len(X_test)-1,0,-1):\n",
    "    if len(X_test[i])!=n:\n",
    "        X_test.pop(i)\n",
    "        y_test = np.delete(y_test, i, 0)"
   ]
  },
  {
   "cell_type": "code",
   "execution_count": 40,
   "id": "69487c68-5a3c-47ba-8eb7-659cd03d7f40",
   "metadata": {},
   "outputs": [],
   "source": [
    "def train(X_train, X_test, y_train, y_test):\n",
    "    clf = DecisionTreeClassifier(random_state=42)\n",
    "    clf.fit(X_train, y_train)\n",
    "    y_pred = clf.predict(X_test)\n",
    "    return f1_score(y_test, y_pred, average='weighted')"
   ]
  },
  {
   "cell_type": "code",
   "execution_count": 41,
   "id": "1f5ab9d9-5d1b-4433-a7f5-747985c056a1",
   "metadata": {
    "scrolled": true
   },
   "outputs": [
    {
     "name": "stdout",
     "output_type": "stream",
     "text": [
      "True\n",
      "0.8157443053308473\n"
     ]
    }
   ],
   "source": [
    "print(len(X_train)==len(y_train) and len(X_test)==len(y_test))\n",
    "print(train(X_train, X_test, y_train, y_test))"
   ]
  },
  {
   "cell_type": "code",
   "execution_count": null,
   "id": "5328f40b-3833-4239-b4a8-95d737c21e2b",
   "metadata": {},
   "outputs": [],
   "source": []
  }
 ],
 "metadata": {
  "kernelspec": {
   "display_name": "Python 3 (ipykernel)",
   "language": "python",
   "name": "python3"
  },
  "language_info": {
   "codemirror_mode": {
    "name": "ipython",
    "version": 3
   },
   "file_extension": ".py",
   "mimetype": "text/x-python",
   "name": "python",
   "nbconvert_exporter": "python",
   "pygments_lexer": "ipython3",
   "version": "3.11.7"
  }
 },
 "nbformat": 4,
 "nbformat_minor": 5
}
