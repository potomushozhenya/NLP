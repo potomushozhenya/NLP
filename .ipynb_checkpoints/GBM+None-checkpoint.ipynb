{
 "cells": [
  {
   "cell_type": "code",
   "execution_count": 65,
   "id": "b2a0b332-c092-45e2-ac49-36e89c38fdb2",
   "metadata": {
    "scrolled": true
   },
   "outputs": [
    {
     "name": "stderr",
     "output_type": "stream",
     "text": [
      "[nltk_data] Downloading package stopwords to\n",
      "[nltk_data]     C:\\Users\\zhest\\AppData\\Roaming\\nltk_data...\n",
      "[nltk_data]   Package stopwords is already up-to-date!\n",
      "[nltk_data] Downloading package punkt to\n",
      "[nltk_data]     C:\\Users\\zhest\\AppData\\Roaming\\nltk_data...\n",
      "[nltk_data]   Package punkt is already up-to-date!\n",
      "[nltk_data] Downloading package wordnet to\n",
      "[nltk_data]     C:\\Users\\zhest\\AppData\\Roaming\\nltk_data...\n",
      "[nltk_data]   Package wordnet is already up-to-date!\n"
     ]
    },
    {
     "name": "stdout",
     "output_type": "stream",
     "text": [
      "1976\n",
      "974\n"
     ]
    }
   ],
   "source": [
    "from sklearn.datasets import fetch_20newsgroups\n",
    "from nltk.stem import WordNetLemmatizer, PorterStemmer\n",
    "from nltk.corpus import stopwords\n",
    "from nltk import word_tokenize\n",
    "import nltk\n",
    "import numpy as np\n",
    "import scipy as sp\n",
    "from sklearn.feature_extraction.text import CountVectorizer, TfidfVectorizer\n",
    "from sklearn.model_selection import train_test_split\n",
    "from sklearn.ensemble import GradientBoostingClassifier\n",
    "from sklearn.metrics import f1_score\n",
    "from tabulate import tabulate\n",
    "nltk.download('stopwords')\n",
    "nltk.download('punkt')\n",
    "nltk.download('wordnet')\n",
    "stop_words = stopwords.words('english')\n",
    "\n",
    "\n",
    "categories = ['rec.autos', 'comp.graphics', 'sci.space']\n",
    "dataset = fetch_20newsgroups(subset='all', categories=categories, shuffle=True)\n",
    "X_train, X_test, y_train, y_test = train_test_split(dataset.data, dataset.target, test_size=0.33, random_state=42)\n",
    "print(len(X_train))\n",
    "print(len(X_test))"
   ]
  },
  {
   "cell_type": "code",
   "execution_count": 66,
   "id": "3386abd2-ced3-4a4e-9ab9-4b0963f9b5d1",
   "metadata": {},
   "outputs": [
    {
     "data": {
      "text/plain": [
       "['From: teckjoo@iti.gov.sg (Chua Teck Joo)\\nSubject: Visuallib (3D graphics for Windows)\\nOrganization: Information Technology Institute, National Computer Board, Singapore.\\nLines: 17\\n\\n\\nI am currently looking for a 3D graphics library that runs on MS\\nWindows 3.1.  Are there any such libraries out there other than\\nVisuallib?  (It must run on VGA and should not require any other\\nadd-on graphics cards).\\n\\nFor Visuallib, will it run with Metaware High C compiler v3.0?  Any\\nemail contact for the author of Visuallib?\\n\\nAny help would be much appreciated.  Thanks.\\n\\n\\n-- \\n* Chua, Teck Joo\\t    | Information Technology Institute *\\n* Email: teckjoo@iti.gov.sg | 71 Science Park Drive\\t       *\\n* Phone: (65) 772-0237 \\t    | Singapore (0511)\\t\\t       *\\n* Fax:   (65) 779-1827      |\\t\\t\\t   \\t       *\\n',\n",
       " 'From: graeme@labtam.labtam.oz.au (Graeme Gill)\\nSubject: Re: looking for circle algorithm faster than Bresenhams\\nOrganization: Labtam Australia Pty. Ltd., Melbourne, Australia\\nLines: 28\\n\\nIn article <1993Apr13.025240.8884@nwnexus.WA.COM>, mpdillon@halcyon.com (Michael Dillon) writes:\\n> I have an algorithm similar to Bresenhams line drawing algorithm, that\\n> draws a line by stepping along the minor axis and drawing slices like\\n> AAAA, BBBB, CCCC in the following diagram.\\n> \\n>      AAAA\\n>          BBBB\\n>              CCCC\\n> \\n\\n\\tYes, that\\'s known as \"Bresenhams Run Length Slice Algorithm for\\nIncremental lines\". See Fundamental Algorithms for Computer Graphics,\\nSpringer-Verlag, Berlin Heidelberg 1985.\\n\\n> I have tried to extrapolate this to circles but I can\\'t figure out\\n> how to determine the length of the slices. Any ideas?\\n\\n\\tHmm. I don\\'t think I can help you with this, but you might\\ntake a look at the following:\\n\\n\\t\"Double-Step Incremental Generation of Lines and Circles\",\\nX. Wu and J. G. Rokne, Computer Graphics and Image processing,\\nVol 37, No. 4, Mar. 1987, pp. 331-334\\n\\n\\t\"Double-Step Generation of Ellipses\", X. Wu and J. G. Rokne,\\nIEEE Computer Graphics & Applications, May 1989, pp. 56-69\\n\\n\\tGraeme Gill.\\n',\n",
       " 'From: boyle@bbsls23.bnr (Ian Boyle)\\nSubject: Re: What is \" Volvo \" ?\\nOrganization: BNR Europe Ltd.\\nLines: 20\\nDistribution: world\\nReply-To: boyle@bbsls23.bnr\\nNNTP-Posting-Host: bbsls23.bnr.co.uk\\n\\n> And all of these cars are driven fairly hard. None of them are at the head of\\n> a line of cars going 30 MPH....the first two spend a lot of their operating\\n> life with the speedometer pegged...and the only reason the 84 doesn\\'t is it has\\n> a 120 MPH speedo...\\n> What I want to know is....have all you people who hate Volvos been traumatized\\n> by someone in a 745 Turbo wagon blowing you away on the road, or what?\\n\\n740 Turbo in UK was good for 124mph. Useful for blowing away VW Beetles, though I\\nbelieve the Beetle corners better. \\n\\nI can say without any doubt that I have never been blown away by any Volvo, ever.\\nI\\'ve been blocked into a few car parks though by shit-head Volvo owners who \\'only thought they\\'d be a few minutes\\'. This does not happen with the owners of any other makes of car.\\n\\nNot sure how long the small shit-box Volvos last - too damn long. The worst car I ever drove was a hired 340. In power, handling and ride it was reminiscent of something\\nfrom the 50s, without the character. The 340 only ceased production a couple of years back. I\\'ve only been a passenger in the big Volvos, but that was enough. I ought to go\\nfor a test drive because they offer some neat gifts.\\n\\n\\n\\n\\n']"
      ]
     },
     "execution_count": 66,
     "metadata": {},
     "output_type": "execute_result"
    }
   ],
   "source": [
    "X_train[0:3]"
   ]
  },
  {
   "cell_type": "code",
   "execution_count": 67,
   "id": "664d6268-f39f-470c-8309-532c2e5ecc0e",
   "metadata": {},
   "outputs": [
    {
     "data": {
      "text/plain": [
       "array([0, 0, 1], dtype=int64)"
      ]
     },
     "execution_count": 67,
     "metadata": {},
     "output_type": "execute_result"
    }
   ],
   "source": [
    "y_train[0:3]"
   ]
  },
  {
   "cell_type": "code",
   "execution_count": 68,
   "id": "808e2544-5ffa-4fed-aacd-b90b13ef7526",
   "metadata": {},
   "outputs": [],
   "source": [
    "def lemmatizeText(input):\n",
    "    lemmatizer = WordNetLemmatizer()\n",
    "    #Tokenizers divide strings into lists of substrings\n",
    "    wordList = word_tokenize(input)\n",
    "    output = ' '.join([lemmatizer.lemmatize(w) for w in wordList])\n",
    "    return output"
   ]
  },
  {
   "cell_type": "code",
   "execution_count": 69,
   "id": "94645376-03dc-40dc-985e-f5c158805519",
   "metadata": {},
   "outputs": [],
   "source": [
    "def stemText(input):\n",
    "    stemmer = PorterStemmer()\n",
    "    wordList = word_tokenize(input)\n",
    "    output = ' '.join([stemmer.stem(w) for w in wordList])\n",
    "    return output"
   ]
  },
  {
   "cell_type": "code",
   "execution_count": 70,
   "id": "d463eaa7-3ec5-427a-ad79-c333318fb4d1",
   "metadata": {},
   "outputs": [],
   "source": [
    "def train(X_train, X_test, y_train, y_test, n):\n",
    "    X_train = sp.sparse.csr_matrix(X_train)\n",
    "    X_test = sp.sparse.csr_matrix(X_test)\n",
    "    clf = GradientBoostingClassifier(n_estimators=n)\n",
    "    clf.fit(X_train, y_train)\n",
    "    y_pred = clf.predict(X_test)\n",
    "    return f1_score(y_test, y_pred, average='weighted')"
   ]
  },
  {
   "cell_type": "code",
   "execution_count": 71,
   "id": "f2f1929f-1c48-479c-a4b5-3f1bc81fb252",
   "metadata": {},
   "outputs": [],
   "source": [
    "def textProcessing(unprocessedTexts, function=None):\n",
    "    if function is None:\n",
    "        return unprocessedTexts\n",
    "    return [function(text) for text in unprocessedTexts]"
   ]
  },
  {
   "cell_type": "code",
   "execution_count": 73,
   "id": "edec5427-0587-4666-a6fd-a3bda5a9f2ae",
   "metadata": {
    "scrolled": true
   },
   "outputs": [
    {
     "name": "stdout",
     "output_type": "stream",
     "text": [
      "Maximum: 0.9264552322098696\n",
      "------------  ------------------  ------------------  ------------------\n",
      "n=50          None                Stemming            Lemmatizer\n",
      "One-hot       0.9232354966415063  0.9231180590130579  0.9213882618814576\n",
      "Bag of words  0.9200817488560322  0.9250892106784212  0.9264552322098696\n",
      "Tf-idf        0.9180900776605316  0.9189877754417821  0.9141685848458784\n",
      "------------  ------------------  ------------------  ------------------\n",
      "Maximum: 0.9374857699659098\n",
      "------------  ------------------  ------------------  ------------------\n",
      "n=75          None                Stemming            Lemmatizer\n",
      "One-hot       0.9374857699659098  0.9363297422506063  0.935574326995293\n",
      "Bag of words  0.9344377833505841  0.93736417506047    0.9365788007685016\n",
      "Tf-idf        0.9262783269694164  0.9342632502591427  0.9262699422329619\n",
      "------------  ------------------  ------------------  ------------------\n",
      "Maximum: 0.9435208831519165\n",
      "------------  ------------------  ------------------  ------------------\n",
      "n=100         None                Stemming            Lemmatizer\n",
      "One-hot       0.9426340114883661  0.9415328406892322  0.9385823315494275\n",
      "Bag of words  0.9395447907022828  0.9435208831519165  0.9415957671325571\n",
      "Tf-idf        0.930479566643512   0.9424967464132242  0.929337925264638\n",
      "------------  ------------------  ------------------  ------------------\n",
      "Maximum: 0.9518188482941468\n",
      "------------  ------------------  ------------------  ------------------\n",
      "n=200         None                Stemming            Lemmatizer\n",
      "One-hot       0.9518188482941468  0.9496577266068852  0.946665134679566\n",
      "Bag of words  0.9446586188938719  0.9506914465494006  0.9456654928158841\n",
      "Tf-idf        0.9344607730396737  0.9507477132775506  0.9333219706290456\n",
      "------------  ------------------  ------------------  ------------------\n",
      "Maximum: 0.9588836257855765\n",
      "------------  ------------------  ------------------  ------------------\n",
      "n=500         None                Stemming            Lemmatizer\n",
      "One-hot       0.9569434515028558  0.9588836257855765  0.9528134052668807\n",
      "Bag of words  0.9518287586338137  0.9568428787925344  0.9517881410407072\n",
      "Tf-idf        0.9416459380450102  0.9548371289901065  0.9415496699403699\n",
      "------------  ------------------  ------------------  ------------------\n",
      "Maximum: 0.9599302930087965\n",
      "------------  ------------------  ------------------  ------------------\n",
      "n=750         None                Stemming            Lemmatizer\n",
      "One-hot       0.9569171591151109  0.9599302930087965  0.9559302114252547\n",
      "Bag of words  0.953862650226523   0.9589205633433159  0.9549009925611427\n",
      "Tf-idf        0.946704488182965   0.9568942165458815  0.9476777065084472\n",
      "------------  ------------------  ------------------  ------------------\n",
      "Maximum: 0.9640244498413285\n",
      "------------  ------------------  ------------------  ------------------\n",
      "n=1000        None                Stemming            Lemmatizer\n",
      "One-hot       0.9569171591151109  0.9640244498413285  0.9538716630575313\n",
      "Bag of words  0.9559185576316704  0.9579016474061467  0.9528613756252325\n",
      "Tf-idf        0.9497894779054523  0.9568852214744785  0.9425209308574309\n",
      "------------  ------------------  ------------------  ------------------\n"
     ]
    }
   ],
   "source": [
    "for n in [50,75,100,200,500,750,1000]:\n",
    "    tableText = [[\"\" for j in range(4)] for i in range(4)]\n",
    "    tableText[0] = [f\"n={n}\", \"None\", \"Stemming\", \"Lemmatizer\"]\n",
    "    tableText[1][0] = \"One-hot\"\n",
    "    tableText[2][0] = \"Bag of words\"\n",
    "    tableText[3][0] = \"Tf-idf\"\n",
    "    for i in range(3):\n",
    "        if i==0:\n",
    "            func = None\n",
    "        if i==1:\n",
    "            func = stemText\n",
    "        if i==2:\n",
    "            func = lemmatizeText\n",
    "        preprocessedTrain = textProcessing(X_train, func)\n",
    "        preprocessedTest = textProcessing(X_test, func)\n",
    "        for j in range(3):\n",
    "            if j==0:\n",
    "                vect = CountVectorizer(binary=True, stop_words=stop_words)\n",
    "            if j==1:\n",
    "                vect = CountVectorizer(binary=False, stop_words=stop_words)\n",
    "            if j==2:\n",
    "                vect = TfidfVectorizer(stop_words=stop_words)\n",
    "            train_vec = vect.fit_transform(preprocessedTrain)\n",
    "            test_vec = vect.transform(preprocessedTest)\n",
    "            \n",
    "            f1 = train(train_vec, test_vec, y_train, y_test, n)\n",
    "            tableText[j+1][i+1] = f1\n",
    "    list = [max(tableText[i][1:]) for i in range(1,4)]\n",
    "    maximum = max(list)\n",
    "    print(f\"Maximum: {maximum}\")\n",
    "    print(tabulate(tableText))"
   ]
  },
  {
   "cell_type": "code",
   "execution_count": null,
   "id": "ea23ca2a-e675-461a-81a7-de514c0a4d05",
   "metadata": {},
   "outputs": [],
   "source": []
  }
 ],
 "metadata": {
  "kernelspec": {
   "display_name": "Python 3 (ipykernel)",
   "language": "python",
   "name": "python3"
  },
  "language_info": {
   "codemirror_mode": {
    "name": "ipython",
    "version": 3
   },
   "file_extension": ".py",
   "mimetype": "text/x-python",
   "name": "python",
   "nbconvert_exporter": "python",
   "pygments_lexer": "ipython3",
   "version": "3.11.7"
  }
 },
 "nbformat": 4,
 "nbformat_minor": 5
}
