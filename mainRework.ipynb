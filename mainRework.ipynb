{
 "cells": [
  {
   "cell_type": "code",
   "execution_count": 8,
   "id": "e9dab756-2ebc-42c1-8f18-4ad19b29754d",
   "metadata": {},
   "outputs": [
    {
     "name": "stderr",
     "output_type": "stream",
     "text": [
      "[nltk_data] Downloading package stopwords to\n",
      "[nltk_data]     C:\\Users\\user\\AppData\\Roaming\\nltk_data...\n",
      "[nltk_data]   Package stopwords is already up-to-date!\n"
     ]
    },
    {
     "name": "stdout",
     "output_type": "stream",
     "text": [
      "(2950,)\n"
     ]
    }
   ],
   "source": [
    "import numpy as np\n",
    "import nltk\n",
    "from sklearn.datasets import fetch_20newsgroups\n",
    "from sklearn.model_selection import train_test_split\n",
    "from sklearn.feature_extraction.text import TfidfVectorizer\n",
    "from sklearn.tree import DecisionTreeClassifier\n",
    "from sklearn.metrics import f1_score\n",
    "from gensim.utils import simple_preprocess\n",
    "from gensim.models import TfidfModel, LsiModel\n",
    "from gensim import corpora\n",
    "nltk.download('stopwords')\n",
    "stop_words = nltk.corpus.stopwords.words('english')\n",
    "\n",
    "categories = ['rec.autos', 'comp.graphics', 'sci.space']\n",
    "n = len(categories)\n",
    "newsgroup = fetch_20newsgroups(subset='all', categories=categories, shuffle=True, remove=('headers', 'footers', 'quotes'))\n",
    "print(newsgroup.filenames.shape)"
   ]
  },
  {
   "cell_type": "code",
   "execution_count": 13,
   "id": "07ccbbac-1eb4-421c-b741-81a29f22c47b",
   "metadata": {},
   "outputs": [],
   "source": [
    "tokenized_documents = [simple_preprocess(text) for text in newsgroup.data]\n",
    "dictionary = corpora.Dictionary(tokenized_documents)\n",
    "bow_corpus = [dictionary.doc2bow(doc) for doc in tokenized_documents]\n",
    "modelTf = TfidfModel(bow_corpus)\n",
    "tf_corpus = [modelTf[corpus_item] for corpus_item in bow_corpus]"
   ]
  },
  {
   "cell_type": "code",
   "execution_count": 14,
   "id": "78c76bea-d5a1-4047-b2fa-aa49e402b794",
   "metadata": {},
   "outputs": [],
   "source": [
    "lsi_model = LsiModel(tf_corpus,id2word=dictionary, num_topics=10)\n",
    "vectorized_corpus = lsi_model[tf_corpus]"
   ]
  },
  {
   "cell_type": "code",
   "execution_count": 15,
   "id": "a88b8103-9ef2-4bd4-bc3c-5ec76e173d38",
   "metadata": {},
   "outputs": [
    {
     "name": "stdout",
     "output_type": "stream",
     "text": [
      "[array([ 0.08855883, -0.02869108,  0.01257973, -0.01696853, -0.01104496,\n",
      "       -0.02606457, -0.03611559, -0.00641227, -0.03173769,  0.00714616]), array([ 0.22121344, -0.09886153, -0.06938536,  0.01602977,  0.13628215,\n",
      "        0.10773511,  0.11459749, -0.01531818,  0.0252623 ,  0.01510546]), array([ 0.13276861, -0.05703473, -0.04403674,  0.02956769,  0.04425935,\n",
      "        0.00974707, -0.0017282 , -0.00063986, -0.03447497, -0.00461112])]\n",
      "2950\n"
     ]
    }
   ],
   "source": [
    "vectorized_corpus_new = []\n",
    "for i in range(len(vectorized_corpus)):\n",
    "    curr = []\n",
    "    for j in range(len(vectorized_corpus[i])):\n",
    "        curr.append(vectorized_corpus[i][j][1])\n",
    "    curr = np.array(curr)\n",
    "    vectorized_corpus_new.append(curr)\n",
    "print(vectorized_corpus_new[0:3])\n",
    "print(len(vectorized_corpus_new))\n",
    "X_train, X_test, y_train, y_test = train_test_split(vectorized_corpus_new, newsgroup.target, test_size=0.33)\n",
    "for i in range(len(X_train)-1,0,-1):\n",
    "    if len(X_train[i])!=10:\n",
    "        X_train.pop(i)\n",
    "        y_train = np.delete(y_train, i, 0)\n",
    "for i in range(len(X_test)-1,0,-1):\n",
    "    if len(X_test[i])!=10:\n",
    "        X_test.pop(i)\n",
    "        y_test = np.delete(y_test, i, 0)"
   ]
  },
  {
   "cell_type": "code",
   "execution_count": 16,
   "id": "69487c68-5a3c-47ba-8eb7-659cd03d7f40",
   "metadata": {},
   "outputs": [],
   "source": [
    "def train(X_train, X_test, y_train, y_test):\n",
    "    clf = DecisionTreeClassifier(random_state=42)\n",
    "    clf.fit(X_train, y_train)\n",
    "    y_pred = clf.predict(X_test)\n",
    "    return f1_score(y_test, y_pred, average='weighted')"
   ]
  },
  {
   "cell_type": "code",
   "execution_count": 17,
   "id": "1f5ab9d9-5d1b-4433-a7f5-747985c056a1",
   "metadata": {
    "scrolled": true
   },
   "outputs": [
    {
     "name": "stdout",
     "output_type": "stream",
     "text": [
      "True\n",
      "0.8110685961484335\n"
     ]
    }
   ],
   "source": [
    "print(len(X_train)==len(y_train) and len(X_test)==len(y_test))\n",
    "print(train(X_train, X_test, y_train, y_test))"
   ]
  },
  {
   "cell_type": "code",
   "execution_count": null,
   "id": "5328f40b-3833-4239-b4a8-95d737c21e2b",
   "metadata": {},
   "outputs": [],
   "source": []
  }
 ],
 "metadata": {
  "kernelspec": {
   "display_name": "Python 3 (ipykernel)",
   "language": "python",
   "name": "python3"
  },
  "language_info": {
   "codemirror_mode": {
    "name": "ipython",
    "version": 3
   },
   "file_extension": ".py",
   "mimetype": "text/x-python",
   "name": "python",
   "nbconvert_exporter": "python",
   "pygments_lexer": "ipython3",
   "version": "3.11.7"
  }
 },
 "nbformat": 4,
 "nbformat_minor": 5
}
